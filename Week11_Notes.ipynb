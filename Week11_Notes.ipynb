{
  "nbformat": 4,
  "nbformat_minor": 0,
  "metadata": {
    "colab": {
      "provenance": []
    },
    "kernelspec": {
      "name": "python3",
      "display_name": "Python 3"
    },
    "language_info": {
      "name": "python"
    }
  },
  "cells": [
    {
      "cell_type": "markdown",
      "source": [
        "# Lists\n",
        "\n",
        "*PY4E Textbook*"
      ],
      "metadata": {
        "id": "lmIJCaEDkRjJ"
      }
    },
    {
      "cell_type": "markdown",
      "source": [
        "## A list is a sequence\n",
        "Like a string, a list is a sequence of values. In a string, the values are characters; in a list, they can be any type. The values in lists are called *elements* or sometimes *items*.\n",
        "\n",
        "\n",
        "There are several ways to create a new list; the simplest is to enclose the elements in square brackets (“[” and ”]”):"
      ],
      "metadata": {
        "id": "uQfAnVvmkYiA"
      }
    },
    {
      "cell_type": "code",
      "source": [
        "[10, 20, 30, 40]"
      ],
      "metadata": {
        "colab": {
          "base_uri": "https://localhost:8080/"
        },
        "id": "r4WS4JABkwH9",
        "outputId": "3d035d8c-6de2-4239-e6fc-5b97647a5254"
      },
      "execution_count": null,
      "outputs": [
        {
          "output_type": "execute_result",
          "data": {
            "text/plain": [
              "[10, 20, 30, 40]"
            ]
          },
          "metadata": {},
          "execution_count": 2
        }
      ]
    },
    {
      "cell_type": "code",
      "execution_count": null,
      "metadata": {
        "colab": {
          "base_uri": "https://localhost:8080/"
        },
        "id": "R4b0pY37i7hb",
        "outputId": "52f3cd48-0d96-49fd-fe5e-4213f2002a87"
      },
      "outputs": [
        {
          "output_type": "execute_result",
          "data": {
            "text/plain": [
              "['crunchy frog', 'ram bladder', 'lark vomit']"
            ]
          },
          "metadata": {},
          "execution_count": 1
        }
      ],
      "source": [
        "['crunchy frog', 'ram bladder', 'lark vomit']"
      ]
    },
    {
      "cell_type": "markdown",
      "source": [
        "The first example is a list of four integers. The second is a list of three strings. The elements of a list don’t have to be the same type. The following list contains a string, a float, an integer, and (lo!) another list:"
      ],
      "metadata": {
        "id": "lZxDo1m7ksDm"
      }
    },
    {
      "cell_type": "code",
      "source": [
        "['spam', 2.0, 5, [10, 20]]"
      ],
      "metadata": {
        "colab": {
          "base_uri": "https://localhost:8080/"
        },
        "id": "Y35Hzc3Ok01A",
        "outputId": "6c5eced4-ada1-4584-8607-330166a399f3"
      },
      "execution_count": null,
      "outputs": [
        {
          "output_type": "execute_result",
          "data": {
            "text/plain": [
              "['spam', 2.0, 5, [10, 20]]"
            ]
          },
          "metadata": {},
          "execution_count": 3
        }
      ]
    },
    {
      "cell_type": "markdown",
      "source": [
        "A list within another list is *nested*.\n",
        "\n",
        "\n",
        "A list that contains no elements is called an empty list; you can create one with empty brackets, [].\n",
        "\n",
        "\n",
        "As you might expect, you can assign list values to variables:"
      ],
      "metadata": {
        "id": "-7vwYIDMk55g"
      }
    },
    {
      "cell_type": "code",
      "source": [
        "cheeses = ['Cheddar', 'Edam', 'Gouda']\n",
        "numbers = [17, 123]\n",
        "empty = []\n",
        "print(cheeses, numbers, empty)\n",
        "print(cheeses[2])"
      ],
      "metadata": {
        "colab": {
          "base_uri": "https://localhost:8080/"
        },
        "id": "RrcHwhXfk8Gg",
        "outputId": "68b8ad4a-5328-4c60-edf5-8148cfd93bf9"
      },
      "execution_count": 5,
      "outputs": [
        {
          "output_type": "stream",
          "name": "stdout",
          "text": [
            "['Cheddar', 'Edam', 'Gouda'] [17, 123] []\n",
            "Gouda\n"
          ]
        }
      ]
    },
    {
      "cell_type": "markdown",
      "source": [
        "## Lists are mutable\n",
        "\n",
        "The syntax for accessing the elements of a list is the same as for accessing the characters of a string: the bracket operator. The expression inside the brackets specifies the index. Remember that the indices start at 0:"
      ],
      "metadata": {
        "id": "p8MipvqblDJY"
      }
    },
    {
      "cell_type": "code",
      "source": [
        "print(cheeses[0])"
      ],
      "metadata": {
        "colab": {
          "base_uri": "https://localhost:8080/",
          "height": 141
        },
        "id": "FYhWtQn8lJgB",
        "outputId": "5b8d23d8-c1bc-4eea-aaa5-73f37b79c3c6"
      },
      "execution_count": 2,
      "outputs": [
        {
          "output_type": "error",
          "ename": "NameError",
          "evalue": "name 'cheeses' is not defined",
          "traceback": [
            "\u001b[0;31m---------------------------------------------------------------------------\u001b[0m",
            "\u001b[0;31mNameError\u001b[0m                                 Traceback (most recent call last)",
            "\u001b[0;32m<ipython-input-2-09128f144e50>\u001b[0m in \u001b[0;36m<cell line: 0>\u001b[0;34m()\u001b[0m\n\u001b[0;32m----> 1\u001b[0;31m \u001b[0mprint\u001b[0m\u001b[0;34m(\u001b[0m\u001b[0mcheeses\u001b[0m\u001b[0;34m[\u001b[0m\u001b[0;36m0\u001b[0m\u001b[0;34m]\u001b[0m\u001b[0;34m)\u001b[0m\u001b[0;34m\u001b[0m\u001b[0;34m\u001b[0m\u001b[0m\n\u001b[0m",
            "\u001b[0;31mNameError\u001b[0m: name 'cheeses' is not defined"
          ]
        }
      ]
    },
    {
      "cell_type": "markdown",
      "source": [
        "Unlike strings, lists are mutable because you can change the order of items in a list or reassign an item in a list. When the bracket operator appears on the left side of an assignment, it identifies the element of the list that will be assigned."
      ],
      "metadata": {
        "id": "GBsRuI29lO_Q"
      }
    },
    {
      "cell_type": "code",
      "source": [
        "numbers = [17, 123]\n",
        "numbers[1] = 5\n",
        "print(numbers)"
      ],
      "metadata": {
        "colab": {
          "base_uri": "https://localhost:8080/"
        },
        "id": "zjT4PHDZlRWg",
        "outputId": "be2439e5-a8ae-419e-fd8a-00d73e641cb3"
      },
      "execution_count": 15,
      "outputs": [
        {
          "output_type": "stream",
          "name": "stdout",
          "text": [
            "[17, 5]\n"
          ]
        }
      ]
    },
    {
      "cell_type": "markdown",
      "source": [
        "The one-th element of `numbers`, which used to be 123, is now 5.\n",
        "\n",
        "\n",
        "You can think of a list as a relationship between indices and elements. This relationship is called a *mapping*; each index “maps to” one of the elements.\n",
        "\n",
        "\n",
        "List indices work the same way as string indices:\n",
        "\n",
        "- Any integer expression can be used as an index.\n",
        "\n",
        "- If you try to read or write an element that does not exist, you get an `IndexError`.\n",
        "\n",
        "- If an index has a negative value, it counts backward from the end of the list.\n",
        "\n",
        "The `in` operator also works on lists."
      ],
      "metadata": {
        "id": "ggD6_-pzlbjg"
      }
    },
    {
      "cell_type": "code",
      "source": [
        "cheeses = ['Feta', 'Cheddar', 'Ricotta', 'Mozzarella', 'Edam', 'Gouda']\n",
        "print('Edam' in cheeses)\n",
        "\n",
        "print('Brie' in cheeses)\n"
      ],
      "metadata": {
        "colab": {
          "base_uri": "https://localhost:8080/"
        },
        "id": "YQ_z9pd2lr1Q",
        "outputId": "c3731f23-fd02-4f93-8e19-a60f1babfcec"
      },
      "execution_count": null,
      "outputs": [
        {
          "output_type": "stream",
          "name": "stdout",
          "text": [
            "True\n",
            "False\n"
          ]
        }
      ]
    },
    {
      "cell_type": "markdown",
      "source": [
        "## Traversing a list\n",
        "\n",
        "The most common way to traverse the elements of a list is with a `for` loop. The syntax is the same as for strings:"
      ],
      "metadata": {
        "id": "Yd067mE7l4Uw"
      }
    },
    {
      "cell_type": "code",
      "source": [
        "for cheese_name in cheeses:\n",
        "    print(cheese_name)\n",
        "print()\n",
        "for cheese_name in sorted(cheeses):\n",
        "    print(cheese_name)\n",
        "print()\n",
        "for cheese_name in sorted(cheeses, reverse=True):\n",
        "    print(cheese_name)"
      ],
      "metadata": {
        "colab": {
          "base_uri": "https://localhost:8080/"
        },
        "id": "FntBWq1NmAjo",
        "outputId": "a18138e9-5e27-49e6-d3ce-30f901df61a5"
      },
      "execution_count": null,
      "outputs": [
        {
          "output_type": "stream",
          "name": "stdout",
          "text": [
            "Feta\n",
            "Cheddar\n",
            "Ricotta\n",
            "Mozzarella\n",
            "Edam\n",
            "Gouda\n",
            "\n",
            "Cheddar\n",
            "Edam\n",
            "Feta\n",
            "Gouda\n",
            "Mozzarella\n",
            "Ricotta\n",
            "\n",
            "Ricotta\n",
            "Mozzarella\n",
            "Gouda\n",
            "Feta\n",
            "Edam\n",
            "Cheddar\n"
          ]
        }
      ]
    },
    {
      "cell_type": "markdown",
      "source": [
        "This works well if you only need to read the elements of the list. But if you want to write or update the elements, you need the indices. A common way to do that is to combine the functions `range` and `len`:"
      ],
      "metadata": {
        "id": "K2siaPJTmAEY"
      }
    },
    {
      "cell_type": "code",
      "source": [
        "numbers = [1, 2, 3, 4]\n",
        "for i in range(len(numbers)):\n",
        "    numbers[i] = numbers[i] * 2\n",
        "print(numbers)"
      ],
      "metadata": {
        "colab": {
          "base_uri": "https://localhost:8080/"
        },
        "id": "kZjB6nJgnOXX",
        "outputId": "034fbc77-65bc-4fc6-97dc-8cdca2ccc2a0"
      },
      "execution_count": null,
      "outputs": [
        {
          "output_type": "stream",
          "name": "stdout",
          "text": [
            "[2, 4, 6, 8]\n"
          ]
        }
      ]
    },
    {
      "cell_type": "code",
      "source": [
        "numbers = [1, 2, 3, 4]\n",
        "print(len(numbers))\n",
        "print(range(len(numbers)))"
      ],
      "metadata": {
        "id": "cwgeB-6tSGz7",
        "outputId": "54780e39-325b-4130-f3d0-1a8989e176dd",
        "colab": {
          "base_uri": "https://localhost:8080/"
        }
      },
      "execution_count": 13,
      "outputs": [
        {
          "output_type": "stream",
          "name": "stdout",
          "text": [
            "4\n",
            "range(0, 4)\n"
          ]
        }
      ]
    },
    {
      "cell_type": "markdown",
      "source": [
        "Purpose: This loop goes through each element of the `numbers` list, multiplies it by 2, and updates the list with the new values.\n",
        "\n",
        "This loop traverses the list and updates each element. `len` returns the number of elements in the list. `range` returns a list of indices from 0 to n − 1, where n is the length of the list. Each time through the loop, `i` gets the index of the next element. The assignment statement in the body uses `i` to read the old value of the element and to assign the new value.\n",
        "\n"
      ],
      "metadata": {
        "id": "mVCCXHuennbn"
      }
    },
    {
      "cell_type": "markdown",
      "source": [
        "**Why Use a `for` Loop?**\n",
        "\n",
        "In this case, a `for` loop is suitable because the number of iterations is known in advance. Specifically:\n",
        "\n",
        "- We know that the loop needs to run a fixed number of times, which is the length of the list `(len(numbers))`.\n",
        "- A `for` loop is generally preferred for iterating over a sequence when the range or number of elements is predefined or easy to determine."
      ],
      "metadata": {
        "id": "K_YWF8SQrkDP"
      }
    },
    {
      "cell_type": "markdown",
      "source": [
        "**Possible to Use a `while` Loop?**\n",
        "\n",
        "Yes, you can use a `while` loop to achieve the same result. Here's how you could rewrite it with a `while` loop:"
      ],
      "metadata": {
        "id": "OPMu22r9r4cp"
      }
    },
    {
      "cell_type": "code",
      "source": [
        "numbers = [1, 2, 3, 4]\n",
        "i = 0\n",
        "while i < len(numbers):\n",
        "    numbers[i] = numbers[i] * 2\n",
        "    i += 1\n",
        "print(numbers)"
      ],
      "metadata": {
        "colab": {
          "base_uri": "https://localhost:8080/"
        },
        "id": "3l7lPZKlr93H",
        "outputId": "e7937b80-0ac5-4408-e3d7-e37eb3746ae4"
      },
      "execution_count": null,
      "outputs": [
        {
          "output_type": "stream",
          "name": "stdout",
          "text": [
            "[2, 4, 6, 8]\n"
          ]
        }
      ]
    },
    {
      "cell_type": "markdown",
      "source": [
        "**Which is Better?**\n",
        "\n",
        "In this example, a `for` loop is generally better suited and more readable because it clearly indicates the range of iteration upfront.\n",
        "\n",
        "However, if you want more control over the loop’s flow based on a condition (e.g., break out of the loop early when a certain condition is met), a `while` loop can be more flexible."
      ],
      "metadata": {
        "id": "htPdBz27scvg"
      }
    },
    {
      "cell_type": "markdown",
      "source": [
        "A `for` loop over an empty list never executes the body:"
      ],
      "metadata": {
        "id": "nhE8BS5frnqP"
      }
    },
    {
      "cell_type": "code",
      "source": [
        "empty = []\n",
        "for x in empty:\n",
        "    print('This never happens.')"
      ],
      "metadata": {
        "id": "sWs5SGUUnuaQ"
      },
      "execution_count": null,
      "outputs": []
    },
    {
      "cell_type": "markdown",
      "source": [
        "Although a list can contain another list, the nested list still counts as a single element. The length of this list is four:"
      ],
      "metadata": {
        "id": "ELOlUBfGnwu3"
      }
    },
    {
      "cell_type": "code",
      "source": [
        "nested_list = ['spam', 1, ['Brie', 'Roquefort', 'Pol le Veq'], [1, 2, 3]]\n",
        "print(len(nested_list))\n",
        "print(nested_list[3])\n",
        "print(nested_list[3][1]) # This approach works for any depth of nesting, as long as you continue to add indices for each level."
      ],
      "metadata": {
        "colab": {
          "base_uri": "https://localhost:8080/"
        },
        "id": "wKKZsnzcnzfB",
        "outputId": "b202bda9-e8db-4697-8e45-41720ca83370"
      },
      "execution_count": 16,
      "outputs": [
        {
          "output_type": "stream",
          "name": "stdout",
          "text": [
            "4\n",
            "[1, 2, 3]\n",
            "2\n"
          ]
        }
      ]
    },
    {
      "cell_type": "markdown",
      "source": [
        "## List operations\n",
        "\n",
        "The `+` operator concatenates lists:"
      ],
      "metadata": {
        "id": "AVYIlb3NrBZo"
      }
    },
    {
      "cell_type": "code",
      "source": [
        "a = [1, 2, 3]\n",
        "b = [4, 5, 6]\n",
        "c = a + b\n",
        "print(c)"
      ],
      "metadata": {
        "colab": {
          "base_uri": "https://localhost:8080/"
        },
        "id": "DBEFTB7pszfH",
        "outputId": "02910246-8ef0-401d-ead3-bd61598f37b3"
      },
      "execution_count": null,
      "outputs": [
        {
          "output_type": "stream",
          "name": "stdout",
          "text": [
            "[1, 2, 3, 4, 5, 6]\n"
          ]
        }
      ]
    },
    {
      "cell_type": "markdown",
      "source": [
        "Similarly, the `*` operator repeats a list a given number of times:"
      ],
      "metadata": {
        "id": "92dNY78Ns3GP"
      }
    },
    {
      "cell_type": "code",
      "source": [
        "print([0] * 4)\n",
        "print([1, 2, 3] * 3)"
      ],
      "metadata": {
        "colab": {
          "base_uri": "https://localhost:8080/"
        },
        "id": "tXj7nWccs4ff",
        "outputId": "6b642131-24d9-4e12-b22f-808cc89c0d8c"
      },
      "execution_count": null,
      "outputs": [
        {
          "output_type": "stream",
          "name": "stdout",
          "text": [
            "[0, 0, 0, 0]\n",
            "[1, 2, 3, 1, 2, 3, 1, 2, 3]\n"
          ]
        }
      ]
    },
    {
      "cell_type": "markdown",
      "source": [
        "**How to add corresponding elements from two lists (`a` and `b`)?**\n",
        "\n",
        "You can use a for loop to iterate through both lists simultaneously and store the sums in a new list."
      ],
      "metadata": {
        "id": "stOdASuftbfP"
      }
    },
    {
      "cell_type": "code",
      "source": [
        "a = [1, 2, 3]\n",
        "b = [4, 5, 6]\n",
        "\n",
        "# Using a list comprehension\n",
        "c = [a[i] + b[i] for i in range(len(a))]\n",
        "print(c)"
      ],
      "metadata": {
        "colab": {
          "base_uri": "https://localhost:8080/"
        },
        "id": "-lo_CIpJtwvJ",
        "outputId": "0347a8df-aeeb-43d5-a626-b1b934b03111"
      },
      "execution_count": null,
      "outputs": [
        {
          "output_type": "stream",
          "name": "stdout",
          "text": [
            "[5, 7, 9]\n"
          ]
        }
      ]
    },
    {
      "cell_type": "markdown",
      "source": [
        "The `range(len(a))` generates indices for the elements in list `a` (or list `b` since they are the same length)."
      ],
      "metadata": {
        "id": "TuBp0tspsyvQ"
      }
    },
    {
      "cell_type": "code",
      "source": [
        "a = [1, 2, 3, 4]\n",
        "b = [5, 6, 7]\n",
        "\n",
        "# Using a list comprehension\n",
        "c = [a[i] + b[i] for i in range(len(a))]\n",
        "print(c)"
      ],
      "metadata": {
        "colab": {
          "base_uri": "https://localhost:8080/",
          "height": 297
        },
        "id": "GyaFrlWJuX8_",
        "outputId": "e35ec979-558d-432c-9766-4a08f513b386"
      },
      "execution_count": null,
      "outputs": [
        {
          "output_type": "error",
          "ename": "IndexError",
          "evalue": "list index out of range",
          "traceback": [
            "\u001b[0;31m---------------------------------------------------------------------------\u001b[0m",
            "\u001b[0;31mIndexError\u001b[0m                                Traceback (most recent call last)",
            "\u001b[0;32m<ipython-input-25-2d1f2a0fcb98>\u001b[0m in \u001b[0;36m<cell line: 5>\u001b[0;34m()\u001b[0m\n\u001b[1;32m      3\u001b[0m \u001b[0;34m\u001b[0m\u001b[0m\n\u001b[1;32m      4\u001b[0m \u001b[0;31m# Using a list comprehension\u001b[0m\u001b[0;34m\u001b[0m\u001b[0;34m\u001b[0m\u001b[0m\n\u001b[0;32m----> 5\u001b[0;31m \u001b[0mc\u001b[0m \u001b[0;34m=\u001b[0m \u001b[0;34m[\u001b[0m\u001b[0ma\u001b[0m\u001b[0;34m[\u001b[0m\u001b[0mi\u001b[0m\u001b[0;34m]\u001b[0m \u001b[0;34m+\u001b[0m \u001b[0mb\u001b[0m\u001b[0;34m[\u001b[0m\u001b[0mi\u001b[0m\u001b[0;34m]\u001b[0m \u001b[0;32mfor\u001b[0m \u001b[0mi\u001b[0m \u001b[0;32min\u001b[0m \u001b[0mrange\u001b[0m\u001b[0;34m(\u001b[0m\u001b[0mlen\u001b[0m\u001b[0;34m(\u001b[0m\u001b[0ma\u001b[0m\u001b[0;34m)\u001b[0m\u001b[0;34m)\u001b[0m\u001b[0;34m]\u001b[0m\u001b[0;34m\u001b[0m\u001b[0;34m\u001b[0m\u001b[0m\n\u001b[0m\u001b[1;32m      6\u001b[0m \u001b[0mprint\u001b[0m\u001b[0;34m(\u001b[0m\u001b[0mc\u001b[0m\u001b[0;34m)\u001b[0m\u001b[0;34m\u001b[0m\u001b[0;34m\u001b[0m\u001b[0m\n",
            "\u001b[0;32m<ipython-input-25-2d1f2a0fcb98>\u001b[0m in \u001b[0;36m<listcomp>\u001b[0;34m(.0)\u001b[0m\n\u001b[1;32m      3\u001b[0m \u001b[0;34m\u001b[0m\u001b[0m\n\u001b[1;32m      4\u001b[0m \u001b[0;31m# Using a list comprehension\u001b[0m\u001b[0;34m\u001b[0m\u001b[0;34m\u001b[0m\u001b[0m\n\u001b[0;32m----> 5\u001b[0;31m \u001b[0mc\u001b[0m \u001b[0;34m=\u001b[0m \u001b[0;34m[\u001b[0m\u001b[0ma\u001b[0m\u001b[0;34m[\u001b[0m\u001b[0mi\u001b[0m\u001b[0;34m]\u001b[0m \u001b[0;34m+\u001b[0m \u001b[0mb\u001b[0m\u001b[0;34m[\u001b[0m\u001b[0mi\u001b[0m\u001b[0;34m]\u001b[0m \u001b[0;32mfor\u001b[0m \u001b[0mi\u001b[0m \u001b[0;32min\u001b[0m \u001b[0mrange\u001b[0m\u001b[0;34m(\u001b[0m\u001b[0mlen\u001b[0m\u001b[0;34m(\u001b[0m\u001b[0ma\u001b[0m\u001b[0;34m)\u001b[0m\u001b[0;34m)\u001b[0m\u001b[0;34m]\u001b[0m\u001b[0;34m\u001b[0m\u001b[0;34m\u001b[0m\u001b[0m\n\u001b[0m\u001b[1;32m      6\u001b[0m \u001b[0mprint\u001b[0m\u001b[0;34m(\u001b[0m\u001b[0mc\u001b[0m\u001b[0;34m)\u001b[0m\u001b[0;34m\u001b[0m\u001b[0;34m\u001b[0m\u001b[0m\n",
            "\u001b[0;31mIndexError\u001b[0m: list index out of range"
          ]
        }
      ]
    },
    {
      "cell_type": "markdown",
      "source": [
        "Using `zip` for a Cleaner Approach\n",
        "\n",
        "You can also use `zip`, which pairs the elements of `a` and `b` directly:"
      ],
      "metadata": {
        "id": "iWwHrgxwuh9v"
      }
    },
    {
      "cell_type": "code",
      "source": [
        "a = [1, 2, 3, 4]\n",
        "b = [5, 6, 7]\n",
        "\n",
        "# Using zip to add corresponding elements\n",
        "c = [x + y for x, y in zip(a, b)]\n",
        "print(c)\n"
      ],
      "metadata": {
        "colab": {
          "base_uri": "https://localhost:8080/"
        },
        "id": "E7qO3c2cuRUY",
        "outputId": "6a4a35e8-185f-4c2d-cedb-709326cb2f48"
      },
      "execution_count": null,
      "outputs": [
        {
          "output_type": "stream",
          "name": "stdout",
          "text": [
            "[6, 8, 10]\n"
          ]
        }
      ]
    },
    {
      "cell_type": "markdown",
      "source": [
        "## List slices\n",
        "\n",
        "The slice operator also works on lists:"
      ],
      "metadata": {
        "id": "OU-9KsNvuyAV"
      }
    },
    {
      "cell_type": "code",
      "source": [
        "t = ['a', 'b', 'c', 'd', 'e', 'f']\n",
        "print(t[1:3])\n",
        "print(t[:4])\n",
        "print(t[3:])\n",
        "print(t[:])"
      ],
      "metadata": {
        "colab": {
          "base_uri": "https://localhost:8080/"
        },
        "id": "iqwJTT3dvAmn",
        "outputId": "aac60cb9-5a32-419c-ce3b-afc639d7cd86"
      },
      "execution_count": null,
      "outputs": [
        {
          "output_type": "stream",
          "name": "stdout",
          "text": [
            "['b', 'c']\n",
            "['a', 'b', 'c', 'd']\n",
            "['d', 'e', 'f']\n",
            "['a', 'b', 'c', 'd', 'e', 'f']\n"
          ]
        }
      ]
    },
    {
      "cell_type": "markdown",
      "source": [
        "If you omit the first index, the slice starts at the beginning. If you omit the second, the slice goes to the end. So if you omit both, the slice is a copy of the whole list."
      ],
      "metadata": {
        "id": "eRh8Qai3vhGJ"
      }
    },
    {
      "cell_type": "markdown",
      "source": [
        "Since lists are mutable, it is often useful to make a copy before performing operations that fold, spindle, or mutilate lists.\n",
        "\n",
        "A slice operator on the left side of an assignment can update multiple elements:"
      ],
      "metadata": {
        "id": "YBSVqiQ4vlFp"
      }
    },
    {
      "cell_type": "code",
      "source": [
        "t = ['a', 'b', 'c', 'd', 'e', 'f']\n",
        "t[1:3] = ['x', 'y']\n",
        "print(t)"
      ],
      "metadata": {
        "colab": {
          "base_uri": "https://localhost:8080/"
        },
        "id": "rHu9SCrRvox_",
        "outputId": "5c7e8df2-cf9f-49cb-c3a7-301a959e15cf"
      },
      "execution_count": null,
      "outputs": [
        {
          "output_type": "stream",
          "name": "stdout",
          "text": [
            "['a', 'x', 'y', 'd', 'e', 'f']\n"
          ]
        }
      ]
    },
    {
      "cell_type": "markdown",
      "source": [
        "## List methods\n",
        "\n",
        "Python provides methods that operate on lists. For example, `append` adds a new element to the end of a list:"
      ],
      "metadata": {
        "id": "C8dM1FitvtU3"
      }
    },
    {
      "cell_type": "code",
      "source": [
        "t = ['a', 'b', 'c']\n",
        "t.append(['d','e'])\n",
        "print(t)"
      ],
      "metadata": {
        "colab": {
          "base_uri": "https://localhost:8080/"
        },
        "id": "1iKjS4AEvwUv",
        "outputId": "732164e6-bd46-4a7f-ee87-944bf2f29771"
      },
      "execution_count": null,
      "outputs": [
        {
          "output_type": "stream",
          "name": "stdout",
          "text": [
            "['a', 'b', 'c', ['d', 'e']]\n"
          ]
        }
      ]
    },
    {
      "cell_type": "markdown",
      "source": [
        "if you want to add `'d'` between `'b'` and `'c'`, you can use `insert()` with the index position where you want to insert `'d'`."
      ],
      "metadata": {
        "id": "yx2wMY8RxMVH"
      }
    },
    {
      "cell_type": "code",
      "source": [
        "t = ['a', 'b', 'c']\n",
        "t.insert(2, 'd')  # Insert 'd' at index 2, which is between 'b' and 'c'\n",
        "print(t)"
      ],
      "metadata": {
        "colab": {
          "base_uri": "https://localhost:8080/"
        },
        "id": "6ATWDbOAxKZH",
        "outputId": "4264760c-52a5-49da-bf18-c0776f8bb571"
      },
      "execution_count": null,
      "outputs": [
        {
          "output_type": "stream",
          "name": "stdout",
          "text": [
            "['a', 'b', 'd', 'c']\n"
          ]
        }
      ]
    },
    {
      "cell_type": "markdown",
      "source": [
        "`extend` takes a list as an argument and appends all of the elements:\n",
        "This example leaves `t2` unmodified."
      ],
      "metadata": {
        "id": "-7kzHMJQvvm3"
      }
    },
    {
      "cell_type": "code",
      "source": [
        "t1 = ['a', 'b', 'c']\n",
        "t2 = ['d', 'e']\n",
        "t1.extend(t2)\n",
        "print(t1)\n",
        "print(t2)"
      ],
      "metadata": {
        "colab": {
          "base_uri": "https://localhost:8080/"
        },
        "id": "rMXSO-eHv2Tg",
        "outputId": "1c22b30f-fba0-4dae-8c90-d06fe6941476"
      },
      "execution_count": null,
      "outputs": [
        {
          "output_type": "stream",
          "name": "stdout",
          "text": [
            "['a', 'b', 'c', 'd', 'e']\n",
            "['d', 'e']\n"
          ]
        }
      ]
    },
    {
      "cell_type": "markdown",
      "source": [
        "`sort` arranges the elements of the list from low to high:"
      ],
      "metadata": {
        "id": "ecBTobuGv6qv"
      }
    },
    {
      "cell_type": "code",
      "source": [
        "t = ['d', 'c', 'e', 'b', 'a']\n",
        "t.sort()\n",
        "print(t)    # modifieds the list in place"
      ],
      "metadata": {
        "colab": {
          "base_uri": "https://localhost:8080/"
        },
        "id": "sF_6-w9LwCuf",
        "outputId": "404ea050-806e-44c8-948a-53b8206fa82c"
      },
      "execution_count": null,
      "outputs": [
        {
          "output_type": "stream",
          "name": "stdout",
          "text": [
            "['a', 'b', 'c', 'd', 'e']\n"
          ]
        }
      ]
    },
    {
      "cell_type": "markdown",
      "source": [
        "Alternatively, you can use the `sorted()` function, which returns a new sorted list without modifying the original list:"
      ],
      "metadata": {
        "id": "1C9M2Ddpw76X"
      }
    },
    {
      "cell_type": "code",
      "source": [
        "t = ['d', 'c', 'e', 'b', 'a']\n",
        "new_t = sorted(t)  # sorted() returns a new sorted list\n",
        "print(new_t)\n",
        "print(t)"
      ],
      "metadata": {
        "colab": {
          "base_uri": "https://localhost:8080/"
        },
        "id": "PF_lDJ_bwoUP",
        "outputId": "c80f69a0-2247-49c4-ddbb-9e7713df2ad8"
      },
      "execution_count": null,
      "outputs": [
        {
          "output_type": "stream",
          "name": "stdout",
          "text": [
            "['a', 'b', 'c', 'd', 'e']\n",
            "['d', 'c', 'e', 'b', 'a']\n"
          ]
        }
      ]
    },
    {
      "cell_type": "markdown",
      "source": [
        "## Deleting elements\n",
        "\n",
        "There are several ways to delete elements from a list. If you know the index of the element you want, you can use `pop`:"
      ],
      "metadata": {
        "id": "W1B_VGJjxdK4"
      }
    },
    {
      "cell_type": "code",
      "source": [
        "t = ['a', 'b', 'c']\n",
        "x = t.pop(1)\n",
        "print(t)\n",
        "print(x)"
      ],
      "metadata": {
        "colab": {
          "base_uri": "https://localhost:8080/"
        },
        "id": "6z35LnDUxg4P",
        "outputId": "f13d80ee-0ddd-4c6b-849c-889f74648867"
      },
      "execution_count": null,
      "outputs": [
        {
          "output_type": "stream",
          "name": "stdout",
          "text": [
            "['a', 'c']\n",
            "b\n"
          ]
        }
      ]
    },
    {
      "cell_type": "markdown",
      "source": [
        "`pop` modifies the list and returns the element that was removed. If you don’t provide an index, it deletes and returns the last element.\n",
        "\n",
        "If you don’t need the removed value, you can use the `del` statement:"
      ],
      "metadata": {
        "id": "9TCJVnAjx6TH"
      }
    },
    {
      "cell_type": "code",
      "source": [
        "t = ['a', 'b', 'c']\n",
        "del t[1]\n",
        "print(t)"
      ],
      "metadata": {
        "colab": {
          "base_uri": "https://localhost:8080/"
        },
        "id": "vtVKGeJTx-p3",
        "outputId": "3a84c70d-e5de-4e5a-cd50-3cbfc7a25ab8"
      },
      "execution_count": null,
      "outputs": [
        {
          "output_type": "stream",
          "name": "stdout",
          "text": [
            "['a', 'c']\n"
          ]
        }
      ]
    },
    {
      "cell_type": "markdown",
      "source": [
        "If you know the element you want to remove (but not the index), you can use `remove`:"
      ],
      "metadata": {
        "id": "l4mUV6YzyJtH"
      }
    },
    {
      "cell_type": "code",
      "source": [
        "t = ['a', 'b', 'c']\n",
        "t.remove('b')\n",
        "print(t)"
      ],
      "metadata": {
        "colab": {
          "base_uri": "https://localhost:8080/"
        },
        "id": "WrzXK1tMyLAv",
        "outputId": "a218b7e0-4901-4aae-9195-efc50aee7497"
      },
      "execution_count": null,
      "outputs": [
        {
          "output_type": "stream",
          "name": "stdout",
          "text": [
            "['a', 'c']\n"
          ]
        }
      ]
    },
    {
      "cell_type": "markdown",
      "source": [
        "To remove more than one element, you can use `del` with a slice index:\n",
        "\n",
        "As usual, the slice selects all the elements up to, but not including, the second index."
      ],
      "metadata": {
        "id": "i41VjbM-yYJ_"
      }
    },
    {
      "cell_type": "code",
      "source": [
        "t = ['a', 'b', 'c', 'd', 'e', 'f']\n",
        "del t[1:5]\n",
        "print(t)"
      ],
      "metadata": {
        "colab": {
          "base_uri": "https://localhost:8080/"
        },
        "id": "IXe8L7FDya0_",
        "outputId": "f9d93e58-6efe-4ba6-ef1d-701b03369d3e"
      },
      "execution_count": null,
      "outputs": [
        {
          "output_type": "stream",
          "name": "stdout",
          "text": [
            "['a', 'f']\n"
          ]
        }
      ]
    },
    {
      "cell_type": "markdown",
      "source": [
        "## Lists and functions\n",
        "There are a number of built-in functions that can be used on lists that allow you to quickly look through a list without writing your own loops:"
      ],
      "metadata": {
        "id": "ycEiGlyeynbG"
      }
    },
    {
      "cell_type": "code",
      "source": [
        "nums = [3, 41, 12, 9, 74, 15]\n",
        "print(len(nums))\n",
        "print(max(nums))\n",
        "print(min(nums))\n",
        "print(sum(nums))\n",
        "print(sum(nums)/len(nums))"
      ],
      "metadata": {
        "colab": {
          "base_uri": "https://localhost:8080/"
        },
        "id": "mVShJFjxytFH",
        "outputId": "f2bc8049-a054-432d-f4db-c8d10672e651"
      },
      "execution_count": null,
      "outputs": [
        {
          "output_type": "stream",
          "name": "stdout",
          "text": [
            "6\n",
            "74\n",
            "3\n",
            "154\n",
            "25.666666666666668\n"
          ]
        }
      ]
    },
    {
      "cell_type": "markdown",
      "source": [
        "The `sum()` function only works when the list elements are numbers. The other functions (`max()`, `len()`, etc.) work with lists of strings and other types that can be comparable.\n",
        "\n",
        "We could rewrite an earlier program that computed the average of a list of numbers entered by the user using a list.\n",
        "\n",
        "First, the program to compute an average without a list:"
      ],
      "metadata": {
        "id": "2iSLf8CuzbSR"
      }
    },
    {
      "cell_type": "code",
      "source": [
        "total = 0\n",
        "count = 0\n",
        "while (True):\n",
        "    inp = input('Enter a number: ')\n",
        "    if inp == 'done': break\n",
        "    value = float(inp)\n",
        "    total = total + value\n",
        "    count = count + 1\n",
        "\n",
        "average = total / count\n",
        "print('Average:', average)"
      ],
      "metadata": {
        "colab": {
          "base_uri": "https://localhost:8080/"
        },
        "id": "eXPu8H2Cz0Ev",
        "outputId": "09b88b96-75df-4dd7-ca5f-493e884abcba"
      },
      "execution_count": null,
      "outputs": [
        {
          "output_type": "stream",
          "name": "stdout",
          "text": [
            "Enter a number: 15\n",
            "Enter a number: 30\n",
            "Enter a number: 2\n",
            "Enter a number: 6\n",
            "Enter a number: 100\n",
            "Enter a number: done\n",
            "Average: 30.6\n"
          ]
        }
      ]
    },
    {
      "cell_type": "markdown",
      "source": [
        "In this program, we have `count` and `total` variables to keep the number and running total of the user’s numbers as we repeatedly prompt the user for a number.\n",
        "\n",
        "We could simply remember each number as the user entered it and use built-in functions to compute the sum and count at the end."
      ],
      "metadata": {
        "id": "jY27uKlK0Eui"
      }
    },
    {
      "cell_type": "code",
      "source": [
        "numlist = list()\n",
        "while (True):\n",
        "    inp = input('Enter a number: ')\n",
        "    if inp == 'done': break\n",
        "    value = float(inp)\n",
        "    numlist.append(value)\n",
        "\n",
        "average = sum(numlist) / len(numlist)\n",
        "print('Average:', average)"
      ],
      "metadata": {
        "colab": {
          "base_uri": "https://localhost:8080/"
        },
        "id": "MiiVM6JR0IDC",
        "outputId": "9d9ce584-07cc-4e08-f349-9fcf2276cf7b"
      },
      "execution_count": null,
      "outputs": [
        {
          "output_type": "stream",
          "name": "stdout",
          "text": [
            "Enter a number: 15\n",
            "Enter a number: 30\n",
            "Enter a number: 2\n",
            "Enter a number: 6\n",
            "Enter a number: 100\n",
            "Enter a number: done\n",
            "Average: 30.6\n"
          ]
        }
      ]
    },
    {
      "cell_type": "markdown",
      "source": [
        "We make an empty list before the loop starts, and then each time we have a number, we append it to the list. At the end of the program, we simply compute the sum of the numbers in the list and divide it by the count of the numbers in the list to come up with the average."
      ],
      "metadata": {
        "id": "nLtoeDXf0ZTR"
      }
    },
    {
      "cell_type": "markdown",
      "source": [
        "## Lists and strings\n",
        "\n",
        "**A string is a sequence of characters and a list is a sequence of values, but a list of characters is not the same as a string.** To convert from a string to a list of characters, you can use `list`."
      ],
      "metadata": {
        "id": "fKPRbY130Zz5"
      }
    },
    {
      "cell_type": "markdown",
      "source": [
        "**Differences between Lists and Strings:**\n",
        "\n",
        "- Syntax:\n",
        "\n",
        " - strings:\n",
        " ```python\n",
        "s = \"hello\"\n",
        "```\n",
        " - lists:\n",
        " ```python\n",
        " lst = ['h', 'e', 'l', 'l', 'o']\n",
        " ```\n",
        "- Types of Elements:\n",
        " - A string is made up of characters only.\n",
        " - A list can contain multiple data types: strings, numbers, other lists, etc.\n",
        "\n",
        "- Mutability\n",
        "\n",
        "- Methods:\n",
        " - String-specific methods: Strings have methods like `.upper(), .lower(), .replace(), .find()`, etc.\n",
        " - List-specific methods: Lists have methods like `.append(), .extend(), .insert(), .remove()`, etc.\n",
        "\n",
        "- Iteration Differences:\n",
        " - Both strings and lists can be iterated over in a `for` loop, but the elements in a string are characters, while the elements in a list are whatever is stored in the list.\n",
        " ```python\n",
        " # String iteration\n",
        " s = \"hello\"\n",
        " for char in s:\n",
        "      print(char)  # Prints each character: h, e, l, l, o\n",
        " # List iteration\n",
        " lst = ['a', 2, [3, 4]]\n",
        " for item in lst:\n",
        "      print(item)  # Prints each element: a, 2, [3, 4]\n",
        "  ```"
      ],
      "metadata": {
        "id": "vXiw46Qu5xwP"
      }
    },
    {
      "cell_type": "markdown",
      "source": [
        "To convert from a string to a list of characters, you can use `list`:"
      ],
      "metadata": {
        "id": "LBU0ovY-9XdH"
      }
    },
    {
      "cell_type": "code",
      "source": [
        "s = 'spam'\n",
        "t = list(s)\n",
        "print(t)"
      ],
      "metadata": {
        "colab": {
          "base_uri": "https://localhost:8080/"
        },
        "id": "5b-8yVqh0us3",
        "outputId": "ae7815a5-6a65-4c4a-9a23-8623f5b89af7"
      },
      "execution_count": null,
      "outputs": [
        {
          "output_type": "stream",
          "name": "stdout",
          "text": [
            "['s', 'p', 'a', 'm']\n"
          ]
        }
      ]
    },
    {
      "cell_type": "markdown",
      "source": [
        "- `s` is a string with the value `'spam'`.\n",
        "- `t` is a list created from the string `s` by using the `list()` function, which converts each character in the string into an individual element in a new list."
      ],
      "metadata": {
        "id": "bFAR40U62ZW3"
      }
    },
    {
      "cell_type": "markdown",
      "source": [
        "Because `list` is the name of a built-in function, you should avoid using it as a variable name. I also avoid the letter “l” because it looks too much like the number “1”. So that’s why I use “t”.\n",
        "\n",
        "The `list` function breaks a string into individual letters. If you want to break a string into words, you can use the `split` method:"
      ],
      "metadata": {
        "id": "fET2b2zP1Sc4"
      }
    },
    {
      "cell_type": "code",
      "source": [
        "s = 'code script for this week'\n",
        "t1= list(s)\n",
        "print(t1)\n",
        "t2 = s.split()\n",
        "print(t2)\n",
        "print(t2[3])"
      ],
      "metadata": {
        "colab": {
          "base_uri": "https://localhost:8080/"
        },
        "id": "tijLMuaO1W4v",
        "outputId": "11cf1d63-4076-453a-d55d-08cae863303d"
      },
      "execution_count": null,
      "outputs": [
        {
          "output_type": "stream",
          "name": "stdout",
          "text": [
            "['c', 'o', 'd', 'e', ' ', 's', 'c', 'r', 'i', 'p', 't', ' ', 'f', 'o', 'r', ' ', 't', 'h', 'i', 's', ' ', 'w', 'e', 'e', 'k']\n",
            "['code', 'script', 'for', 'this', 'week']\n",
            "this\n"
          ]
        }
      ]
    },
    {
      "cell_type": "markdown",
      "source": [
        "Once you have used `split` to break the string into a list of words, you can use the index operator (square bracket) to look at a particular word in the list.\n",
        "\n",
        "You can call `split` with an optional argument called a delimiter that specifies which characters to use as word boundaries. The following example uses a hyphen as a delimiter:"
      ],
      "metadata": {
        "id": "QmT24P_v3Aq3"
      }
    },
    {
      "cell_type": "code",
      "source": [
        "s = 'abc-def-xyz'\n",
        "delimiter = '-'\n",
        "s.split(delimiter)"
      ],
      "metadata": {
        "colab": {
          "base_uri": "https://localhost:8080/"
        },
        "id": "gvybKaCu3Ein",
        "outputId": "0e45c281-68e6-4240-d31b-008bd886920a"
      },
      "execution_count": null,
      "outputs": [
        {
          "output_type": "execute_result",
          "data": {
            "text/plain": [
              "['abc', 'def', 'xyz']"
            ]
          },
          "metadata": {},
          "execution_count": 53
        }
      ]
    },
    {
      "cell_type": "markdown",
      "source": [
        "`join` is the inverse of `split`. It takes a list of strings and concatenates the elements. `join` is a string method, so you have to invoke it on the delimiter and pass the list as a parameter:"
      ],
      "metadata": {
        "id": "DYXM9tPJ3RhP"
      }
    },
    {
      "cell_type": "code",
      "source": [
        "t = ['code', 'script', 'for', 'this', 'week']\n",
        "delimiter = ' '\n",
        "delimiter.join(t)"
      ],
      "metadata": {
        "colab": {
          "base_uri": "https://localhost:8080/",
          "height": 35
        },
        "id": "l90-1pD-3Xm3",
        "outputId": "e0e7c277-af55-411f-cc29-841661035048"
      },
      "execution_count": null,
      "outputs": [
        {
          "output_type": "execute_result",
          "data": {
            "text/plain": [
              "'code script for this week'"
            ],
            "application/vnd.google.colaboratory.intrinsic+json": {
              "type": "string"
            }
          },
          "metadata": {},
          "execution_count": 68
        }
      ]
    },
    {
      "cell_type": "markdown",
      "source": [
        "In this case the delimiter is a space character, so join puts a space between words. To concatenate strings without spaces, you can use the empty string, ““, as a delimiter."
      ],
      "metadata": {
        "id": "02ikAQ103XOY"
      }
    },
    {
      "cell_type": "markdown",
      "source": [
        "## Parsing lines\n",
        "Usually when we are reading a file we want to do something to the lines other than just printing the whole line. Often we want to find the “interesting lines” and then parse the line to find some interesting part of the line. What if we wanted to print out the day of the week from those lines that start with “From”?"
      ],
      "metadata": {
        "id": "9XgazNx33gze"
      }
    },
    {
      "cell_type": "code",
      "source": [
        "line = 'From stephen.marquard@augusta.edu Sat Nov  5 09:14:16 2024'\n",
        "\n",
        "if line.startswith('From '):\n",
        "    words = line.split()\n",
        "    print(words)\n",
        "    print(words[2])"
      ],
      "metadata": {
        "colab": {
          "base_uri": "https://localhost:8080/"
        },
        "id": "fySBtEttL1P1",
        "outputId": "f47ceaa3-a3a3-4bb9-9373-7f9fe3127787"
      },
      "execution_count": null,
      "outputs": [
        {
          "output_type": "stream",
          "name": "stdout",
          "text": [
            "['From', 'stephen.marquard@augusta.edu', 'Sat', 'Nov', '5', '09:14:16', '2024']\n",
            "Sat\n"
          ]
        }
      ]
    },
    {
      "cell_type": "markdown",
      "source": [
        "## List arguments\n",
        "\n",
        "When you pass a list to a function, the function gets a reference to the list. If the function modifies a list parameter, the caller sees the change. For example, `delete_head` removes the first element from a list:"
      ],
      "metadata": {
        "id": "gswo5-eINPjW"
      }
    },
    {
      "cell_type": "code",
      "source": [
        "def delete_head(t):\n",
        "    del t[0]\n",
        "letters = ['a', 'b', 'c']\n",
        "delete_head(letters)\n",
        "print(letters)"
      ],
      "metadata": {
        "colab": {
          "base_uri": "https://localhost:8080/"
        },
        "id": "sy1hvD4INS2F",
        "outputId": "44a500ee-0d02-4548-b408-01faa28c21b9"
      },
      "execution_count": null,
      "outputs": [
        {
          "output_type": "stream",
          "name": "stdout",
          "text": [
            "['b', 'c']\n"
          ]
        }
      ]
    },
    {
      "cell_type": "markdown",
      "source": [
        "It is important to distinguish between operations that modify lists and operations that create new lists. For example, the `append` method modifies a list, but the `+` operator creates a new list:"
      ],
      "metadata": {
        "id": "HpLBsTSnNoZ0"
      }
    },
    {
      "cell_type": "code",
      "source": [
        "t1 = [1, 2]\n",
        "t2 = t1.append(3)\n",
        "print(t1)\n",
        "print(t2)\n",
        "\n",
        "t1 = [1, 2]\n",
        "print(t1)\n",
        "t4 = t1 + [3]\n",
        "print(t4)\n",
        "t4 is t1"
      ],
      "metadata": {
        "colab": {
          "base_uri": "https://localhost:8080/"
        },
        "id": "6Rj_I33iNzSf",
        "outputId": "06152164-8c81-45bf-e029-253e0485190c"
      },
      "execution_count": null,
      "outputs": [
        {
          "output_type": "stream",
          "name": "stdout",
          "text": [
            "[1, 2, 3]\n",
            "None\n",
            "[1, 2]\n",
            "[1, 2, 3]\n"
          ]
        },
        {
          "output_type": "execute_result",
          "data": {
            "text/plain": [
              "False"
            ]
          },
          "metadata": {},
          "execution_count": 87
        }
      ]
    },
    {
      "cell_type": "markdown",
      "source": [
        "The lists can contain the same values, but unless they are created as the same object (i.e., pointing to the same memory address), they will not be considered the same when checked with is."
      ],
      "metadata": {
        "id": "TYDPcB7dQF4-"
      }
    },
    {
      "cell_type": "code",
      "source": [
        "my_list = [1, 2, 3]\n",
        "def bad_delete_head(t):\n",
        "    t = t[1:]  # WRONG!\n",
        "print(bad_delete_head(my_list))"
      ],
      "metadata": {
        "colab": {
          "base_uri": "https://localhost:8080/"
        },
        "id": "yvFgoz5YT9bu",
        "outputId": "f3450d74-8164-43b7-9d81-2f3e6e60ba4a"
      },
      "execution_count": null,
      "outputs": [
        {
          "output_type": "stream",
          "name": "stdout",
          "text": [
            "None\n"
          ]
        }
      ]
    },
    {
      "cell_type": "markdown",
      "source": [
        "Why It Doesn't Work:\n",
        "- Local Variable Modification: In the bad_delete_head function, t is a local variable that receives a reference to the original list my_list when the function is called. However, when we execute t = t[1:], we create a new list that contains all elements of t except the first one. This new list is then assigned to the local variable t.\n",
        "\n",
        "- No Effect on Original List: The assignment of t to a new list does not modify the original list my_list. Instead, it simply makes t refer to a new list. After the function exits, t goes out of scope, and the original my_list remains unchanged.\n",
        "\n",
        "- Output of the Function: Since the function does not have a return statement, it implicitly returns None. This is why the output of print(bad_delete_head(my_list)) is None.\n",
        "\n",
        "Visual Representation:\n",
        "- Before calling the function:\n",
        " - my_list points to [1, 2, 3]\n",
        "- Inside bad_delete_head:\n",
        " - t points to [1, 2, 3]\n",
        " - After t = t[1:], t now points to [2, 3] (new list created)\n",
        "- After calling the function:\n",
        " - my_list still points to [1, 2, 3] (unchanged)\n",
        " - bad_delete_head(my_list) evaluates to None\n"
      ],
      "metadata": {
        "id": "AjBqbsSmUM3l"
      }
    },
    {
      "cell_type": "markdown",
      "source": [
        "![example1.jpg](data:image/jpeg;base64,/9j/4AAQSkZJRgABAQEAwADAAAD/2wBDAAMCAgMCAgMDAwMEAwMEBQgFBQQEBQoHBwYIDAoMDAsKCwsNDhIQDQ4RDgsLEBYQERMUFRUVDA8XGBYUGBIUFRT/2wBDAQMEBAUEBQkFBQkUDQsNFBQUFBQUFBQUFBQUFBQUFBQUFBQUFBQUFBQUFBQUFBQUFBQUFBQUFBQUFBQUFBQUFBT/wAARCADqAqwDASIAAhEBAxEB/8QAHwAAAQUBAQEBAQEAAAAAAAAAAAECAwQFBgcICQoL/8QAtRAAAgEDAwIEAwUFBAQAAAF9AQIDAAQRBRIhMUEGE1FhByJxFDKBkaEII0KxwRVS0fAkM2JyggkKFhcYGRolJicoKSo0NTY3ODk6Q0RFRkdISUpTVFVWV1hZWmNkZWZnaGlqc3R1dnd4eXqDhIWGh4iJipKTlJWWl5iZmqKjpKWmp6ipqrKztLW2t7i5usLDxMXGx8jJytLT1NXW19jZ2uHi4+Tl5ufo6erx8vP09fb3+Pn6/8QAHwEAAwEBAQEBAQEBAQAAAAAAAAECAwQFBgcICQoL/8QAtREAAgECBAQDBAcFBAQAAQJ3AAECAxEEBSExBhJBUQdhcRMiMoEIFEKRobHBCSMzUvAVYnLRChYkNOEl8RcYGRomJygpKjU2Nzg5OkNERUZHSElKU1RVVldYWVpjZGVmZ2hpanN0dXZ3eHl6goOEhYaHiImKkpOUlZaXmJmaoqOkpaanqKmqsrO0tba3uLm6wsPExcbHyMnK0tPU1dbX2Nna4uPk5ebn6Onq8vP09fb3+Pn6/9oADAMBAAIRAxEAPwDwPx/+118VfH2vXGoN4w1TQoHcmGw0S7ks4YV7KPLILY9WJPvXMf8ADQHxQ/6KR4u/8Ht1/wDHK4KiuvkitEjDmZ3v/DQHxQ/6KR4u/wDB7df/AByj/hoD4of9FI8Xf+D26/8AjlcFRRyx7Bdne/8ADQHxQ/6KR4u/8Ht1/wDHKP8AhoD4of8ARSPF3/g9uv8A45XBUUcsewXZ3v8Aw0B8UP8AopHi7/we3X/xyj/hoD4of9FI8Xf+D26/+OVwVFHLHsF2d7/w0B8UP+ikeLv/AAe3X/xyj/hoD4of9FI8Xf8Ag9uv/jlcFRRyx7Bdne/8NAfFD/opHi7/AMHt1/8AHKP+GgPih/0Ujxd/4Pbr/wCOVwVFHLHsF2d7/wANAfFD/opHi7/we3X/AMco/wCGgPih/wBFI8Xf+D26/wDjlcFRRyx7Bdne/wDDQHxQ/wCikeLv/B7df/HKP+GgPih/0Ujxd/4Pbr/45XBUUcsewXZ3v/DQHxQ/6KR4u/8AB7df/HKP+GgPih/0Ujxd/wCD26/+OVwVFHLHsF2d7/w0B8UP+ikeLv8Awe3X/wAco/4aA+KH/RSPF3/g9uv/AI5XBUUcsewXZ3v/AA0B8UP+ikeLv/B7df8Axyj/AIaA+KH/AEUjxd/4Pbr/AOOVwVFHLHsF2d7/AMNAfFD/AKKR4u/8Ht1/8co/4aA+KH/RSPF3/g9uv/jlcFRRyx7Bdne/8NAfFD/opHi7/wAHt1/8co/4aA+KH/RSPF3/AIPbr/45XBUUcsewXZ3v/DQHxQ/6KR4u/wDB7df/AByj/hoD4of9FI8Xf+D26/8AjlcFRRyx7Bdne/8ADQHxQ/6KR4u/8Ht1/wDHKP8AhoD4of8ARSPF3/g9uv8A45XBUUcsewXZ3v8Aw0B8UP8AopHi7/we3X/xyj/hoD4of9FI8Xf+D26/+OVwVFHLHsF2d7/w0B8UP+ikeLv/AAe3X/xyj/hoD4of9FI8Xf8Ag9uv/jlcFRRyx7Bdne/8NAfFD/opHi7/AMHt1/8AHKP+GgPih/0Ujxd/4Pbr/wCOVwVFHLHsF2d7/wANAfFD/opHi7/we3X/AMco/wCGgPih/wBFI8Xf+D26/wDjlcFRRyx7Bdne/wDDQHxQ/wCikeLv/B7df/HKP+GgPih/0Ujxd/4Pbr/45XBUUcsewXZ3v/DQHxQ/6KR4u/8AB7df/HKP+GgPih/0Ujxd/wCD26/+OVwVFHLHsF2d7/w0B8UP+ikeLv8Awe3X/wAco/4aA+KH/RSPF3/g9uv/AI5XBUUcsewXZ3v/AA0B8UP+ikeLv/B7df8Axyj/AIaA+KH/AEUjxd/4Pbr/AOOVwVFHLHsF2d7/AMNAfFD/AKKR4u/8Ht1/8co/4aA+KH/RSPF3/g9uv/jlcFRRyx7Bdne/8NAfFD/opHi7/wAHt1/8co/4aA+KH/RSPF3/AIPbr/45XBUUcsewXZ3v/DQHxQ/6KR4u/wDB7df/AByj/hoD4of9FI8Xf+D26/8AjlcFRRyx7Bdne/8ADQHxQ/6KR4u/8Ht1/wDHKP8AhoD4of8ARSPF3/g9uv8A45XBUUcsewXZ3v8Aw0B8UP8AopHi7/we3X/xyj/hoD4of9FI8Xf+D26/+OVwVFHLHsF2d7/w0B8UP+ikeLv/AAe3X/xyj/hoD4of9FI8Xf8Ag9uv/jlcFRRyx7Bdne/8NAfFD/opHi7/AMHt1/8AHKP+GgPih/0Ujxd/4Pbr/wCOVwVFHLHsF2d7/wANAfFD/opHi7/we3X/AMco/wCGgPih/wBFI8Xf+D26/wDjlcFRRyx7Bdne/wDDQHxQ/wCikeLv/B7df/HKP+GgPih/0Ujxd/4Pbr/45XBUUcsewXZ3v/DQHxQ/6KR4u/8AB7df/HKP+GgPih/0Ujxd/wCD26/+OVwVFHLHsF2d7/w0B8UP+ikeLv8Awe3X/wAco/4aA+KH/RSPF3/g9uv/AI5XBUUcsewXZ3v/AA0B8UP+ikeLv/B7df8Axyj/AIaA+KH/AEUjxd/4Pbr/AOOVwVFHLHsF2d7/AMNAfFD/AKKR4u/8Ht1/8co/4aA+KH/RSPF3/g9uv/jlcFRRyx7Bdne/8NAfFD/opHi7/wAHt1/8co/4aA+KH/RSPF3/AIPbr/45XBUUcsewXZ3v/DQHxQ/6KR4u/wDB7df/AByj/hoD4of9FI8Xf+D26/8AjlcFRRyx7Bdne/8ADQHxQ/6KR4u/8Ht1/wDHKP8AhoD4of8ARSPF3/g9uv8A45XBUUcsewXZ3v8Aw0B8UP8AopHi7/we3X/xyj/hoD4of9FI8Xf+D26/+OVwVFHLHsF2d7/w0B8UP+ikeLv/AAe3X/xyj/hoD4of9FI8Xf8Ag9uv/jlcFRRyx7Bdne/8NAfFD/opHi7/AMHt1/8AHKP+GgPih/0Ujxd/4Pbr/wCOVwVFHLHsF2d7/wANAfFD/opHi7/we3X/AMcr0Dwx+3R8YvC+lJYJ4lXU0RiVm1S2S4mxxwZGG4jjuSea8CopOEXuh8z7hXSeFPBEvinTdZ1BtUsdJsdJSOS5nvhMwxI+xdqxRyMefbvXN16R8KfFWn6D4d8YWN1qthpN7qUFslpJqente27FJdzBkEMw6dMp1xWhJz+o/DXxBZ+J7nQbTT5tbvoY1n/4lMT3AeJlVlkUBd20hl5IHXnFHhDwS3iDVdVt9Qnm0m30m0mvL5vsxkmjWPAKCMsuXLELgsuOcnivS9Q+IvhHWJPFVm72DvqRsZmv9Whv/sd5JCu2T5LdhNGu5tyKQVAUDavy4qaZ8ar631rxvPc+JWtBf6U8Vl/Ykl7HavdbYlSRFk+dX2ocyPg8HnmnoI83tvBuo+IZ7yTwxpes67p1uQDcJpzb1yM/OsbSKnf+I8DNQaV4L8Qa7brPpuhalqELBmElrZySqQpAY5VTwMjPpkV6BonjLSdc0Xwr/bHiifSNT0XVpdQu5bmK4nlvd7IwlSSNGJlATb+8K9R82M4b4u+LpvNE0d9AvptNvIddvtXNmqHELO6tCxyuxiBv45xk5HNIZ57Z+E9b1DR59WtdG1C50u3z519Dau8EeACdzgbRgEdT3rKr2vT/AIo6WNF8O31vPoNrr2l2lxbyprVtqTOzyM5dovszeQVkEhBDqvI5yMEeKUAdnrnwe8XeH/D9lrN3oV+LK4heeRls5s2qqxX99lAEzjcOehBrjK7jWrzRfEPw98MwDVrWx1TRIbmF7C5t5y826UyKYnSNk5DEfOy4I9DmuOsbhbW9t53j81I5Fdo/l+YAg4+ZWXn3Uj1B6UAQVoaDoN/4m1a303TLSa9vJ22pFBG0je5woJwByeOAK6fxZ8QNN8RaO1na6D/Z0pdWE23Th07fuNPgf/x/HqDXIafcLZ6ha3DpvWGVJCvrhgf6UAdbqXwl1/w/4ysdB1qyudOS71BbCPUGtZBBIS4UvGWC7wM54xn2qveeBY7rxlcaDoV7Nei1aRLm81KCOzji2MVdyRLIAgwOSQTkDbnAPTXkmj6t8cNM13R9ZtdRh1TX4bn7PHbzxTQBplbEnmRqpIJI+RmHFczrNra3XxM1kXmpW2lQJqVxIbi6jmdBiVjjEUbtk/7uPUigCh4i8F6l4d8YXfhlkXUNUt5/s2yxV5BK/GAg2hjnPpmk8M+H7bUvFEGjaxPe6S8s4tcw2azSRzFwm10eSPABJzzkY6Gus+IWraNrfxgm1vTPFawabfXon/tOytrpZrFcgbyjJGxYYz8hP1zXPeH2R/idprR30mqIdYiK30qsr3A88YkYN8wLdcHnnmgRT1DwjfReK9U0LToLjV7ixuJof9FgZndY2IL7FyQMLk9cetYdegahLBD8XvFDXHiS58Kx/br4f2haRyyPne+I8RkNhvunnHPPFef0DCiiikAUUU6JVeRFZxGrEAuQSFHrxzQB02qfDvU9H8Gad4lnktzZ3rALAjMZolYyBHcbcBW8p8YJ6c4yKt3fgG3sNB0OWS71C517W4DcWOl2OnCZGXzCihpPNDBmKtgLG3b1rvdZ+J3hDUX8TaXZ/wBo6faNp0FvpepNdFovNtNptykK26yRFiG+YucbznGeOX+JnxOvPF3h3wvpyeI9T1GOLS0i1O3nuZzG9wJXbLhziRgCnzc9BzxTEYvjT4U+J/ATKdV0m7jtWWIi8W2lEG51DBN7IBvGcEdiCKzL7wP4j0u8s7S88P6paXd6cWsE9lIjz4xnYpXLdR09a7zUPFXho+PfDPjNb+C8S0SwF1o/2edbpDDGiNhjGImAKZGJOcjgc427L4kaNovijRjFqfh9tDj18atPLptrqpug2GBlk+1bhlgRuEZJJx1AzT0GeP6r4a1fQYLWfUtKvtOhul328l1bvEsy8coWA3DkdPUVf8DeA9Y+ImvQ6Vo1q80zn55fLdo4V/vSFVO1c8Zx3qPXfGGra5FdWl1qEl5Zy38mobZgGYzONpfcRu5UDjOOOlWfhn4gs/Cvj/QtW1DcLO1uVeVkXcyryCwHfGc8elIDL17wzq/ha7W11jTLzSrhl3rHe27wsy5I3AMASMg81m1pa/pthpd+yadq9nrFu5LiazhniA5PBWaNDnGDwCOetangnxZZ+FZLtrzSv7UEwUKNtmdmM5/4+bS4HOf4QvTnPGADma63wv8ACvxP4y0LUtW0nSbq8tbIL/qraVzOxYKUi2qQzDOSMjA5rK8Va5b+IdYkvbay/s+JlVRBiAYwMZ/cQQp+SD3J61t+AdU0mLQ/Fmjapfx6X/a1nFHDeTwSSxK8cyybXESO4BAPIU0AJp/gO3j8Lazq+uXeoaVLp17HYGxi09ZZTKyu2H3yx7ANhB4J56VBZ/DbVbvwXf8AiYyWsFjaIknkyy/v5UaTyw6oAcLuyMttBwcZwcbNtbx2vwX8Rww3EV3FHr1oqzwq6pIBFNhlDqrAH3APtUngW60Cx+H/AIssL7xPp+n3+tRW6Q28treOYzHNuPmNHAy8gcbSevOKBHBJpN9JpkmpJZXDadHIIXu1iYxK5GQhfGAxHbOa37XwjYX/AIB1HxBb6ldfbNOmghuLKWzVYj5pcKUlEpJwE5yi9fxqpbyQL4KvIz4luYbg3iFdAWKXyJ12/wCvLZ2Bl6YI3Vv+Gf8Akjvjb/r907+c1AzjJtJvrfTrfUJbK4jsLhmSG6eJhFIy/eCtjBI7gHiqlb+oSwN4P0qNfElzeTrNKX0N45RDZDPEisTsJfvtAPHNYFIAooooAK0/DPh278Wa/Y6RY7BdXkgjRpCQi+rMQCcAAk4B4FZldt8L/EWjeE7rW9S1XzpbgadLbWVvbOYpXklwjFZPLdUKoznLD6A0wIbX4X6refEBfCEUttJftkpcRsxhdfK80Op252lcEcd60rf4SyeJPGM/h3wnPqGsz2ck0V5d3WmmCCFk3YIMckp2sVYAsFOcDHPHfeEfjFoGk+L/AAbq8OsanollFYSWOr2Ek80+fKR0tnkMcSLMSGUAhMrt5x1rjNL+JSzfGaLX9c1e+1HSYrq6SG4uXknMEEokRSqsSwUBwdoGcA4GeKegHHt4D8TLrK6Q3h3Vl1Zo/OWwNjL55Tn5hHt3Y4POMcVFbeDfEF5fXFjb6FqU97bSLFPbx2kjSROc4VlAypODgH0Ndr4G1Twz4Ts/FGiXWp6TqcOq2sIhvpLbUBZZSQs0UqxrFONwwcqrLkDOe1/WPigl1oPja1Op2C3upWmnWNudGiu0huIIiwdSbgeZ9whT5hG7oMikB5XqGnXek3s1nfWs1ldwttlt7iMxyI3oykZB+tb3gzwhB4kt9avr6+l0/TNJtRc3EtvbC4lOXVFRELoCSzd2AABrJ1zX9Q8Tagb7U7k3d2USMysiqSqKFUHaBnCgDPU45zXcfD34nXnhXwT4t0weI9T06a4tYl0yC3uZ1VJfOVnKbDiMld2W4z0yaAOMm8PXVxd266ZZ6je2t7IyWEklmUkutpwQqKXBYEjIVmx61Lb+CfEV1p8t/DoOpzWMUZlkuo7ORokQFgWLBcAZVuenyn0r07wL428OOngW913xG1jeaDf3dzeRz2txcTXPmyK6urIrKec7izBupAbjKaR8S9GtdY8BGbVJVsNLsr+K8Ty5SkTzGfA27fm3B48lQe2enDA8vsPCGvappM+qWWiajeaZb7vOvLe0keGPaMtucDAwOTk1ua58HvF3h/w/Zazd6FfiyuIXnkZbObNqqsV/fZQBM43DnoQau+LNR0Xxh4Y8NNHrtrptxo2mfY20i7trglpVZmaSJo43j/eZGSzIcjnjBqvrV5oviH4e+GYBq1rY6pokNzC9hc285ebdKZFMTpGychiPnZcEehzSAoeIvA7+G/Cui6ndtf29/qLSFrG70ua3RIxjY6TOAsoYEH5emRmqV14F8SWMNlNc+HtVt4r51jtZJbKVVuGYZVYyV+YkdAM5rtZNS8N6b4H8LWqeIdO1S80jU5b+4sIrW8Xz0cxfIrSW6oThGzuIHoTXUab8RPC+h+Ktd1c+I21WLXtZs7zyBa3CtZxR3AmZ5g0YVnVR5YEZfgnBxTA8Z1bwvrPh+3tp9U0i+02G6G6CS7tniWUcHKFgN3UdPWqNpaT391FbW0MlxcTOI44YULO7E4CgDkknsK7zxN4ysta8E6tZNfyXepXHiV9RQSrIWaExMu/cwxknaME54HHFZ/wl8Tad4R8bW2oaoCLXyZoPOCu3kNJGyCQhGVyF3c7GDYzjnFIDIuPBPiKz1T+zJ9B1ODUvK877HJZyLN5f9/YVzt4POMUkvgrxDBrcejSaDqceryLvTT2s5BcMuCciPbuIwD27GvT9N+JWn6HJDaxalodrZWekajBYv4dh1NTFNOgwpa6G8ZYZBX5RkkkZqLTfHHh248FWmhz6sunXsnh2TTGvZbeZkt3+1mXymKIzlGj4+QMOcHvQBx/iT4V63omuaZo1tY6hqWrXenRX8ljFYv58BcEtGYxlvlxycD6CsBfCutNrE2kjR786pCCZLEWz+egAySyY3DA55HSvTtQ8ZaKmtW9vpevaPPo6eHbfRrr+3dPvRBd7CdyhIEMikEKwIK9ueormmk8MW/xCvD4f8R3vhTQfJbyr+3indgxj+aNApWTy2bKjfztI3d6AOCooopAFFFFABRRRQAUUUUAFFFFABRRRQAUUUUAFFFFABRRRQAUUUUAFFFFABRRRQAUUUUAFFFFABRRRQAUUUUAFFFFABRRRQAUUUUASW9xLZ3EU8EskE8TB45YmKujA5DAjkEHuKt6x4g1XxFdLc6vql9q1yq7Fmv7l53C5J2hnJOMk8e9UKKACr2j69qfh26N1pOpXmlXRUoZ7G4eCTacEruQg44HHtVGigCS4uJby4lnnlknnlYvJLKxZ3YnJYk8kk9zUdFFABRRRQAUUUUAFFdRqXhe00PwRp2pXssx1jVpDJZ2sZASO1QlWlkyMks4IUAjAUk5yBV3xN4Hh0nQfCj2sNzJqeqmVJJft1pcWkrh1VRC0LsVI3AMJMEH6GmBxVFdZr3wq8UeGo91/pgRhdLZPFDcwzyxzsMpG6RuzIzDkbgMjGM5qjq/gnUtC1CGxvJdLS6klMJjj1a0k8lwcESlZSIsHr5m3ofQ0AYNFdz4u+Hph8cWugeHbDUHluLaGWOK+ubaVnLJuLiSFjH5ePmDbuF5OKta18Jbq3s/C0WmGO/1PU7S4urkw39vNaxrFIwLCZG8tVCrlizkA55HSgDzyitTxB4Z1HwvdxW+owpG00SzwyQzJNFLG3R0kjZldTzypI4I7V0fwn+Gl78R/EkVuLLUZdIh3veXNjAXKBUZwgbBVXbbtXPc9D0oA4iiup8TeD72yW/vIfD2p6FY2LQw3Nvq1ysk8UkgYpkeVE2GCkj5OMdeRVyD4NeLria7jGmQxfZLhLSd7i+t4o0mdVZE3vIFywdcAHknA54oA53SvFGtaDb3Fvpms6jplvcDE8NndyQpLxjDqrANwSOfWsyultfhzr1xHeyyW1vYQ2dybOabU76CzjE4yTErTOoZgASQpJA+talv8J7y68CxeI01XSEMl4bUW02q2cYCiMPuLtMMPzjyyN2OehoA4atKTxNrM2jppEmsahJpEZ3Jp73cht1OSciLO0HJJ6d63ofCFr/wrO81+WO5lvlvI4o5La9tHt4o2B+WaIOZkclW25UAgVXb4Z+I10VtUNjH9nW1F80P2uE3K25OBMbff5oj/ANrbjHOcc0AcvRXW6x8KfFGg6XPqF9p0cMEEMdxKou4HlSKQgJIYlcvsJOA23GcjPFQ+IvC9raeG9F1/S5ZpdPvg1vPHcYL291GB5iEgAFSGDKeuDg8jkA5iiiikAUUUUAFFFFABRRRQAUUUUAFFFFABRRRQAUUUUAFFFFABRRRQAUUUUAFFFFABRRRQAUUUUAFFFFABRRRQAUUUUAFFFFABRRRQAUUUUAFFFFABRRRQAUUUUAFFFFABRRRQAUUUUAFFFFABRRRQAUUUUAFFFFABRRRQAUUUUAFFFFABRRRQAUUUUAeheMNvij4f+F9btGDjSbcaNqEKgboGDu8UhH911YgHpuQjOam1Dxb4VHh3wlZWVzrk1zoN1JP/AKTpsEUc6ySo7DK3LlSoU44OT/drzfAznHNFMD0jUPiPpmoL4tjT+0bE6zrsOpwXEMaGSCNHlYnHmD94PMBABxkH5h1qPxp4z8O+LrfT47h7661L7XJNe6+dGtbO4eJlGE8mGbZM27Lb3dW5xk5rzuigD126+JfhT/hKodRgOuTWcuiHRLpJbGCKRE+ziISx4uGDnIzsYqP9o1Lp3xb8N6HDpGnWVpqU2nW+kXOlz3V7Z2ssu6WUSiVIHZ42G4DMbnp/ESM147RQB0/jrxV/wktxYpHqM+oWdnAYoRNpFrpgiBYsVWK3Zkxk5znOSeKf8M/FVl4L8VDVL6CaeEWlzb7bdVZ90kLxg/MQMZYZ56etcrRQB2fg7xLoVj4S1nw9raajDbXtzbXSTaZDHIw8reChV3QAMHPzZOCPumuj8cfFjR/ExvfslpfRLNr8GqoJ1jyIUtxEVJDffyPpjuOleU0UAeqeMviN4b+IENzbaidY0uOHVbu+sprS0huC8c5DMkqNNHtYFVwys3BIxwDXPaT4k0ObwFceGtWk1K1K6l/aNtdWNrHcbsxeWUdHlj29FIILd+K4yigDvdH8QeF7P4caroVxd60NR1CeC6LRabC0EbxCQBNxuQzA7x820EY+6a2bv4p6DNfXniFLXUv+EjudG/so2bxxmzRzEIGmE3mbyPLGQnlj5jjdjmvKaKAPTdW+J+l6hqni25jtrxU1jRrfToAyJlZIxCGZ/m4X902MZPI49M/xJjw38MNF8PzsP7TvrxtamhyCbeJolSEN6M65fHXBXPUVwVGMdBigAooopAFFFFABRRRQAUUUUAFFFFABRRRQAUUUUAFFFFABRRRQAUUUUAFFFFABRRRQAUUUUAFFFFABRRRQAUUUUAFFFFABRRRQAUUUUAFFFFABRRRQAUUUUAFFFFABRRRQAV13w0+G2qfEvxHa6dZ294tm8qx3OoQWjzx2oIOGfGAOnciuRrV8KeJLnwf4k07XLKKCW8sZfNiW5Qsm7GOQCDjnsRTA0JPhr4rXWp9Kj8NaxLfxJ5ptl0+XzfLyQJCm3IUkdelVdO8D+I9YvryzsPD+qXt5Zttube3spJJIDkjDqFypyD19DWJPtuJHdo0+di5ULxkmmtEjKAyKQOgIoA3tL8DeJNc+1f2d4f1XUPsrmO4+y2UsnkuOqvtU7TweD6V0Xhf4MeI/FPhTWNbt9K1TbaRxPaRR6dJIL7dJsYRsOu0ZJwG6dq8/aNHxuRWx0yOlbOk+JrnRtB13SYYbZ7bWUijuWlQlwI33rtIIA565B49KAMy4t5bWeSGaN4Zo2KPHIpVlYHBBB6EGo6KKQBRRRQAUUUUAFFFFABRRRQAUUUUAFFFFABSqpdgqgsxOAAMk0lFAHf638FfEuh+B7DxDPpOqqZpJxdWsmmyp9jjjCkSOx6K2TyQB8p5NczqfgzxBoumw6jqOhalYafNtEd3dWckcT5GRtdgAcjkYNNvfE1zfeFdK0CSC2Wy02ea4gdEIkLS7d245xj5RjAHfrWMsaKxYKoY9SBzTA3NW8EeI9Bht5dT0DVNOiuHEcL3dnJEsrEZCqWUZPsKsXHw38W2t5a2c3hbWobu63fZ4JNPmWSbaMtsUrlsDk46VzaxomSqKpPXApBDGFIEagHqMDmkB3HxL+Fer/DXUEiu7W9ewkjhKX81k8ETSPGHaME5BZckEZz8p4FcVWx4s8UXXjLWjql7DbxXJghtyLZCq7Y41RepJzhRnnr6Vj0wCiiikAUUUUAFFFFABRRRQAUUUUAFFFFABRRRQAUUUUAFFFFABRRRQAUUUUAFFFFABRRRQAUUUUAFFFFABRRRQAUUUUAFFFFABRRRQAUUUUAFFFFABRRRQAUUUUAFFFFABRRRQAUUUUAFFFFABRRRQAUUUUAFTWVjcaldRWtpby3VzK22OGFC7ufQAck1DXZ/Bv/kqXhn/AK/E/rTA40gqSCMEUlSXP/HxL/vn+dejfDODw5N4L8bS6tolxqNza2UcqzR3kcRVTPGuI90DmNuTl8nIJG0daAPNanhsbm4t7i4it5ZYLcKZpUQlYgxwpYjgZJAGe9F9JbSXcrWcMtvalsxxTzCV1X0LhVDH3Cj6V1/g/wD5J54//wCvez/9KkoA4mitaz8MXV9pUmoR3OlpDGGJjn1W1inO3riF5BI3thTntmiPwxdS6MdTFzpYtwC3ktqtqtzwccQGTzSfbbyOelIDJorWk8MXUWjDUzc6WbcgN5K6ratc8nHMAk80H228DnpXUal4P0/VfhzD4r0+P+xHt3SzuLO8m+S+kAAMtozHLnu8fO3OQccBgcDRRXqnxs8RTSfF6+i1d7vWtKsJE8nTZryRYlBiQlV67FJxnbgn1B5AB5XRXofxvtbS38UaW9nYWmmx3GjWVw8FlCIo97xBmIUepPU8+prk/Ct1d2uuQf2fptvqt/NmC3t7m2FyvmONoYRH5XYZ4DBlzjINAGRRXd/GKPTrbxNaW1pHZx6lb2MMOrjTY1jtvtqgiTYqAKMfKDtAXcGxWJ4L1E2GqODqOkaXFInz3GsaWt/HwegQwTEE+oUdOSKAOfor2rS5Z/Cv7SlrbaL9o0HTrzU7fFvZ3BSOa3cqwyEbBjcHcEPADAYGMV5J4g/5D2pf9fMn/oRoAoUUUUgCiiigCeSxuYbOG7e3lS1mZkinZCEdlxuCt0JGRnHTIqCu317/AJJL4S/6/wC//lDXHWbwR3UTXUUk9sGBkjhlETsvcByrBT7lT9DTAhor0v42Q+G9P15LXStDudNuTZWcvmLexGDDQIxHlLbqdxzy2/k5OOcDzSgCe8sbnTZ/Iu7eW1m2q/lzIUbawBU4PYggj1BqCu++KllJqPxCS2ieGOSSysVDXM6QRj/RYvvO5CqPckCuam8KXkOrQ6c11pLTyrvWWPWLR7cDn704lManjozA9PUUAY1FbP8Awil5/bH9m/atJ8/Zv83+2LT7Pj08/wA3y8+27PtWt4R0Gz/4S7+wdXsJNXN4BbRyaHdR3UkEjEFZIjGzRy46Fc9CeVIyADkKK2fGHhs+EfEl/pH2+z1T7LJsF1YyiSKT6EdCOhHUEEV1/wAL9WvtE8E/EK802+udOvI7K12XFnM0Ui5uUBwykEZHHWgDzeivU/hHcrefa5Na0vS5fCdik1xrOoXlkkk8nmJtjRZ2BdZC2NixFCSSTnqPLWxuO3O3PGetACUV6h4BWDxB4V1vTrl9G1G5XS7g2WlR6YkV+siEOJvtXkrkKodtpmYsBjaag0LWL+8+B/i2yuL66uLO1vbD7PbSzM0UOWlLbFJwuT1wBmgDzaiiikAUUUUAFFFd38C2K/Fzwwykhhdggjt8ppgcJRXZaLr3iXXPE139ltT4q1+7QxRy6nbf2nMiqdxKLNvUnauMsrYGcY61Z+MUenW3ia0trSOzj1K3sYYdXGmxrHbfbVBEmxUAUY+UHaAu4NigDhKK3vB2oNY6mwGoaTpaSJhrnWNMW/iGOcBDBMQT6hfqRXpMM03hf9o3T10MzaFp19qFoyR2ExijuLeQxtnCNjy3+95Z4AIBAxgAHjFFanir/kaNY/6/Jv8A0M11nw7/AOKf8J+KvFcCodTsFgs7J2wTBJOWDTAf3lRGCnsWz2oA8/or1jwb8OvDGs6X4NGpPrD6n4lubm2V7WeJIbcxttDkMjM+Sy5XI7nd0FP0n4WaC2o+GfD98+qSa5r9k13FfWsqLbWxbeIlaJoy0g+TLEOuM8A45LAeSUU6RTG7KeqnFeneIPBvgfw/Z2dnPe6umsXmhxalFOzIbdLh0VkgKLGWYMd3z7lC5UHdyQAeX0V694s+FPhrwzaapa3Gri01LTEhZ5m1ixuGvGJUTJHZKyyxsAxK72OQpztzxv8AibS7bVLL4eeDNE8Sa5Z2mrWFufsRtUhtJhJM5eaYLcEGTjO0q4+UfP6FgPAqK9lh+FPhTVNe0SzttTNqLrWP7Pms012x1G4kgIJWdfs4/dEFSCjBsEjDGs/Q/Afgvxdrdtp+kajqdvJbTXJv0vpIlaa2hi3+dG5VY4ixVl2u7bcgkkA0WA8qor2Cz+F/hO9v7aRtSljtf7Nvby80/T9Xs9TuLd4BuU+dCAhV1PAKqQQetQR/DHw/eR2Wtxy6ja6A2hy6xc2ck8ct1ujmMRiSURquGbb8xTgE8GgDyaivRfB/g3QfGCa9qqW11Y6VpUEP+hXeuWsLyzSOVXN1LFHGi8E42E8YGc8aMfw78IjxFq9pFrMOphLa3n0+xj12ztjM8hAkia8KvCXjzjAA39RjBFAHlNFX9f02XRtavrGeyuNOlgmZDaXTB5YsH7rMFUMfcAA9cVQpAFFep6L8GR4m0/w1qWnTSfYLuOD7f5zjf5jXTwusOEPRV3fN0AJyelSKtpZ/Db4iaZpVzqUNpY6jbhxJPBJDeIbh1jLL5AdGVUHKyYJPQDimB5RRXpNrq19ffAXVba5vbm5trXWrRLeGaZnSFTFMSEUnCgnnAxR4k1a+1b4H+GjfXtzemHV7qGI3MzSeXGsMO1F3E4UdgOBQB5tRWp4V/wCRo0f/AK/If/QxXsviT4b6J8RPG3igaRNqFhqVv4iitLma+kjeKYTyurtGiqChVlJALtuUZ+XOAAeDUV6H8QPBfh7RdE+26TfxxXUd81q2nya5ZalLLDtJWcfZseXyCGRgcFhhjWN8L/B8PjzxxpuiXEssUNx5jMIMea4SNn2JkYDNtwCeBnPtQBytFexax8KtHt7zw9a2+i6/bajc2E+o6lpV9qVvHLaIhIXzJZIY1hQ43GRweDjZnGZpPhD4Ztb6W5vLu/h0keHTrXlWd7b3siyLMI2iE8a+XIDzhgBjIz0IJYDxeivZ/D6eDbfwN42ms21W60iTT9OlubLzkFzDc+eQYfOMQUruCnzBGeD93NUrr4U6ZY6teTra399oItLO7ikn1a000QCdA4SW4nXYXHQKqAt1+XGCAeS0V7zp37P+njXNbt3g1rX7a01yDTFTSpY45LaCRPMNxMxjkUhQVHAUZBOQMVSh+Evg/wDcXM2pNFpeo6hc21rez6/Y2wt7eJ/LE7LMqtcZYFtsYTC8ZJIosB4nRU15bra3k8CypOscjIJYzlXAONwPoetdjrXhzQfCfhnRJdQh1DU9Y1iya+RrW8jt7e1RmKxgqYXaVsqxbDJjgepoA4iivWZvhfoUV7eeHQ2pnxDa6J/arah5yfZDIIhMYvJ8veF2Hbv8z738OKz/ABJq19q3wP8ADRvr25vTDq91DEbmZpPLjWGHai7icKOwHAoA82or1nXY9S8feEPhXZXeo3F3e313eWa3N5K0zKDPEi8sc4UHpnoKsap8IdAvtQttN0jV4bHUX1ePTRDda3ZX7zxMSvniO3IaIqRzG2fvAbs5osB49RXewp4Ot/HVjYW2j6xc2kN+LeR7rVIf9IAcKG2C2IQZ5KkvkcZHWui1HwZ4d8W/GDW9HsbC60Szsbi9uLwnUIBG8cRY7YQ0UaQA4wN7MFB56cgHkFFesyfDHw0zLqMeoM9ha6ZcX+oaVY6xaahcxNG6oqC4hXywHMiHJTIAbg4FN+JUlrNa+DXsoJra0OgQ+XDcTiZ1HnTcFwiBvrtH0oA8orf8A+ILfwp4y0jV7uOWW2s7hZZEgALkDsASBn6kVgUUAPmcSSuw6MxNaXh7xRqfhW4nm0y4WFriIwTJNBHPFLGSCVeORWRhkA8g8isqikBPfXkmoXctzMIlllbcwghSFM+yIAqj2AAra0HxFbaX4V8T6ZLHM0+qRW6QsgBRTHMsh3ZORwOMA81z1FABRRRQAVf1bXtQ1z7KL66a4W1hW3t48BUijXoqqAAB3OBySSckk1QooAK7n4i+MdK17xtJ4l0J7szzuskltq2nW5jiKoqgAGSVZQcH7yjtwa4aigDqdU+Imp+KNQ0+fxC0d/FZ7Qn2C1tbCcIowqLLHBwAAMAhgMcCtLWfjJr998Rr3xlp7Q6TqlwvlLthjuNkewJj94hBYqMFtozk4ABxXCUUwOu0L4hTaf4t0rXdQsobiTTZFlhh0mC20vLKwI3GGDDDI5yuSDgEVUuPH2pzeItW1lYdNF1qU7TzJPplvdRqzMWIRZ0fbye3PqTXOUUAdr4N8ZWsPxDtvFPim+1K6uILpLxmtLaOd53Vgdp3SxhFwMDGQAAAuBXJ6pdLe6ld3CBgk0zyKG6gFiRmq1FABRRRSAKKKKAOi1PxHbXvgfQ9FSOYXVjc3U0jsBsZZPL2hTnORsOcgdR1rnaKKYG5q3jTWNd0y2sNQnt7qC2jSKKR7KD7QqIMKvnhPNKgcYLkfkKw6KKQHRePfEdt4q8RHULSOaKH7Nbw7ZgA26OFI2PBPGVOOemK52iigArQ0nXtQ0H7UdPuns3uoWt5ZIwA5jJG5Q2MqDjB2kZGQeCRWfRQAV2HgfxJo+k6H4n0rWH1CGLV7eGGOfT7aO4aNklWTJV5Y+Dtxw3euPooA6jT/iRruj6Gmh2lzZzaNFO1xFbX2kWdyPMPG8+bE53Y46nA46VY034iPpPgXXfDtvZEya3NHJd3Eky+UFRiyiKFUGxskZbcRgYCjrXH0UwN+38dazZ6PJplrNa2ltJCbeR7bT7aK4eMnJRp1jErA45BfkcHI4rSsfEmjab8NdY0WN9Qm1fU7i2mcPaxpbxCIvwJPNLMSHH8C4xXHUUAFFFFIAooooAK6T4b+JLXwf440fWb2OaW0s5/MkS2VWkIwR8oYgE89yK5uimB1+kePr/4f6zfXHgzVriKK6QJJPf6ZbCVlzu2lGMygZx0bnAzSaF8QptP8W6VruoWUNxJpsiyww6TBbaXllYEbjDBhhkc5XJBwCK5GigDorjx5qc3iTVdbWHTRd6lM88yT6bb3UalmLEIs6OF5PUc+9aHhXxjb/8ACwrTxP4pvtRuJbe5juy1nbRzPKyMpCYaSNUXAwMZCgABcVxtFAF3Wr1NS1i/u4gyx3FxJKoccgMxIz781t+CPFVroUerabqsEt1omrW/kXSW4Uyxsp3RSxhiAWRuxIBBYZGa5eigDcsfG2t6WdG+yX5iGjSyTaf+5jPks7BmPKndkgcNkVctfid4mstNWwh1MCBY5Io3a1heaFJM70jmZDJGpyeEYDk+prl6KACr+sa7f6/Lby6hcfaHt7eO1ibYq7YkG1F+UDOB3PPqaoUUgOh1bx9revWItNRntb1fLSL7RNp1s10VTAUG48vzjgADl+nHSql54s1e+m0qaW/k87S4Ut7KSILG8CISyBSoByCScnn3rJopgdRP8TPENxq1rqhuLGLUra4+1R3dvpNnDL5vOWZkiBfqT8+QTz1rH0jxBqOg6xDqunXclpqEL+Yk8eMgnrkYwQckEEYIJBGKz6KAOhbx9rRuHnjlsrSV7aW0c2Ol2lqGikGHUiKJQcjuRkdiKLD4geINMfTmtdSaL+z7eS0t18mNkELkl43UqVkUljkOGH5CueooA6O1+IWu2OoXF5bT2dtJcw/Z54YdMtUtpo85Ae3EXlNzzkoTTbbx5q1pfT3cUekCeYqW3aFYOg2jA2I0BVPfYBnqc1z1FIDufCnxVvvDeqa/rE0c2qa5q1tLbPdXFyBEFlGHLx7CXPTbhlC46EcVw1FFMDqdE+KHinw5babb6bqzWsOmtI9qggibyzJnfnch3Z3Nw2QMkjFM074ka9pOjz6VbS6ethcY8+OXSLOVpsEkF3eEsxBJIJJIzxiuZooA6WD4ja7beHX0KOTTxpTgb4DpFmSxAKhjIYd5cAnDltwzwaL34ja7qHh9dEnk086Wp3LBHpFnGVYgAsrrCHDEKMsDk45JrmqKAJbW6lsbqG4gbZNC6yI2AcMDkHB966PWPib4m150e61MRutz9t3WNrBZlrjtK/kIm9x2ZskZOMZNcvRQBt+IvGWqeKsnUjYySGQytNb6Za20ruc5LvFErPnOfmJ5561f+Gviqz8HeJvt9/FPJbNa3FuTbxpKyGSJkDGJyElAJ5RyFPeuVooA9H1r4n2tjb6cPC8KQahHFPDe6lNodjZC7ilI/ctaRB4WQBfvNkkntgVgal8TvE2r+Z9q1NXWSx/s0pHawRqLbfv8pVRAFG4DGACMYGBxXL0UAbXh7xjq3haC+g06a3WC+CLcw3VlBdRyhDuXKTI44PPArRtvin4ptbrULgaos8l/LHPcC8s4LlGdMhGVJI2VCoOBsAwMAYAFcpRQB6tpvxdtNU0WeLxPcXc2qz6n9vnvP7DsNUSdTGqbRHcMqwthfvICWzz0rA1n4pXj6lqMeiWtnp3h+a6e5ttJvLC2vYrYsMEoJo2EZOMkJgfkK4iigBWYsxY4yTngYH5VvQ+Otah0OPRzcW9zp0QdYorywt7loQ/3hHJLGzxgnn5GHPPXmsCikB0s3xI8SXGinS5NSDWjWws2f7ND9oaANuERuNnmlMgfIXxgYxjilvPiNruoaCmizSaedLQ7kgj0eyjKsQAWDrCGDEKMsDk45JrmaKAOn1L4leIdW0y10+e4sktbV/MtltdKtLZ4G3Bi0ckUSuhJAJKkZxzmoda8f654gmSe9uLY3aTC4F5bafbW1yZB0czRRrIxzzkseeevNc9RTA3Nf8bav4mmWfUJbV7lZDN9ot9PtraZnPVmkijVnOecsTzz1q7cfE7xLda1baw1/DHqtuzOt5b2FtDK5Iw3mskYMoI4Ik3Zyc9TnlqKAOkh+Imu2upC/t5bC1uPIe2YWuk2cMUsT/eSSJIhHID/ALanoPSq/iDxvrniq6huNVvzdzQxCCM+VGgSMEkIAqgAAscDHAwBwABh0UgCu8+C/gm38bePNJtL8Wc2mNcKlzb3GoR20kikHhFMiu54/gyRXB1f0LXb/wAM6xa6pplx9lv7V/Mhm2K+xvXDAg/iKYGrdeB7wa5c2Ed3oiNGDIGbXbIRbdxAAlM2wtx93duHcVUsPCl5qV5d20d1pMUls213utYtII25I+SSSVVkHHVCR09RWRJI00jO5y7EsT6k02kBs6b4TvNV+0+VdaTF9ncxt9r1i0t9xHdPMlXePdcj3rtPA/wzi174f+LNTnbSWvIIbZ7GSXW7aIwFptrmRTMAmV4HmgZ7c15lWjYeINQ0vS9S061ufKstSVEu4tinzQjblGSMjB54IpgUZ4Wt5pImKM0bFSY3DqSDjhlJBHuDg0yiikAUUUUAFFFFABRRRQAUUUUAFFFFABRRRQAUqqWYKMZJxycD86SigD07xJ8MY9L+Fehauj6QNSe5u/tc0euWsnmxps2LGBMVdhlsrGC3IyOlcRqXhi70vT4r2W50uWKTbiO11W1uJhkZG6KORnX3yox0PNQ3PiHULzQ7LR5rnfptlJJLbwbFGx3xvO4Dcc7R1J6cVnUwNjVPCt3pEUEk11pMwmcIos9XtLllJ/vLFKxQe7YFTzeCb+3u7a2a90Nnn3bWj16xeNcDJ3usxVPbcRnoM1gUUgPRfjT4BtvBPiJE08WMNg1tbEQQanFcSiRoFZ2MYkaQKW3EMRtORg4IrzqtHXvEOoeJ9Q+3apc/arry44vM2KnyIoVRhQBwoA6duazqYBRRRSAKKKKACiiigAooooAKKKKACiiigAooooAKKKKACiiigAooooAKKKKACiiigAooooAKKKKACiiigAooooAKKKKACiiigAooooAKKKKACiiigAooooAKKKKACiiigAooooAKKKKACiiigAooooAKKKKACiiigAooooAKKKKACiiigAooooAKKKKACiiigAooooAKKKKACiiigAooooAKKKKACiiigAooooAKKKKACiiigAooooAKKKKACiiigAooooAKKKKACiiigAooooAKKKKACiiigAooooAKKKKACiiigAooooAKKKKACiiigAooooAKKKKACiiigAooooAKKKKACiiigAooooAKKKKACiiigAooooAKKKKACiiigAooooAKKKKACiiigAooooAKKKKACiiigAooooAKKKKACiiigAooooAKKKKACiiigAooooAKKKKACiiigAooooAKKKKACiiigAooooAKKKKACiiigAooooAKKKKACiiigAooooAKKKKACiiigAooooAKKKKACiiigAooooAKKKKACiiigAooooAKKKKACiiigAooooAKKKKACiiigAooooAKKKKACiiigAooooAK9D+BOsaFonxI0S51lJIhHdKyXrX8dtBbjBy0gaNtw6fxJj3rzyimB0t5qPhdteupjomrSWDZCwprUQk37jl/M+yEFSMYXZkf3jVOwvPD8V5dve6RqV1aO3+jw2+qxwvEMnh3Ns4c4xyFToeOeMaigDZ0288PQ/af7Q0jU7zc5MH2bVY4PLXsG3Wz7z7jb9Kbpt5oMNlMmoaVqN5dsT5U1tqccEaDHG5Gt3LYPoy56cdayKKQGtZ3ehR6VJFdaVqM+pENsuodTjihU/w5iNuxOO/7wZ9qI7vQl0YwyaVqL6tg4vF1ONYAc8Hyfs5YjHH+s9+OlZNFAGx9s8P/ANlRxf2RqX9pDbvuv7Uj8luecQ/ZsjI4H7w4PPPSu+8YeIPCV58JfCdlZ2V59shkviludahlktGZ0IaZRbgurYyB+74B5PWvKaKYBRRRSAKKKKACiiigAooooAKKKKAClXG4bgSueQDg0lFAHq3ijxB4Ruvg/wCHLG0srwXkV1eslqdahkltmby8SSqLYFkbHAwn3T8x7cBqV3oU2nxR2GlajaXw2+ZcXOpxzxNxziMW6Fcnp85x0561kUUwNjVLzw/NFANO0nUrKRXBma61SO4Dr3ChbaPafclvpS6leeH5prU6fpGpWcSvm4S51WO4aVcjhGW2TYcZ5IbqOOOcaikBtXl74dkv7V7XR9Tt7JSftEE2rRyyS+myQWyhPxR6Sa88Ptq0MsWkanHpiriW0fVY2mdueVm+zBVHTgxnoeeeMaigDZ+2eHv7Y83+yNT/ALK2Y+x/2rH5+71877Ntx7eX+Ndx8F9e8KaT8UtMvLmzvNNtVlJhuLzWIhHbDymB81jbqHyemCmMjrXl1FMDR1640651KR9LtLmytf8AnndXa3L7snJ3rFGMH02/iazqKKQBRRRQAUUUUAFFFFABRRRQAV03w5vtI07xhpU+r29xNCl3CyyQ3qWywkSKd7lon3KB1Hy/7wrmaKYHoHxD1rwpffEjXLuPTNRvrGS8uGZ7bWosXDGQlZI3+zMFTGflw+cj5uOeYa88Pf2wsq6PqY0vZhrQ6rGZy3qJvs20Dpx5f41jUUAbMd54fXWJJX0jUn0sphLRdVjWdW45M32YqR148sdRzxyWt54eTUrmS40fU5tPYfuLaLVY45Yzx96U2zB+/RFrGopAbNheeH4ry7e90jUrq0dv9Hht9VjheIZPDubZw5xjkKnQ8c8GmXnh+Frk6hpGp3is+YBa6rHbmNeeGLW0m89ORt6dKxqKANfTbzQIbOZL/SdSu7pi3lTW2qRwIgxwGQ27liD1wy59utd/4X8QeEbX4P8AiOxu7K8N5LdWTPajWoY5bll8zMkSm2JVFzyMP94fMO/lNFMBWxuO0ELngE5NJRRSAKKKKACiiigAooooAKKKKACiiigAooooAKKKKACiiigAooooAKKKKACiiigAooooAKKKKACiiigAooooAKKKKACiiigAroPAHh+38VeNNH0i7eWO2vLhYpGhIDgH0JBGfwrn67P4N/8AJUvDP/X4n9aYGHp3hLWtcW5k0rR9Q1KC3YiSS0tXlVMc/MVBA45pmqeFda0NWbUtHv8ATwsvkMbq2eLEm0NsO4D5tpBx1wQa9Q+EfxG0jwbpr29/qcljL/bBumWOOVv3YtJ4w2UU9JHTjrzntmui0Hxdo3iq61KK5eS90LS9I07VXk8tgsd1aIitGdwH+sy0ee/GM0wPAdQ0670m8ltL61msruI4kguIzG6HGeVIyOCK6LQPCNjr3hLX9TXUrmHUNIhW4e0azUwyI0ixjEvm7g2Wzjy8cdawtb1i68Qaxe6neyGW7vJmnlc92Y5P4c123gG40Oy8IeKbbUPE1hpt5q9oltDbzW147Iyzo+XaOB1AIU4wSeRkCkBi2fgd5fAN/wCJblr+1WKWOO0X+y5nt7rLbXP2kDy0KnseSeBWbB4Q1660R9Zh0TUZdHjzv1CO0ka3XBwcyAbRg8da63wq+gWnw78UafdeKNNtNR1Y2rRQPa3rFfJkdiHZLcryCMYJ684qeHWvDuqeB4rXxLf6Tf3dhpzxaX9htr1NSt5C+5Incotu0YJfdklsE7WzigDH1z4PeLvD/h+y1m70K/FlcQvPIy2c2bVVYr++ygCZxuHPQg1nax4dttP8F+HdXjeVrnUZbtJVYjYoiaMLtGMj75zknt0rW1q80XxD8PfDMA1a1sdU0SG5hewubecvNulMimJ0jZOQxHzsuCPQ5pvib/klvgj/AK+NR/8AQ4aBHE0Vsapr1pqEUCQ+HNJ0wxuGaSze7LSj+63mzuMf7oU+9LqWv2eoTWrw+G9J01YX3PHaPdlZxkfK/mTuccfwFTyeemEMpaPpN1r2qWunWMYmvLqQRQxs6pvY9BliBk/WoLu0nsLqW2uYZLe4hcxyQzIVdGBwVIPIIPY1sTX2m+I9UsYpbHTfCtlu2z3Fil1MoUnlikksrMQM4C4znn1Gn8SvHUHjjUbNrayMMFjALWO9u23314igAPcuDtZ+OMDgHGWwDTAoeAfCqeNvFljo0l21hHcCQtcLF5pQJGznC7lyTtx1HWr3hb4dzePvEjad4dus2W9EF9rCLaBWfhVZUeT5iwICqWJAJwADi98Cv+SpaR/1zuf/AEmlqv8AB++0rRfH2kazrGsW2k2mnXKTt50M8rygHkIIo35/3to96AOQvLVrK7nt3Kl4XaNivQkHBxW/4R8E/wDCXSRxLrmk6XcTXKWlvBfyyeZPK3QKsaOVGcDe+1ckDNb3h74fWvjzxzqdvDrsY0WNJryfXLezma2t1wzjzfNERQHBXc2Bnpmj4Vz+GNDW81vU9as7bxBaMBpVnf211JbiTtcOYoZM7DyqEDJHOB1AOE1Cwn0q/ubK6j8q6tpWhljJB2upIYZHHBBre8K+Bz4wXyLHWtOXV2WR4tJmW4WaXYhchX8ryQSFON0g6dq1dH8Ct4ut/F+t3ut4tdNhkuv7W+yyG2vrgsCIvMfYUdywwCu45+7Vv4XeINO8Lf6VqWu6bHp8izLd6UmmyyajMhjZDHFcCD93uzj5Z0Azk9wQDE8N+EdP8ReGdevl1K6g1LSbU3jWpslaCSPzEQAS+buDZfOPLxx1rlK9A+GxVvD3xDKrtX+xOFznA+0Q8Zrz+gDpb7wvDD4L8P6rb+fLfald3Nu0Iwy/u/L2bQBnJ3nue1Mm+HPiy3XdL4X1mJcouX0+YDLttQfd/ibgep4rpBdRWPgLwBcztshh1i7kdsE4UNbknA9hXfeKfjJoeoaRrC2euTveSRaibY+VMD5kmoRzREErwTGmcnptAODgUwPB20XUFhvJjYXIisnEd1IYW2wOSQFc4+UkgjB7g1DZrbvdRLdySw2xYeZJBGJHVe5VSyhj7Fh9RXrXxu16GOwsbK0je0n17y/EOqW7DaUmkjCrGR6A+Y4z/wA9RxXk1jbxXd5FDNdw2ETthrmdZGSMepEasxH0UmkB1XiL4dvpnjDT9D0ua81n7dbW91E0diROUljEmPJRnJKqTkAnoap+JPBc2m+Nrrw7pAvtbmjkEcIOmy29xKdgYj7Ow3qRzwR2zXRfEo+H/FWvaVJZeLNMktl062s5pZLW+VYmihVSWBt9xViONoJ9QK1/EXizTF+Ll94i0TxPos1jfQsjnULG+MJjMSxvDKggD/MN3Kdh95TQByfh34QeLfEniCbRY9DvrO+hhM0y3lpMnlLsZl3jYSu7aQuRyeKb4W+H91c/EDSvDniKx1DR2un+eKaEwThSpIYB17464rotK13wV4Z+JukXumOtvpJsWgvprSKdraKeWB43eBJR5xjBYHDZb72M8Vn/AAq0210v4ueHYLPUrTVYfO3faLKOZI8lW4xLHG2R/u4560CPPaK0dF1a30mWR7jRtP1kOuBHqDXAVPceTLGc/Uke1WNP1+zsbm7ll8N6TqCTNuSC6e7CW4yflTy7hGxz/GWPA565QzGrRk8O6jDoMGtNaudKmma3W6UhkEigEo2D8rYOQGxkZIzg1Y07X7OxhuI5fDek6g0rllkunuw0II+6nl3CDA7bgx9Sa6LwT4w07wL4d1WUD+2dT1aM2j6RcI32GOIYPmzjjzHyTsCkbOWLZwpYHCV1epeEdP0nwLoutz6ndNf6sJjBZR2SGFRFLsbfKZQwJ6jEZ9PeuUrvfGf/ACS34d/9c9Q/9KaAM3xF8NdW8K+GLDW7+S1SO7na3+yRy754XCB8SADCnaynbncM8gGuYt4Tc3EUKsiNIwQNI4RRk4yWJwB7ngV6Lql1oH/Cn7DQ4PFGn3Gq2uozX7W0dreruV40UIrNbhd4KnOSF9GNZXiL4dw+GNF8K3l/qjWd1rIZ7mxu7No5bGMOFWUqCWdGGWBCjIHGaAKfiPwDNoOiRaxb6tpuuaY129i9zpryFY51UNsPmRoTlTkMoKkDrXPWNvFd3kUM13DYRO2GuZ1kZIx6kRqzEfRSa9G+IN1ok+jab4d8Ha5aalpFtMrR2cNrdre31y42tPJvgVM9FVAxwOmSTWR4u8C2/gXxVpWnNrtuJZLWG7uZNQs3X7DKwLeTPColbIwuV2nO4ZXFAGfrPg1PDp0a7u9ThvtD1NXeLUdKieQlUco4EUwibcpHRtoOeDVvxH4GtfD/AI00rSI76a+s76O0nE7wCCQJOqtgqGcBgG9SM1b+JHiTT9b0nw9ax39trGqWUcyXF9p1m1naCNn3RxRwmOIAjLFmEa53DlsZrX8ff8lM8I/9eGk/+io6YHK6h4B1W48Wa5pXh/StS1iLT72W2H2a2edwquwXdsXqQhPQdDWff+CvEOlwyTXug6nZxRx+a8lxZyIqpu27iSvA3cZ6Z4r0+PxlpnhzVviTY3l61tcXuub0jVHYSIks+7JUEcFk4P4dK6eb4g6X498baXo+n3s2p2usXGrWV6PKkBS3uHVopfnAyECK+P4QnOKBHzzd6beafHbSXVrNbR3MfnQNNGVEqZI3KSPmGQRkccV0Hw58I2PjjxJDo11qNzptxc5FvJDZrOhYKzEPmVCowvUBuvSm/EjxDF4i8V3DWjZ0yzRLCwXOQtvENiY+uC31Y1p/BrUNI0HxxY6zrOtW2k2tkzMVmguJXl3I6/IIonHBIzuI68ZpDM7wJ4HfxjJqDytf2mn2Vs80l5Z6XNeqrgZRHEY+QNg/MeBgk1maH4T1zxR539jaNqGr+Rgy/YbWSby85xu2g4zg9fSuw+GTeH/DHiy7vNR8VabHbR2tzaxSra3r+cZYGQMgFvkKGYA7wp4OAal8D6loVlY3GheIdZ8P6j4ZbUEuJILi11HzyVUqZrZ4ol2sVYgCU4yBlR1IBj6b8HvF+seFTr9loV/dWnniBIobOZ5ZAQxMigJgoCpBbPBIFUNO8N2914J17V5WmS80+6toI4wQEIk8zduBGcjYMcjvW1pd94c1LwLrvh19VTRd+rR39nLqlvLKJIlSRNrGCOQhwGU/dx15qHQwF+E/i8AhgNQsBuHQ8T0AcPRWtHrlrHoxsT4f0uS4II/tJnuvtIyc5AE4iyOn+r6e/NEmuWsmjCxHh/S47gAD+0le6+0nBzkgzmLJ6f6vp780gMmtHXvDuo+GbxLXU7VrWaSJJ48kMskbDKujAkMpHcEjg+lS3muWt1pUdnH4f0u0mQKDfwPdGd8dSQ87R898IPbFdL4k8YadD4HsPCGmj+2obeT7U+rXiuGhlYDdFaKcGOLj5twO9iW2rxlgcZp9r9uv7a23bPOlWPdjOMkDOPxrqvEngCGx8bXHhnRL241S6tZZYbia9t47OJDHnc4bznHlgAksxXAHSuc0D/kPab/18x/+hCuq+J1nBf8Axg8UQXN9b6bC2p3G66uklaNMOTyI0dvbhT1oAwvGvhG78C+IrnRr2e3ubiBY2MtqzNGwdA4wWVT0YdRVbQdGj1q6ljm1Sx0iGKIyvc6g7hMDAwqorO7HP3VUnqegJr0D4iW2n/Er4pWreHNU/tyPUvIgMen2NyZ4QkSI7GOSNN33WYbSeBztrOsvCPhHQfiZqWk+IfE0U2g6a7AXkEMpW+dcYjBiWQxgnILYbABxk4oA5fxd4TvPBesHT7ySCctFHcRXFs5aKaJ1DI6kgHBB7gH1FJ4b0C28QXP2ebXNP0aVnWOIX0dywlZjjAMMUgGOOWwOfrXbNoc3xg+KUNv/AG1bXFncIPMvdIsbhrbTLdBtVSkqRFY0AUFjgAHOSc1h+D5IfDviS7mg8UaLphtZ/LiutS0t74TKr5EkSi3mCn5QQcqeeD1oAl8K/DiLVvHdx4S1i/uNK1VJnt0a2tUuovMQMWDt5qbR8vBUNnPQVw9et+A9U03Wv2ire/0iKaLTrm8nliW4Ys5zE5LEkk5JyeSTz1rySgAooopAFFFFABRRRQAUUUUAFFFFABRRRQAUUUUAFFFFABRRRQAUUUUAFFFFABRRRQAVNZ3lxp91Hc2lxLa3MZ3RzQOUdD6hhyD9Khq/oOg33ifWLTStMg+0390/lww71Tc3pliAPxNAFEksSScn1q7/AG9qf9kHSv7SvP7K8zzTYfaH+z7/AO95edu73xmqckbQyNG4w6kqR7im0AdBp/xD8WaTZxWdh4q12wtIhiO3tdTnijQeiqrgD8BWPqGpXmr3kt5f3dxfXkpzJcXUrSyOcYyzMSSfqar0UAFFFFABU0l9czWsNtJcTSW0BYxQtISkZbG4qucDOBnHXAqGtK88O6hYaLp+rT2+zT9QaRLabep3mMgOMA5GCR1Az2oAzaKKKACiiigCzpup3mj3sV5p95cWF5ESY7i1laKRCRglWUgjgkcHvS6nqt9rV7Jeaje3OoXkmN9xdzNLI+BgZZiSeABye1VaKAEKhsEgEjkcdKWiigBNo3BsDI6HFLRRQBpQ+J9ZtdHl0mHWNQh0mUkyafHdyLbuTjJaMHaeg6jsKzaKKAJpL65ltYrV7iZ7WFmaOBpCURmxuKrnAJwMkdcClsb650y7iurO5ms7qFt8c9vIY5EbsVYEEH3FW7rw7qFnodlrE1vs069kkhgm3qd7R43jaDkY3DqO/FZtMDSh8Tazb6w2rxavqEWrsSzahHdyLcEkYJMgO7JHB5q3qnj7xRrtk9nqfibWtSs3ILW95qU00bEHIJVmIODz0rCopAFFFFABU1nfXOm3UdzaXE1pcxnKTQSFHU+oYHIqGtDw/wCH7/xTrFtpWlwfab+5JWKLeqbiASeWIA4B6mgDPopWUoxUjBBwaSgAooooAK018Ua0uinRxrOojRycnThdyfZs53Z8rdt689OvNZlFABSKoXoAO/ApaKACkVQqgAYHoKWigCexvrnTLuK6s7mazuoW3xz28hjkRuxVgQQfcVPqGvanq2ojUL/Ury+1AbSLu6uHlm+X7vzsS3HbniqNT2NjNqV9b2dsnmXFxIsUSZA3MxAAyeBye9ADLi4lvLiWeeWSeeVi8ksrFndicliTyST3NWtP1zU9Jt7uCx1K8sYLxPLuYra4eNJ05+WQKQHHJ4ORyaZq2l3Wh6pd6dexeTeWsrQzR7g211OCMgkHkdjVSgDX0Xxl4g8NwyQ6Pr+q6RDI2949PvpbdWbGMkIwBOO5qHWvEmr+JJo5tY1a/wBXmjXYkmoXUk7Kuc4BckgZ7VnUUAFFFFABU0d9cxWstqlxMlrMytJAshCOy52llzgkZOCemTUNaVr4d1C80O91iG336dZSRwzzb1GxpM7BtJyc7T0HbmgDNooooAKKKKAHRyNFIrozI6nKspwQR0INX9a8Sax4kkik1jV9Q1eSJdsb6hdSTsi9cAuTgewrOooARlDLhgCPQ0tFFACMobqAe/IpaKKANLR/E2s+HfP/ALI1fUNK88BZvsN3JB5gGcBthG4cnr6ms2iigAooooAKKKKACiiigAooooAKKKKACiiigAooooAKKKKACiiigAooooAKKKKACiiigArtPhP8QB8O/GGn6lPBHPYRzrJcKtjbzzlQD/q3lXKHn+Flz61xdFMDo5/HmpNrNxqMcOk+bKvl7X0OxaPbuJH7owlA3PLAbj3JqrYeLdQ028u7qCPTTLdNukFxpFnOgOSfkSSJljHPRAo6egrGooA2dN8XahpP2n7PHpjfaHMkn2nSLO4wT/d8yJtg9kwPam6b4qv9JsprS3j05oZSSxudKtLiTkYO2SSJnX/gJGOo5rIopAa1n4ovrHSpNOij0420gYM02lWss3zdcTPEZF9sMMdsUR+KL6LRjpax6d9kIKlm0q1afk5/15i80H338dOlZNFAGx/wlmof2VHp3l6b9mTbhv7JtPO4ORmbyvMPPXLHI4PHFdZ4k+LUuvfD/RNCFtZpd2zXP2uQaNYxxlZGUp5JSPMbAA5KBCTjk153RTAKKKKQBRRRQAUUUUAFFFFABRRRQAUqsVYMMZBzyMj8qSigD0XXvi5NrPw70nQBbWaXkE1y11INFsY4jHJs2+VtjzG42nLKFPTk445HUvFN9qunxWU8enLBHt2m20q0t5eBgZljiV299zHPU5NZFFMDY1TxZf6xFBHcx6aqwuHT7LpNpbHI/vGKJS49mJFLqXi3UNWmtZbiPTVe2ffH9m0i0t1JyD86xRKJBwOHBHXjk1jUUgNq88X6jfX9reSx6YJ7YkxiHR7OKM5/vxpEEk/4GppJvFuoT6tDqTx6aLqFdiqmkWaQ45+9CIhGx5PLKT09BWNRQBs/8JdqH9sf2n5emfa9nl7f7Is/Ix/1w8rys++zPvXUfDf4rS+EfHVrrWoW1nNaeZvuY7PR7IScRlR5X7tRH1GdhXPOc159RTA0Nc1q417UGu7lbZJCNoFrZw2qYycfJEirnnrjJ9az6KKQBRRRQAUUUUAFFFFABRRRQAVv+CPFUng/xFZagsdvLDHPG8yzWUFy2xXDHZ5qkK2Bwy7T7isCigDtfF3xNu9c8aalrVnb6fHDNPM1ulzolixEbvuHmKYmV34HzNubr83Jzht4u1BtYXUzHpn2pU8sKNIsxBj3g8ryieepXPvWNRQBsx+LdQi1iTU1j037VImxlbSLNoMcdIDF5QPA5Cg9eeTRa+LtQs9Sub+OPTDcXAw4l0izkiHT7sTRGNOn8KisaigDZsPFuoabeXd1BHpplum3SC40iznQHJPyJJEyxjnogUdPQUaZ4t1DSGuWt49NY3D75PtWkWdwAefuiWJtg56Jge1Y1FAGvpviq/0qzmtbePTWimLM5udJtLh+Rg7XkiZlHoFIx1GDXXaD8XJtG+HeraAbaze8nmtmtZDotjJEI49+7zd0eZHO4YZgx68jPPnVFMBWYsxY4yTngYH5UlFFIAooooAKKKKACiiigAooooAKKKKACiiigAooooAKKKKACiiigAooooAKKKKACiiigAooooAKKKKACiiigAooooAKKKKACiiigAooooAKKKKACiiigAooooAKKKKACiiigAooooAKKKKACiiigAooooAKKKKACiiigAooooAKKKKACiiigAooooAKKKKACiiigAooooAKKKKACiiigAooooAKKKKACiiigAooooAKKKKACiiigAooooAKKKKACiiigAooooAKKKKACiiigAooooAKKKKACiiigAooooAKKKKACiiigAooooAKKKKACiiigD//2Q==)"
      ],
      "metadata": {
        "id": "vjmbaUVJd1ld"
      }
    },
    {
      "cell_type": "code",
      "source": [
        "letters = [1, 2, 3]\n",
        "def tail(t):\n",
        "    return t[1:]    # Creates and returns a new list\n",
        "rest = tail(letters)\n",
        "print(rest)"
      ],
      "metadata": {
        "colab": {
          "base_uri": "https://localhost:8080/"
        },
        "id": "eI0PMzUcTWAe",
        "outputId": "2fd1fdd1-9623-4bf5-c19c-b34b594223a2"
      },
      "execution_count": null,
      "outputs": [
        {
          "output_type": "stream",
          "name": "stdout",
          "text": [
            "[2, 3]\n"
          ]
        }
      ]
    },
    {
      "cell_type": "markdown",
      "source": [
        "Why It Works:\n",
        "- Returning a New List: The tail function does not try to modify t in place. Instead, it creates a new list that contains all elements of t except the first one using slicing (t[1:]) and then returns this new list.\n",
        "\n",
        "- Preserving the Original List: The original list letters remains unchanged after the function call, as we are not modifying t directly. Instead, we are working with a copy of the list and returning a new one.\n",
        "\n",
        "- Output of the Function: The output of print(rest) shows the new list [2, 3], which is the desired result of removing the first element from letters.\n",
        "\n",
        "Visual Representation:\n",
        "- Before calling the function:\n",
        "  - letters points to [1, 2, 3]\n",
        "- Inside tail:\n",
        "  - t points to [1, 2, 3]\n",
        "  - The slicing operation t[1:] creates a new list [2, 3], which is returned\n",
        "- After calling the function:\n",
        "  - letters still points to [1, 2, 3] (unchanged)\n",
        "  - rest now points to [2, 3] (new list created)"
      ],
      "metadata": {
        "id": "sGMA3FgyVg-3"
      }
    },
    {
      "cell_type": "markdown",
      "source": [
        "![example2.jpg](data:image/jpeg;base64,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)"
      ],
      "metadata": {
        "id": "DkQ9Zo4heRqu"
      }
    },
    {
      "cell_type": "markdown",
      "source": [],
      "metadata": {
        "id": "7b9jcspweS5F"
      }
    }
  ]
}