{
  "nbformat": 4,
  "nbformat_minor": 0,
  "metadata": {
    "colab": {
      "provenance": []
    },
    "kernelspec": {
      "name": "python3",
      "display_name": "Python 3"
    },
    "language_info": {
      "name": "python"
    }
  },
  "cells": [
    {
      "cell_type": "markdown",
      "source": [
        "# Conditional Execution- Part 2"
      ],
      "metadata": {
        "id": "nuYO3X4fw4a0"
      }
    },
    {
      "cell_type": "markdown",
      "source": [
        "## Nested conditionals\n",
        "One conditional can also be nested within another. We could have written the three-branch example like this:"
      ],
      "metadata": {
        "id": "fYO4jBc_xG_8"
      }
    },
    {
      "cell_type": "code",
      "execution_count": null,
      "metadata": {
        "colab": {
          "base_uri": "https://localhost:8080/"
        },
        "id": "ggMIEreIwLo1",
        "outputId": "19ff298a-62b6-4c94-8c4c-43bb814de94c"
      },
      "outputs": [
        {
          "output_type": "stream",
          "name": "stdout",
          "text": [
            "Enter a value for x: 4.5\n",
            "Enter a value for y: 8.3\n",
            "x is less than y\n"
          ]
        }
      ],
      "source": [
        "x = float(input(\"Enter a value for x: \"))\n",
        "y = float(input(\"Enter a value for y: \"))\n",
        "\n",
        "if x == y:\n",
        "    print('x and y are equal')\n",
        "else:\n",
        "    if x < y:\n",
        "        print('x is less than y')\n",
        "    else:\n",
        "        print('x is greater than y')"
      ]
    },
    {
      "cell_type": "markdown",
      "source": [
        "The outer conditional contains two branches. The first branch contains a simple statement. The second branch contains another if statement, which has two branches of its own. Those two branches are both simple statements, although they could have been conditional statements as well.\n",
        "\n",
        "![nested.svg](data:image/svg+xml;base64,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)"
      ],
      "metadata": {
        "id": "84qndY2xyowE"
      }
    },
    {
      "cell_type": "markdown",
      "source": [
        "Nested If Statements\n",
        "\n",
        "Although the indentation of the statements makes the structure apparent, nested conditionals become difficult to read very quickly.\n",
        "\n"
      ],
      "metadata": {
        "id": "YuK132rHyxG8"
      }
    },
    {
      "cell_type": "code",
      "source": [
        "# Logical operators often provide a way to simplify nested conditional statements. For example, we can rewrite the following code using a single conditional:\n",
        "x= 5\n",
        "if 0 < x:\n",
        "    if x < 10:\n",
        "        print('x is a positive single-digit number.')"
      ],
      "metadata": {
        "colab": {
          "base_uri": "https://localhost:8080/"
        },
        "id": "AtcYLD0Gy4-z",
        "outputId": "1cb41006-72d6-44c1-a9e7-f04beb6a3c21"
      },
      "execution_count": null,
      "outputs": [
        {
          "output_type": "stream",
          "name": "stdout",
          "text": [
            "x is a positive single-digit number.\n"
          ]
        }
      ]
    },
    {
      "cell_type": "code",
      "source": [
        "# The print statement is executed only when we pass both conditionals. We can get the same effect with the and operator:\n",
        "\n",
        "if 0 < x and x < 10:\n",
        "    print('x is a positive single-digit number.')"
      ],
      "metadata": {
        "colab": {
          "base_uri": "https://localhost:8080/"
        },
        "id": "eHqVVZ9KzhED",
        "outputId": "35e0afeb-a959-401f-8074-b992a9603eea"
      },
      "execution_count": null,
      "outputs": [
        {
          "output_type": "stream",
          "name": "stdout",
          "text": [
            "x is a positive single-digit number.\n"
          ]
        }
      ]
    },
    {
      "cell_type": "markdown",
      "source": [
        "Nested conditionals are useful when you need to check additional conditions **only if** a previous condition is true."
      ],
      "metadata": {
        "id": "GT17mCF8LSz8"
      }
    },
    {
      "cell_type": "code",
      "source": [
        "age = int(input(\"Enter an age: \"))\n",
        "cost = float(input(\"Enter a cost: \"))\n",
        "\n",
        "if age > 21:\n",
        "    if cost < 10:\n",
        "        print(\"Buy\")\n",
        "    else:\n",
        "        print(\"Too expensive\")\n",
        "else:\n",
        "    print(\"Too young\")\n"
      ],
      "metadata": {
        "colab": {
          "base_uri": "https://localhost:8080/"
        },
        "id": "kmz0yjJa1LqY",
        "outputId": "65510bc4-d149-480b-f342-5f38467dbfa2"
      },
      "execution_count": null,
      "outputs": [
        {
          "output_type": "stream",
          "name": "stdout",
          "text": [
            "Enter an age: 24\n",
            "Enter a cost: 100\n",
            "Too expensive\n"
          ]
        }
      ]
    },
    {
      "cell_type": "markdown",
      "source": [
        "**What if there is one more condition?**"
      ],
      "metadata": {
        "id": "M1imCYhwVQt2"
      }
    },
    {
      "cell_type": "markdown",
      "source": [
        "Nested Conditions\n",
        "\n",
        "* Outer Condition: `if age > 21`\n",
        "\n",
        "  * This checks if the age is greater than 21. If true, it proceeds to the nested condition; if false, it prints `Too young`.\n",
        "* Inner Condition: if cost < 10\n",
        "\n",
        "  * This is nested inside the outer if statement. It checks if the cost is less than 10, but only if the age condition is true. If true, it prints \"Buy\"; otherwise, it prints `Too expensive`.\n",
        "\n",
        "Branches\n",
        "\n",
        "In this code, there are a total of three branches:\n",
        "\n",
        "* Branch 1: When `age > 21` and `cost < 10`\n",
        "\n",
        " * Executes `print(\"Buy\")`\n",
        "* Branch 2: When `age > 21` and `cost >= 10`\n",
        "\n",
        " * Executes print(\"Too expensive\")\n",
        "\n",
        "* Branch 3: When `age <= 21`\n",
        "\n",
        " * Executes `print(\"Too young\")`\n",
        "\n",
        " The reason that there are three branches is because the first branch is divided into two parts. In other words, each new if only adds one new branch to the existing number of branches. The following diagram overlays the paths of the branches.\n",
        "\n",
        " ![branch.png](data:image/png;base64,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)"
      ],
      "metadata": {
        "id": "krvYhPdr1h2M"
      }
    },
    {
      "cell_type": "markdown",
      "source": [
        "Why Not Use if, elif, elif Here?\n",
        "If you were to rewrite this using `if`, `elif`, and `else`, it would look like this:"
      ],
      "metadata": {
        "id": "YRe_f8BMMaBV"
      }
    },
    {
      "cell_type": "code",
      "source": [
        "age = int(input(\"Enter an age: \"))\n",
        "cost = float(input(\"Enter a cost: \"))\n",
        "\n",
        "if age > 21 and cost < 10:\n",
        "    print(\"Buy\")\n",
        "elif age > 21 and cost >= 10:\n",
        "    print(\"Too expensive\")\n",
        "else:\n",
        "    print(\"Too young\")"
      ],
      "metadata": {
        "colab": {
          "base_uri": "https://localhost:8080/"
        },
        "id": "4Nge2Ht0MdQ8",
        "outputId": "9a31437e-4f2b-4283-ab6b-d1a518461513"
      },
      "execution_count": null,
      "outputs": [
        {
          "output_type": "stream",
          "name": "stdout",
          "text": [
            "Enter an age: 15\n",
            "Enter a cost: 20\n",
            "Too young\n"
          ]
        }
      ]
    },
    {
      "cell_type": "markdown",
      "source": [
        "While this works, it has some downsides:\n",
        "\n",
        "- Redundant Checks: You're checking `age > 21` twice, which is unnecessary.\n",
        "\n",
        "- Less Readable: The logic becomes less clear because the relationship between the conditions is not as obvious.\n",
        "\n",
        "- Longer Code: It requires more lines and repeated conditions, making it less concise."
      ],
      "metadata": {
        "id": "WoKo1S9DMhTs"
      }
    },
    {
      "cell_type": "markdown",
      "source": [
        "## Catching exceptions using try and except\n",
        "If you place this code in a Python script and this error occurs, your script immediately stops in its tracks with a traceback. It does not execute the following statement.\n",
        "\n",
        "Here is a sample program to convert a Fahrenheit temperature to a Celsius temperature:"
      ],
      "metadata": {
        "id": "EM_4HoHy4rMS"
      }
    },
    {
      "cell_type": "code",
      "source": [
        "inp = input('Enter Fahrenheit Temperature: ')\n",
        "fahr = float(inp)\n",
        "cel = (fahr - 32.0) * 5.0 / 9.0\n",
        "print(cel)                                      #If we execute this code and give it invalid input, it simply fails with an unfriendly error message"
      ],
      "metadata": {
        "colab": {
          "base_uri": "https://localhost:8080/",
          "height": 211
        },
        "id": "SJqjIyEXBXkx",
        "outputId": "bbb6f461-595a-42db-eaf6-5744067ac2ab"
      },
      "execution_count": null,
      "outputs": [
        {
          "name": "stdout",
          "output_type": "stream",
          "text": [
            "Enter Fahrenheit Temperature: abc\n"
          ]
        },
        {
          "output_type": "error",
          "ename": "ValueError",
          "evalue": "could not convert string to float: 'abc'",
          "traceback": [
            "\u001b[0;31m---------------------------------------------------------------------------\u001b[0m",
            "\u001b[0;31mValueError\u001b[0m                                Traceback (most recent call last)",
            "\u001b[0;32m<ipython-input-11-af8b666411b5>\u001b[0m in \u001b[0;36m<cell line: 2>\u001b[0;34m()\u001b[0m\n\u001b[1;32m      1\u001b[0m \u001b[0minp\u001b[0m \u001b[0;34m=\u001b[0m \u001b[0minput\u001b[0m\u001b[0;34m(\u001b[0m\u001b[0;34m'Enter Fahrenheit Temperature: '\u001b[0m\u001b[0;34m)\u001b[0m\u001b[0;34m\u001b[0m\u001b[0;34m\u001b[0m\u001b[0m\n\u001b[0;32m----> 2\u001b[0;31m \u001b[0mfahr\u001b[0m \u001b[0;34m=\u001b[0m \u001b[0mfloat\u001b[0m\u001b[0;34m(\u001b[0m\u001b[0minp\u001b[0m\u001b[0;34m)\u001b[0m\u001b[0;34m\u001b[0m\u001b[0;34m\u001b[0m\u001b[0m\n\u001b[0m\u001b[1;32m      3\u001b[0m \u001b[0mcel\u001b[0m \u001b[0;34m=\u001b[0m \u001b[0;34m(\u001b[0m\u001b[0mfahr\u001b[0m \u001b[0;34m-\u001b[0m \u001b[0;36m32.0\u001b[0m\u001b[0;34m)\u001b[0m \u001b[0;34m*\u001b[0m \u001b[0;36m5.0\u001b[0m \u001b[0;34m/\u001b[0m \u001b[0;36m9.0\u001b[0m\u001b[0;34m\u001b[0m\u001b[0;34m\u001b[0m\u001b[0m\n\u001b[1;32m      4\u001b[0m \u001b[0mprint\u001b[0m\u001b[0;34m(\u001b[0m\u001b[0mcel\u001b[0m\u001b[0;34m)\u001b[0m                                      \u001b[0;31m#If we execute this code and give it invalid input, it simply fails with an unfriendly error message\u001b[0m\u001b[0;34m\u001b[0m\u001b[0;34m\u001b[0m\u001b[0m\n",
            "\u001b[0;31mValueError\u001b[0m: could not convert string to float: 'abc'"
          ]
        }
      ]
    },
    {
      "cell_type": "markdown",
      "source": [
        "There is a conditional execution structure built into Python to handle these types of expected and unexpected errors called “try / except”. The purpose of `try` and `except` is that you know that some sequence of instruction(s) may have a problem and you want to add some statements to be executed if an error occurs. These extra statements (the except block) are ignored if there is no error.\n",
        "\n",
        "You can think of the `try` and `except` feature in Python as an “insurance policy” on a sequence of statements.\n",
        "\n",
        "We can rewrite our temperature converter as follows:"
      ],
      "metadata": {
        "id": "iai-lk8BB9mv"
      }
    },
    {
      "cell_type": "code",
      "source": [
        "inp = input('Enter Fahrenheit Temperature:')\n",
        "try:\n",
        "    fahr = float(inp)\n",
        "    cel = (fahr - 32.0) * 5.0 / 9.0\n",
        "    print(cel)\n",
        "except:\n",
        "    print('Please enter a number')\n"
      ],
      "metadata": {
        "colab": {
          "base_uri": "https://localhost:8080/"
        },
        "id": "ZprG-svEB9KP",
        "outputId": "4fe1c42b-10c9-408d-8d2e-e8f939872be9"
      },
      "execution_count": null,
      "outputs": [
        {
          "output_type": "stream",
          "name": "stdout",
          "text": [
            "Enter Fahrenheit Temperature:abc\n",
            "Please enter a number\n"
          ]
        }
      ]
    },
    {
      "cell_type": "markdown",
      "source": [
        "Handling an exception with a `try` statement is called catching an exception. In this example, the `except` clause prints an error message. In general, catching an exception gives you a chance to fix the problem, or try again, or at least end the program gracefully."
      ],
      "metadata": {
        "id": "derEqivrCQTf"
      }
    },
    {
      "cell_type": "code",
      "source": [
        "year_str = input(\"What year is it? \")\n",
        "\n",
        "try:\n",
        "\n",
        "    year = int(year_str)\n",
        "\n",
        "except:\n",
        "\n",
        "    print(\"INVALID INPUT\")\n",
        "\n",
        "    exit()   # EARLY EXIT STRATEGY"
      ],
      "metadata": {
        "colab": {
          "base_uri": "https://localhost:8080/"
        },
        "id": "7QTbATKGseVV",
        "outputId": "6b898740-0eef-47cc-a16f-e9c0ace2617b"
      },
      "execution_count": null,
      "outputs": [
        {
          "output_type": "stream",
          "name": "stdout",
          "text": [
            "What year is it? abc\n",
            "INVALID INPUT\n"
          ]
        }
      ]
    },
    {
      "cell_type": "code",
      "source": [
        "# Option 2\n",
        "\n",
        "try:\n",
        "\n",
        "    year = int(input(\"What year is it? \"))\n",
        "\n",
        "except:\n",
        "\n",
        "    print(\"INVALID INPUT\")\n",
        "\n",
        "    exit() # EARLY EXIT STRATEGY"
      ],
      "metadata": {
        "colab": {
          "base_uri": "https://localhost:8080/"
        },
        "id": "aVI4lBIwsi_9",
        "outputId": "5cfd4b0a-cba5-4732-dd25-011faab9e047"
      },
      "execution_count": null,
      "outputs": [
        {
          "output_type": "stream",
          "name": "stdout",
          "text": [
            "What year is it? 10 / \"2\"\n",
            "INVALID INPUT\n"
          ]
        }
      ]
    },
    {
      "cell_type": "code",
      "source": [
        "# Catches a ValueError\n",
        "try:\n",
        "    x = int(input(\"What's x? \"))\n",
        "    print(f\"x is {x}\")\n",
        "except ValueError:\n",
        "    print(\"x is not an integer\")"
      ],
      "metadata": {
        "id": "5lp1TbFmuakl"
      },
      "execution_count": null,
      "outputs": []
    },
    {
      "cell_type": "markdown",
      "source": [
        "## Short-circuit evaluation of logical expressions\n",
        "\n",
        "When Python is processing a logical expression such as `x >= 2 and (x/y) > 2`, it evaluates the expression from left to right. Because of the definition of `and`, if `x` is less than 2, the expression `x >= 2` is `False` and so the whole expression is `False` regardless of whether `(x/y) > 2` evaluates to `True` or `False`.\n",
        "\n",
        "When Python detects that there is nothing to be gained by evaluating the rest of a logical expression, it stops its evaluation and does not do the computations in the rest of the logical expression. When the evaluation of a logical expression stops because the overall value is already known, it is called short-circuiting the evaluation.\n",
        "\n",
        "The short-circuit behavior leads to a clever technique called the *guardian pattern*. Consider the following code sequence in the Python interpreter:"
      ],
      "metadata": {
        "id": "EYyTX1ynCVOg"
      }
    },
    {
      "cell_type": "code",
      "source": [
        "x = 6\n",
        "y = 2\n",
        "x >= 2 and (x/y) > 2\n"
      ],
      "metadata": {
        "colab": {
          "base_uri": "https://localhost:8080/"
        },
        "id": "SOQ_bGauDFV-",
        "outputId": "313c84ca-4052-4bd5-e82b-b20bc4721893"
      },
      "execution_count": null,
      "outputs": [
        {
          "output_type": "execute_result",
          "data": {
            "text/plain": [
              "True"
            ]
          },
          "metadata": {},
          "execution_count": 18
        }
      ]
    },
    {
      "cell_type": "code",
      "source": [
        "x = 1\n",
        "y = 0\n",
        "x >= 2 and (x/y) > 2"
      ],
      "metadata": {
        "colab": {
          "base_uri": "https://localhost:8080/"
        },
        "id": "9EX1N10rDW4G",
        "outputId": "21dfe9a6-410a-42ea-9ce3-9880d47b42c1"
      },
      "execution_count": null,
      "outputs": [
        {
          "output_type": "execute_result",
          "data": {
            "text/plain": [
              "False"
            ]
          },
          "metadata": {},
          "execution_count": 15
        }
      ]
    },
    {
      "cell_type": "code",
      "source": [
        "x = 6\n",
        "y = 0\n",
        "x >= 2 and (x/y) > 2"
      ],
      "metadata": {
        "colab": {
          "base_uri": "https://localhost:8080/",
          "height": 176
        },
        "id": "VEUbaoz0DWZX",
        "outputId": "d812c052-9587-432f-e6bf-7fa5a73a633b"
      },
      "execution_count": null,
      "outputs": [
        {
          "output_type": "error",
          "ename": "ZeroDivisionError",
          "evalue": "division by zero",
          "traceback": [
            "\u001b[0;31m---------------------------------------------------------------------------\u001b[0m",
            "\u001b[0;31mZeroDivisionError\u001b[0m                         Traceback (most recent call last)",
            "\u001b[0;32m<ipython-input-16-43a82c4c87c1>\u001b[0m in \u001b[0;36m<cell line: 3>\u001b[0;34m()\u001b[0m\n\u001b[1;32m      1\u001b[0m \u001b[0mx\u001b[0m \u001b[0;34m=\u001b[0m \u001b[0;36m6\u001b[0m\u001b[0;34m\u001b[0m\u001b[0;34m\u001b[0m\u001b[0m\n\u001b[1;32m      2\u001b[0m \u001b[0my\u001b[0m \u001b[0;34m=\u001b[0m \u001b[0;36m0\u001b[0m\u001b[0;34m\u001b[0m\u001b[0;34m\u001b[0m\u001b[0m\n\u001b[0;32m----> 3\u001b[0;31m \u001b[0mx\u001b[0m \u001b[0;34m>=\u001b[0m \u001b[0;36m2\u001b[0m \u001b[0;32mand\u001b[0m \u001b[0;34m(\u001b[0m\u001b[0mx\u001b[0m\u001b[0;34m/\u001b[0m\u001b[0my\u001b[0m\u001b[0;34m)\u001b[0m \u001b[0;34m>\u001b[0m \u001b[0;36m2\u001b[0m\u001b[0;34m\u001b[0m\u001b[0;34m\u001b[0m\u001b[0m\n\u001b[0m",
            "\u001b[0;31mZeroDivisionError\u001b[0m: division by zero"
          ]
        }
      ]
    },
    {
      "cell_type": "markdown",
      "source": [
        "The third calculation failed because Python was evaluating `(x/y)` and `y` was zero, which causes a runtime error. But the first and the second examples did not fail because in the first calculation `y` was non zero and in the second one the first part of these expressions `x >= 2` evaluated to `False` so the `(x/y)` was not ever executed due to the short-circuit rule and there was no error.\n",
        "\n",
        "We can construct the logical expression to strategically place a *guard evaluation* just before the evaluation that might cause an error as follows:"
      ],
      "metadata": {
        "id": "uJXTSTJKEypv"
      }
    },
    {
      "cell_type": "code",
      "source": [
        "x = 1\n",
        "y = 0\n",
        "x >= 2 and y != 0 and (x/y) > 2\n"
      ],
      "metadata": {
        "colab": {
          "base_uri": "https://localhost:8080/"
        },
        "id": "xrM71C5BEyTX",
        "outputId": "ff8ff78e-dfbe-4138-c54e-2953f3bf0c3a"
      },
      "execution_count": null,
      "outputs": [
        {
          "output_type": "execute_result",
          "data": {
            "text/plain": [
              "False"
            ]
          },
          "metadata": {},
          "execution_count": 19
        }
      ]
    },
    {
      "cell_type": "code",
      "source": [
        "x = 6\n",
        "y = 0\n",
        "x >= 2 and y != 0 and (x/y) > 2"
      ],
      "metadata": {
        "colab": {
          "base_uri": "https://localhost:8080/"
        },
        "id": "sgWEBcKHFlvG",
        "outputId": "5ef9f36f-5724-4971-aee9-a593012cb787"
      },
      "execution_count": null,
      "outputs": [
        {
          "output_type": "execute_result",
          "data": {
            "text/plain": [
              "False"
            ]
          },
          "metadata": {},
          "execution_count": 20
        }
      ]
    },
    {
      "cell_type": "code",
      "source": [
        "x= 10\n",
        "y= 0\n",
        "x >= 2 and (x/y) > 2 and y != 0"
      ],
      "metadata": {
        "colab": {
          "base_uri": "https://localhost:8080/",
          "height": 176
        },
        "id": "7T7x4xMYFpUm",
        "outputId": "7f60d69a-1ef1-402d-a2f8-eafcb9dfb56a"
      },
      "execution_count": null,
      "outputs": [
        {
          "output_type": "error",
          "ename": "ZeroDivisionError",
          "evalue": "division by zero",
          "traceback": [
            "\u001b[0;31m---------------------------------------------------------------------------\u001b[0m",
            "\u001b[0;31mZeroDivisionError\u001b[0m                         Traceback (most recent call last)",
            "\u001b[0;32m<ipython-input-22-5de11973f3b4>\u001b[0m in \u001b[0;36m<cell line: 3>\u001b[0;34m()\u001b[0m\n\u001b[1;32m      1\u001b[0m \u001b[0mx\u001b[0m\u001b[0;34m=\u001b[0m \u001b[0;36m10\u001b[0m\u001b[0;34m\u001b[0m\u001b[0;34m\u001b[0m\u001b[0m\n\u001b[1;32m      2\u001b[0m \u001b[0my\u001b[0m\u001b[0;34m=\u001b[0m \u001b[0;36m0\u001b[0m\u001b[0;34m\u001b[0m\u001b[0;34m\u001b[0m\u001b[0m\n\u001b[0;32m----> 3\u001b[0;31m \u001b[0mx\u001b[0m \u001b[0;34m>=\u001b[0m \u001b[0;36m2\u001b[0m \u001b[0;32mand\u001b[0m \u001b[0;34m(\u001b[0m\u001b[0mx\u001b[0m\u001b[0;34m/\u001b[0m\u001b[0my\u001b[0m\u001b[0;34m)\u001b[0m \u001b[0;34m>\u001b[0m \u001b[0;36m2\u001b[0m \u001b[0;32mand\u001b[0m \u001b[0my\u001b[0m \u001b[0;34m!=\u001b[0m \u001b[0;36m0\u001b[0m\u001b[0;34m\u001b[0m\u001b[0;34m\u001b[0m\u001b[0m\n\u001b[0m",
            "\u001b[0;31mZeroDivisionError\u001b[0m: division by zero"
          ]
        }
      ]
    },
    {
      "cell_type": "markdown",
      "source": [
        "In the first logical expression, `x >= 2` is `False` so the evaluation stops at the `and`. In the second logical expression, `x >= 2` is `True` but `y != 0` is `False` so we never reach `(x/y)`.\n",
        "\n",
        "In the third logical expression, the `y != 0` is after the `(x/y)` calculation so the expression fails with an error.\n",
        "\n",
        "In the second expression, we say that `y != 0` acts as a *guard* to insure that we only execute `(x/y)` if `y` is non-zero."
      ],
      "metadata": {
        "id": "M5YL6fAuFsE4"
      }
    },
    {
      "cell_type": "markdown",
      "source": [],
      "metadata": {
        "id": "-3PZJzZrF4tI"
      }
    },
    {
      "cell_type": "markdown",
      "source": [
        "## Debugging\n",
        "The traceback Python displays when an error occurs contains a lot of information, but it can be overwhelming. The most useful parts are usually:\n",
        "\n",
        "* What kind of error it was, and\n",
        "\n",
        "* Where it occurred.\n",
        "\n",
        "Syntax errors are usually easy to find, but there are a few gotchas. Whitespace errors can be tricky because spaces and tabs are invisible and we are used to ignoring them."
      ],
      "metadata": {
        "id": "_7ReXacRHL7B"
      }
    },
    {
      "cell_type": "code",
      "source": [
        "x = 5\n",
        "  y = 6"
      ],
      "metadata": {
        "colab": {
          "base_uri": "https://localhost:8080/",
          "height": 106
        },
        "id": "fOI4snxkHTWG",
        "outputId": "df705c00-871f-45fd-d3b6-3383fed2cc74"
      },
      "execution_count": null,
      "outputs": [
        {
          "output_type": "error",
          "ename": "IndentationError",
          "evalue": "unexpected indent (<ipython-input-23-caa1f43fbdb6>, line 2)",
          "traceback": [
            "\u001b[0;36m  File \u001b[0;32m\"<ipython-input-23-caa1f43fbdb6>\"\u001b[0;36m, line \u001b[0;32m2\u001b[0m\n\u001b[0;31m    y = 6\u001b[0m\n\u001b[0m    ^\u001b[0m\n\u001b[0;31mIndentationError\u001b[0m\u001b[0;31m:\u001b[0m unexpected indent\n"
          ]
        }
      ]
    },
    {
      "cell_type": "markdown",
      "source": [
        "In this example, the problem is that the second line is indented by one space. But the error message points to y, which is misleading. In general, error messages indicate where the problem was discovered, but the actual error might be earlier in the code, sometimes on a previous line.\n",
        "\n",
        "In general, error messages tell you where the problem was discovered, but that is often not where it was caused."
      ],
      "metadata": {
        "id": "f3x_0RcqHa_H"
      }
    },
    {
      "cell_type": "markdown",
      "source": [
        "## Logical Patterns\n",
        "*VSCE Testbook*\n",
        "\n",
        "Since if statements are so useful, they can be a little overwhelming when you get started. This lesson gives some examples of patterns that can help guide your thinking about using if statements in different ways.\n",
        "\n",
        "* And vs. Nested If\n",
        "* Defensive Guard\n",
        "* Early Return\n",
        "* Multiple Return Spots\n",
        "* Build-Up-Return\n",
        "* Define-and-Refine\n",
        "\n",
        "These patterns are not officially part of the Python language.\n",
        "\n",
        "They are merely templates that we have created based on common patterns we see in code. They are not exhaustive since there are many ways to leverage and twist conditionals. But if you treat them as starting points, you may find that they inspire you in different directions."
      ],
      "metadata": {
        "id": "ARi4TpaNHiqm"
      }
    },
    {
      "cell_type": "markdown",
      "source": [
        "### And vs Nested If\n",
        "An `if` statement nested inside of an `if` statement is equivalent to having both conditions combined with an `and` statement. The advantage of an `and` expression is usually brevity since the code will only take up a single line without an extra indentation.\n",
        "\n",
        "The advantage of the nested `if` statement, however, is a little more nuanced. Statements can be added before or after the inner `if` statement, allowing more statements for the first case but not necessarily for the second.\n",
        "\n",
        "You can also specify additional cases' behavior by adding in `elif` and `else` statements to the inner `if` statements if you need to narrow the behavior further in the case where the first condition is true and the second condition is false."
      ],
      "metadata": {
        "id": "srLnD7aLIaa_"
      }
    },
    {
      "cell_type": "markdown",
      "source": [
        "```python\n",
        "if __A__ and __B__:\n",
        "    # ...\n",
        "\n",
        "# Is the same as...\n",
        "\n",
        "if __A__:\n",
        "    if __B__:\n",
        "        # ...\n",
        "```"
      ],
      "metadata": {
        "id": "jrMqiXZxMFQP"
      }
    },
    {
      "cell_type": "markdown",
      "source": [
        "As a concrete example, observe the following code. The first version has to have redundant versions of the `weather.lower()` check. The second version has an extra line of code because of the second `if` statement. Just because a program takes fewer lines of code does not mean that that solution is more readable; with less redundant logic, the second block of code is less likely to have typos once you get used to reading nested `if` statements."
      ],
      "metadata": {
        "id": "kkiMvv9ZJ4S3"
      }
    },
    {
      "cell_type": "code",
      "source": [
        "weather = input(\"enter:\") # Add this line to define the variable weather\n",
        "temperature = 75 # Add this line to define the variable temperature\n",
        "\n",
        "if weather.lower() == 'sunny' and temperature > 70:\n",
        "    print(\"Warm!\")\n",
        "if weather.lower() == 'sunny' and temperature < 30:\n",
        "    print(\"Cold!\")\n",
        "\n",
        "# Is the same as...\n",
        "\n",
        "if weather.lower() == 'sunny':\n",
        "    if temperature > 70:\n",
        "        print(\"Warm!\")\n",
        "    if temperature < 30:\n",
        "        print(\"Cold!\")"
      ],
      "metadata": {
        "colab": {
          "base_uri": "https://localhost:8080/"
        },
        "id": "7XE1aKGiKHCg",
        "outputId": "87d406c1-d251-4903-abb4-c3f0115ff476"
      },
      "execution_count": 3,
      "outputs": [
        {
          "name": "stdout",
          "output_type": "stream",
          "text": [
            "enter:75\n"
          ]
        }
      ]
    },
    {
      "cell_type": "markdown",
      "source": [
        "The code only considers scenarios where weather is 'sunny'. If the weather is not 'sunny', the nested if statements are simply skipped, and no action is taken. This is acceptable when you only want to handle cases where a specific condition (in this case, weather being 'sunny') is true and don’t need to account for what happens when it’s not true."
      ],
      "metadata": {
        "id": "LEiN-IeUbetO"
      }
    },
    {
      "cell_type": "markdown",
      "source": [
        "Using `else` for Complete Coverage"
      ],
      "metadata": {
        "id": "hqc-Pw8ZblpF"
      }
    },
    {
      "cell_type": "code",
      "source": [
        "weather = input(\"enter:\") # Add this line to define the variable weather\n",
        "temperature = 75 # Add this line to define the variable temperature\n",
        "\n",
        "if weather.lower() == 'sunny':\n",
        "    if temperature > 70:\n",
        "        print(\"Warm!\")\n",
        "    if temperature < 30:\n",
        "        print(\"Cold!\")\n",
        "else:\n",
        "    print(\"Not sunny today.\")\n"
      ],
      "metadata": {
        "id": "wg0fIXP_bpdo"
      },
      "execution_count": null,
      "outputs": []
    },
    {
      "cell_type": "markdown",
      "source": [
        "### Defensive Guard\n",
        "There are operations and functions which are valid syntactically but will cause an error in practice. The Defensive Guard pattern is just the concept of \"protecting\" those operations from occurring by first checking that the data involved is valid. The pattern is simple:\n",
        "```python\n",
        "if ___:\n",
        "    # Potentially unsafe operation\n",
        "```"
      ],
      "metadata": {
        "id": "dIOZ9IGQLBuu"
      }
    },
    {
      "cell_type": "markdown",
      "source": [
        "A classic example is division by zero, which causes a `ZeroDivisionError`. Using an if statement, you can make sure that a variable such as `time` is greater than zero and therefore safe to use for the denominator."
      ],
      "metadata": {
        "id": "JMzugpakMaCO"
      }
    },
    {
      "cell_type": "code",
      "source": [
        "time = int(input(\"Enter time: \"))\n",
        "distance = 100\n",
        "# Guard against division by zero\n",
        "if time > 0:\n",
        "    speed = distance / time\n",
        "    print(speed)"
      ],
      "metadata": {
        "colab": {
          "base_uri": "https://localhost:8080/"
        },
        "id": "B8c6P8FjMel-",
        "outputId": "a3562631-7e53-4b7a-b2f7-10442f291580"
      },
      "execution_count": null,
      "outputs": [
        {
          "output_type": "stream",
          "name": "stdout",
          "text": [
            "Enter time: 20\n",
            "5.0\n"
          ]
        }
      ]
    },
    {
      "cell_type": "markdown",
      "source": [
        "### Early Return\n",
        "The Early Return pattern is like the Defensive Guard pattern, with an `if` statement ending a path inside of a function before an error (or other undesirable operation) can occur.\n",
        "```python\n",
        "# Early Return\n",
        "def function(___):\n",
        "    if ___:\n",
        "        return ___\n",
        "    # do something ...\n",
        "    return ___\n",
        "```"
      ],
      "metadata": {
        "id": "Vi7RV158NKY_"
      }
    },
    {
      "cell_type": "markdown",
      "source": [
        "In the following example, we check if the `message` parameter does not have a truthy value. For a string, any non-empty string will be considered truthy. In this case, then, indexing is only attempted if the `message` is not empty. This is very important, since indexing the last character of the string will cause an `IndexError` if the empty string was indexed.\n",
        "\n",
        "The early return prevents the mistake from occurring, allowing us to safely use the logic in the rest of the function to determine what kind of punctuation symbol the last character of the string holds."
      ],
      "metadata": {
        "id": "5hdlJhu9NZs3"
      }
    },
    {
      "cell_type": "code",
      "source": [
        "def get_punctuation(message: str) -> str:\n",
        "    if not message:                         # If not message: the function determines if the message is empty\n",
        "        return \"empty string\"               # If the message is empty, trying to access message[-1] would cause an IndexError because there is no character to index.\n",
        "    last_character = message[-1]\n",
        "    if last_character == \"?\":\n",
        "        return \"question\"\n",
        "    elif last_character == \".\":\n",
        "        return \"statement\"\n",
        "    return \"other\"\n",
        "\n",
        "# Test cases\n",
        "print(get_punctuation(\"Hello, how are you?\"))\n",
        "print(get_punctuation(\"This is a sentence.\"))\n",
        "print(get_punctuation(\"Hello\"))\n",
        "print(get_punctuation(\"\"))\n"
      ],
      "metadata": {
        "colab": {
          "base_uri": "https://localhost:8080/"
        },
        "id": "kiJ8gyX2NOjG",
        "outputId": "0abcb7ea-229b-4a27-bed9-60798337b5ef"
      },
      "execution_count": null,
      "outputs": [
        {
          "output_type": "stream",
          "name": "stdout",
          "text": [
            "question\n",
            "statement\n",
            "other\n",
            "empty string\n"
          ]
        }
      ]
    },
    {
      "cell_type": "markdown",
      "source": [
        "### Mutiple Return Spots\n",
        "\n",
        "Refer to more details in VSCE textbook"
      ],
      "metadata": {
        "id": "ErUjP0BXRTpu"
      }
    },
    {
      "cell_type": "markdown",
      "source": [
        "### Build-up-Return Pattern\n",
        "\n",
        "Refer to more details in VSCE textbook"
      ],
      "metadata": {
        "id": "pfX2Yts9RbLO"
      }
    },
    {
      "cell_type": "markdown",
      "source": [
        "### Define-and-Refine Pattern\n",
        "\n",
        "The `else` statement is a powerful way to specify default behavior after `if` and `elif` statements. But, when nesting these statements, the `else` branch is not always conveniently available. The nested statements represent specific, narrow cases involving multiple conditions.\n",
        "\n",
        "To provide a default situation with `else` statements, every single level of nested `if` would need to have an `else` statement, sometimes leading to redundant code.\n",
        "\n",
        "However, the Define-and-Refine pattern allows you to specify an initial value (the default) for a variable and then only specify the branches to change that value.\n",
        "\n",
        "```python\n",
        "if ___:\n",
        "    if ___:\n",
        "        value = __special__\n",
        "    else:\n",
        "        value = __default__\n",
        "else:\n",
        "    value = __default__\n",
        "\n",
        "# Becomes\n",
        "\n",
        "value = __default__\n",
        "if ___:\n",
        "    if ___:\n",
        "        value = __special__\n",
        "```"
      ],
      "metadata": {
        "id": "6EznfrFAR6HQ"
      }
    },
    {
      "cell_type": "markdown",
      "source": [
        "Following is an example that is easier to read when the Define-and-Refine pattern is used instead of having an `else` statement for every `if` statement. By initializing a default value for `weather`, we avoid having any `else` statements."
      ],
      "metadata": {
        "id": "Y2zCgAElSuOe"
      }
    },
    {
      "cell_type": "markdown",
      "source": [
        "With Nested `if` and `else`:"
      ],
      "metadata": {
        "id": "a1wtC-o9Vn2H"
      }
    },
    {
      "cell_type": "code",
      "source": [
        "# Sample values for demonstration\n",
        "temperature = 75\n",
        "rainfall = 0\n",
        "\n",
        "# Default weather\n",
        "weather = 'unpleasant'\n",
        "\n",
        "if temperature > 50:\n",
        "    if temperature < 80:\n",
        "        if rainfall == 0:\n",
        "            weather = 'nice'\n",
        "            print(weather)\n",
        "        else:\n",
        "            weather = 'unpleasant' # Redundant, since it's already 'unpleasant'\n",
        "    else:\n",
        "        weather = 'unpleasant' # Redundant, since it's already 'unpleasant'\n",
        "else:\n",
        "    weather = 'unpleasant' # Redundant, since it's already 'unpleasant'\n"
      ],
      "metadata": {
        "colab": {
          "base_uri": "https://localhost:8080/"
        },
        "id": "I8Lsqy2eVfPW",
        "outputId": "5592d1b0-45f4-420a-9b1a-043d8ae7f5af"
      },
      "execution_count": null,
      "outputs": [
        {
          "output_type": "stream",
          "name": "stdout",
          "text": [
            "nice\n"
          ]
        }
      ]
    },
    {
      "cell_type": "code",
      "source": [
        "# Sample values for demonstration\n",
        "temperature = 75\n",
        "rainfall = 0\n",
        "\n",
        "# Default weather\n",
        "weather = 'unpleasant'\n",
        "\n",
        "\n",
        "if temperature > 50:\n",
        "    if temperature < 80:\n",
        "        if rainfall == 0:\n",
        "            weather = 'nice'\n",
        "            print(weather)\n",
        "\n",
        "# Or equivalently\n",
        "weather = 'unpleasant'\n",
        "if temperature > 50 and temperature < 80 and rainfall == 0:\n",
        "    weather = 'nice'\n",
        "    print(weather)"
      ],
      "metadata": {
        "colab": {
          "base_uri": "https://localhost:8080/"
        },
        "id": "q7laU1YIS0cm",
        "outputId": "4f94f128-0a76-4a3b-9d10-0dcaec41c8de"
      },
      "execution_count": null,
      "outputs": [
        {
          "output_type": "stream",
          "name": "stdout",
          "text": [
            "nice\n",
            "nice\n"
          ]
        }
      ]
    },
    {
      "cell_type": "markdown",
      "source": [
        "In the Define-and-Refine pattern, you initialize a default value once, then refine it based on conditions. This approach avoids the need for else branches, simplifying your code and improving its clarity.\n",
        "\n",
        "The variable will only change if the specified conditions are met, otherwise, it retains the default value you initialized."
      ],
      "metadata": {
        "id": "DD1XcYemYclu"
      }
    },
    {
      "cell_type": "code",
      "source": [],
      "metadata": {
        "id": "45gq6TKwYfhA"
      },
      "execution_count": null,
      "outputs": []
    }
  ]
}