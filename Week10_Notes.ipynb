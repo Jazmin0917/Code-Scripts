{
  "nbformat": 4,
  "nbformat_minor": 0,
  "metadata": {
    "colab": {
      "provenance": []
    },
    "kernelspec": {
      "name": "python3",
      "display_name": "Python 3"
    },
    "language_info": {
      "name": "python"
    }
  },
  "cells": [
    {
      "cell_type": "markdown",
      "source": [
        "# Strings\n",
        "*PY4E Textbook*"
      ],
      "metadata": {
        "id": "0Y9_BaNKmXrb"
      }
    },
    {
      "cell_type": "markdown",
      "source": [
        "### A string is a sequence\n",
        "\n",
        "A string is a sequence of characters. You can access the characters one at a time with the bracket operator:\n",
        "\n",
        "The second statement extracts the character at index position 1 from the `fruit` variable and assigns it to the `letter` variable.\n",
        "\n",
        "The expression in brackets is called an *index*. The index indicates which character in the sequence you want (hence the name)."
      ],
      "metadata": {
        "id": "wQshBxQHmdzD"
      }
    },
    {
      "cell_type": "code",
      "source": [
        "fruit = 'banana123' #string\n",
        "letter = fruit[1] #index starts with zero, thats why a (the second letter) is one\n",
        "letter"
      ],
      "metadata": {
        "colab": {
          "base_uri": "https://localhost:8080/",
          "height": 35
        },
        "id": "sZr04JvTmxlD",
        "outputId": "482ce268-29a5-48d3-a5a0-8136226b15b2"
      },
      "execution_count": 2,
      "outputs": [
        {
          "output_type": "execute_result",
          "data": {
            "text/plain": [
              "'a'"
            ],
            "application/vnd.google.colaboratory.intrinsic+json": {
              "type": "string"
            }
          },
          "metadata": {},
          "execution_count": 2
        }
      ]
    },
    {
      "cell_type": "markdown",
      "source": [
        "We can index a string value in a variable by using square brackets. Notice the key components: On the left is the name of the variable or the string literal value. Next, we have an opening square bracket. Then, we have a number, which is called the index. Finally, we end with a closing square bracket."
      ],
      "metadata": {
        "id": "NQ25NhBkoBaK"
      }
    },
    {
      "cell_type": "markdown",
      "source": [
        "For most people, the first letter of “banana” is “b”, not “a”. But in Python, the index is an offset from the beginning of the string, and the offset of the first letter is zero."
      ],
      "metadata": {
        "id": "7QtLqdhZnP-U"
      }
    },
    {
      "cell_type": "code",
      "source": [
        "letter = fruit[0]\n",
        "letter"
      ],
      "metadata": {
        "colab": {
          "base_uri": "https://localhost:8080/",
          "height": 35
        },
        "id": "Yqo5h8k5nSS8",
        "outputId": "3876f963-0da9-4a16-da55-0fa1f2538427"
      },
      "execution_count": null,
      "outputs": [
        {
          "output_type": "execute_result",
          "data": {
            "text/plain": [
              "'b'"
            ],
            "application/vnd.google.colaboratory.intrinsic+json": {
              "type": "string"
            }
          },
          "metadata": {},
          "execution_count": 3
        }
      ]
    },
    {
      "cell_type": "markdown",
      "source": [
        "So “b” is the 0th letter (“zero-th”) of “banana”, “a” is the 1th letter (“one-th”), and “n” is the 2th (“two-th”) letter.![indiex.svg](data:image/svg+xml;base64,PD94bWwgdmVyc2lvbj0iMS4wIiBlbmNvZGluZz0iVVRGLTgiIHN0YW5kYWxvbmU9Im5vIj8+CjwhRE9DVFlQRSBzdmcgUFVCTElDICItLy9XM0MvL0RURCBTVkcgMS4xLy9FTiIgImh0dHA6Ly93d3cudzMub3JnL0dyYXBoaWNzL1NWRy8xLjEvRFREL3N2ZzExLmR0ZCI+CjxzdmcgeG1sbnM9Imh0dHA6Ly93d3cudzMub3JnLzIwMDAvc3ZnIiB4bWxuczp4bD0iaHR0cDovL3d3dy53My5vcmcvMTk5OS94bGluayIgdmVyc2lvbj0iMS4xIiB2aWV3Qm94PSIxNiAxNiAyMjAgNjMiIHdpZHRoPSIyMjBwdCIgaGVpZ2h0PSI2M3B0IiB4bWxuczpkYz0iaHR0cDovL3B1cmwub3JnL2RjL2VsZW1lbnRzLzEuMS8iPjxtZXRhZGF0YT4gUHJvZHVjZWQgYnkgT21uaUdyYWZmbGUgNi40LjEgPGRjOmRhdGU+MjAxNi0wMS0xNiAxODozNzo1MSArMDAwMDwvZGM6ZGF0ZT48L21ldGFkYXRhPjxkZWZzPjxmb250LWZhY2UgZm9udC1mYW1pbHk9IkhlbHZldGljYSBOZXVlIiBmb250LXNpemU9IjI1IiBwYW5vc2UtMT0iMiAwIDUgMyAwIDAgMCAyIDAgNCIgdW5pdHMtcGVyLWVtPSIxMDAwIiB1bmRlcmxpbmUtcG9zaXRpb249Ii0xMDAiIHVuZGVybGluZS10aGlja25lc3M9IjUwIiBzbG9wZT0iMCIgeC1oZWlnaHQ9IjUxNyIgY2FwLWhlaWdodD0iNzE0IiBhc2NlbnQ9Ijk1MS45OTU4NSIgZGVzY2VudD0iLTIxMi45OTc0NCIgZm9udC13ZWlnaHQ9IjUwMCI+PGZvbnQtZmFjZS1zcmM+PGZvbnQtZmFjZS1uYW1lIG5hbWU9IkhlbHZldGljYU5ldWUiLz48L2ZvbnQtZmFjZS1zcmM+PC9mb250LWZhY2U+PGZvbnQtZmFjZSBmb250LWZhbWlseT0iSGVsdmV0aWNhIE5ldWUiIGZvbnQtc2l6ZT0iMTYiIHBhbm9zZS0xPSIyIDAgNSAzIDAgMCAwIDIgMCA0IiB1bml0cy1wZXItZW09IjEwMDAiIHVuZGVybGluZS1wb3NpdGlvbj0iLTEwMCIgdW5kZXJsaW5lLXRoaWNrbmVzcz0iNTAiIHNsb3BlPSIwIiB4LWhlaWdodD0iNTE3IiBjYXAtaGVpZ2h0PSI3MTQiIGFzY2VudD0iOTUxLjk5NTg1IiBkZXNjZW50PSItMjEyLjk5NzQ0IiBmb250LXdlaWdodD0iNTAwIj48Zm9udC1mYWNlLXNyYz48Zm9udC1mYWNlLW5hbWUgbmFtZT0iSGVsdmV0aWNhTmV1ZSIvPjwvZm9udC1mYWNlLXNyYz48L2ZvbnQtZmFjZT48L2RlZnM+PGcgc3Ryb2tlPSJub25lIiBzdHJva2Utb3BhY2l0eT0iMSIgc3Ryb2tlLWRhc2hhcnJheT0ibm9uZSIgZmlsbD0ibm9uZSIgZmlsbC1vcGFjaXR5PSIxIj48dGl0bGU+Q2FudmFzIDE8L3RpdGxlPjxyZWN0IGZpbGw9IndoaXRlIiB3aWR0aD0iNDI5IiBoZWlnaHQ9IjQ3NiIvPjxnPjx0aXRsZT5MYXllciAxPC90aXRsZT48cmVjdCB4PSIxOCIgeT0iMTgiIHdpZHRoPSIzNiIgaGVpZ2h0PSIzNiIgZmlsbD0id2hpdGUiLz48cmVjdCB4PSIxOCIgeT0iMTgiIHdpZHRoPSIzNiIgaGVpZ2h0PSIzNiIgc3Ryb2tlPSJibGFjayIgc3Ryb2tlLWxpbmVjYXA9InJvdW5kIiBzdHJva2UtbGluZWpvaW49InJvdW5kIiBzdHJva2Utd2lkdGg9IjEiLz48dGV4dCB0cmFuc2Zvcm09InRyYW5zbGF0ZSgyMyAyMSkiIGZpbGw9ImJsYWNrIj48dHNwYW4gZm9udC1mYW1pbHk9IkhlbHZldGljYSBOZXVlIiBmb250LXNpemU9IjI1IiBmb250LXdlaWdodD0iNTAwIiBmaWxsPSJibGFjayIgeD0iNS41ODc1IiB5PSIyNCIgdGV4dExlbmd0aD0iMTQuODI1Ij5iPC90c3Bhbj48L3RleHQ+PHRleHQgdHJhbnNmb3JtPSJ0cmFuc2xhdGUoMjcgNTUpIiBmaWxsPSJibGFjayI+PHRzcGFuIGZvbnQtZmFtaWx5PSJIZWx2ZXRpY2EgTmV1ZSIgZm9udC1zaXplPSIxNiIgZm9udC13ZWlnaHQ9IjUwMCIgeD0iLjQwOCIgeT0iMTUiIHRleHRMZW5ndGg9IjE3LjE4NCI+WzBdPC90c3Bhbj48L3RleHQ+PHJlY3QgeD0iNTQiIHk9IjE4IiB3aWR0aD0iMzYiIGhlaWdodD0iMzYiIGZpbGw9IndoaXRlIi8+PHJlY3QgeD0iNTQiIHk9IjE4IiB3aWR0aD0iMzYiIGhlaWdodD0iMzYiIHN0cm9rZT0iYmxhY2siIHN0cm9rZS1saW5lY2FwPSJyb3VuZCIgc3Ryb2tlLWxpbmVqb2luPSJyb3VuZCIgc3Ryb2tlLXdpZHRoPSIxIi8+PHRleHQgdHJhbnNmb3JtPSJ0cmFuc2xhdGUoNTkgMjEpIiBmaWxsPSJibGFjayI+PHRzcGFuIGZvbnQtZmFtaWx5PSJIZWx2ZXRpY2EgTmV1ZSIgZm9udC1zaXplPSIyNSIgZm9udC13ZWlnaHQ9IjUwMCIgeD0iNi4yODc1IiB5PSIyNCIgdGV4dExlbmd0aD0iMTMuNDI1Ij5hPC90c3Bhbj48L3RleHQ+PHRleHQgdHJhbnNmb3JtPSJ0cmFuc2xhdGUoNjMgNTUpIiBmaWxsPSJibGFjayI+PHRzcGFuIGZvbnQtZmFtaWx5PSJIZWx2ZXRpY2EgTmV1ZSIgZm9udC1zaXplPSIxNiIgZm9udC13ZWlnaHQ9IjUwMCIgeD0iLjQwOCIgeT0iMTUiIHRleHRMZW5ndGg9IjE3LjE4NCI+WzFdPC90c3Bhbj48L3RleHQ+PHJlY3QgeD0iOTAiIHk9IjE4IiB3aWR0aD0iMzYiIGhlaWdodD0iMzYiIGZpbGw9IndoaXRlIi8+PHJlY3QgeD0iOTAiIHk9IjE4IiB3aWR0aD0iMzYiIGhlaWdodD0iMzYiIHN0cm9rZT0iYmxhY2siIHN0cm9rZS1saW5lY2FwPSJyb3VuZCIgc3Ryb2tlLWxpbmVqb2luPSJyb3VuZCIgc3Ryb2tlLXdpZHRoPSIxIi8+PHRleHQgdHJhbnNmb3JtPSJ0cmFuc2xhdGUoOTUgMjEpIiBmaWxsPSJibGFjayI+PHRzcGFuIGZvbnQtZmFtaWx5PSJIZWx2ZXRpY2EgTmV1ZSIgZm9udC1zaXplPSIyNSIgZm9udC13ZWlnaHQ9IjUwMCIgeD0iNi4wNSIgeT0iMjQiIHRleHRMZW5ndGg9IjEzLjkiPm48L3RzcGFuPjwvdGV4dD48dGV4dCB0cmFuc2Zvcm09InRyYW5zbGF0ZSg5OSA1NSkiIGZpbGw9ImJsYWNrIj48dHNwYW4gZm9udC1mYW1pbHk9IkhlbHZldGljYSBOZXVlIiBmb250LXNpemU9IjE2IiBmb250LXdlaWdodD0iNTAwIiB4PSIuNDA4IiB5PSIxNSIgdGV4dExlbmd0aD0iMTcuMTg0Ij5bMl08L3RzcGFuPjwvdGV4dD48cmVjdCB4PSIxMjYiIHk9IjE4IiB3aWR0aD0iMzYiIGhlaWdodD0iMzYiIGZpbGw9IndoaXRlIi8+PHJlY3QgeD0iMTI2IiB5PSIxOCIgd2lkdGg9IjM2IiBoZWlnaHQ9IjM2IiBzdHJva2U9ImJsYWNrIiBzdHJva2UtbGluZWNhcD0icm91bmQiIHN0cm9rZS1saW5lam9pbj0icm91bmQiIHN0cm9rZS13aWR0aD0iMSIvPjx0ZXh0IHRyYW5zZm9ybT0idHJhbnNsYXRlKDEzMSAyMSkiIGZpbGw9ImJsYWNrIj48dHNwYW4gZm9udC1mYW1pbHk9IkhlbHZldGljYSBOZXVlIiBmb250LXNpemU9IjI1IiBmb250LXdlaWdodD0iNTAwIiB4PSI2LjI4NzUiIHk9IjI0IiB0ZXh0TGVuZ3RoPSIxMy40MjUiPmE8L3RzcGFuPjwvdGV4dD48dGV4dCB0cmFuc2Zvcm09InRyYW5zbGF0ZSgxMzUgNTUpIiBmaWxsPSJibGFjayI+PHRzcGFuIGZvbnQtZmFtaWx5PSJIZWx2ZXRpY2EgTmV1ZSIgZm9udC1zaXplPSIxNiIgZm9udC13ZWlnaHQ9IjUwMCIgeD0iLjQwOCIgeT0iMTUiIHRleHRMZW5ndGg9IjE3LjE4NCI+WzNdPC90c3Bhbj48L3RleHQ+PHJlY3QgeD0iMTYyIiB5PSIxOCIgd2lkdGg9IjM2IiBoZWlnaHQ9IjM2IiBmaWxsPSJ3aGl0ZSIvPjxyZWN0IHg9IjE2MiIgeT0iMTgiIHdpZHRoPSIzNiIgaGVpZ2h0PSIzNiIgc3Ryb2tlPSJibGFjayIgc3Ryb2tlLWxpbmVjYXA9InJvdW5kIiBzdHJva2UtbGluZWpvaW49InJvdW5kIiBzdHJva2Utd2lkdGg9IjEiLz48dGV4dCB0cmFuc2Zvcm09InRyYW5zbGF0ZSgxNjcgMjEpIiBmaWxsPSJibGFjayI+PHRzcGFuIGZvbnQtZmFtaWx5PSJIZWx2ZXRpY2EgTmV1ZSIgZm9udC1zaXplPSIyNSIgZm9udC13ZWlnaHQ9IjUwMCIgeD0iNi4wNSIgeT0iMjQiIHRleHRMZW5ndGg9IjEzLjkiPm48L3RzcGFuPjwvdGV4dD48dGV4dCB0cmFuc2Zvcm09InRyYW5zbGF0ZSgxNzEgNTUpIiBmaWxsPSJibGFjayI+PHRzcGFuIGZvbnQtZmFtaWx5PSJIZWx2ZXRpY2EgTmV1ZSIgZm9udC1zaXplPSIxNiIgZm9udC13ZWlnaHQ9IjUwMCIgeD0iLjQwOCIgeT0iMTUiIHRleHRMZW5ndGg9IjE3LjE4NCI+WzRdPC90c3Bhbj48L3RleHQ+PHJlY3QgeD0iMTk4IiB5PSIxOCIgd2lkdGg9IjM2IiBoZWlnaHQ9IjM2IiBmaWxsPSJ3aGl0ZSIvPjxyZWN0IHg9IjE5OCIgeT0iMTgiIHdpZHRoPSIzNiIgaGVpZ2h0PSIzNiIgc3Ryb2tlPSJibGFjayIgc3Ryb2tlLWxpbmVjYXA9InJvdW5kIiBzdHJva2UtbGluZWpvaW49InJvdW5kIiBzdHJva2Utd2lkdGg9IjEiLz48dGV4dCB0cmFuc2Zvcm09InRyYW5zbGF0ZSgyMDMgMjEpIiBmaWxsPSJibGFjayI+PHRzcGFuIGZvbnQtZmFtaWx5PSJIZWx2ZXRpY2EgTmV1ZSIgZm9udC1zaXplPSIyNSIgZm9udC13ZWlnaHQ9IjUwMCIgeD0iNi4yODc1IiB5PSIyNCIgdGV4dExlbmd0aD0iMTMuNDI1Ij5hPC90c3Bhbj48L3RleHQ+PHRleHQgdHJhbnNmb3JtPSJ0cmFuc2xhdGUoMjA3IDU1KSIgZmlsbD0iYmxhY2siPjx0c3BhbiBmb250LWZhbWlseT0iSGVsdmV0aWNhIE5ldWUiIGZvbnQtc2l6ZT0iMTYiIGZvbnQtd2VpZ2h0PSI1MDAiIHg9Ii40MDgiIHk9IjE1IiB0ZXh0TGVuZ3RoPSIxNy4xODQiPls1XTwvdHNwYW4+PC90ZXh0PjwvZz48L2c+PC9zdmc+Cg==)"
      ],
      "metadata": {
        "id": "wPxzVxcDnV1D"
      }
    },
    {
      "cell_type": "markdown",
      "source": [
        "You can use any expression, including variables and operators, as an index, but the value of the index has to be an integer. Otherwise you get:"
      ],
      "metadata": {
        "id": "VBFaf9t9nbgk"
      }
    },
    {
      "cell_type": "code",
      "source": [
        "letter = fruit[1.5]\n",
        "letter"
      ],
      "metadata": {
        "colab": {
          "base_uri": "https://localhost:8080/",
          "height": 159
        },
        "id": "Qk_XWLLEnjM7",
        "outputId": "0a31dcf4-a949-41ca-b76c-5c4df0db9d82"
      },
      "execution_count": null,
      "outputs": [
        {
          "output_type": "error",
          "ename": "TypeError",
          "evalue": "string indices must be integers",
          "traceback": [
            "\u001b[0;31m---------------------------------------------------------------------------\u001b[0m",
            "\u001b[0;31mTypeError\u001b[0m                                 Traceback (most recent call last)",
            "\u001b[0;32m<ipython-input-4-b1e5f0005f9d>\u001b[0m in \u001b[0;36m<cell line: 1>\u001b[0;34m()\u001b[0m\n\u001b[0;32m----> 1\u001b[0;31m \u001b[0mletter\u001b[0m \u001b[0;34m=\u001b[0m \u001b[0mfruit\u001b[0m\u001b[0;34m[\u001b[0m\u001b[0;36m1.5\u001b[0m\u001b[0;34m]\u001b[0m\u001b[0;34m\u001b[0m\u001b[0;34m\u001b[0m\u001b[0m\n\u001b[0m\u001b[1;32m      2\u001b[0m \u001b[0mletter\u001b[0m\u001b[0;34m\u001b[0m\u001b[0;34m\u001b[0m\u001b[0m\n",
            "\u001b[0;31mTypeError\u001b[0m: string indices must be integers"
          ]
        }
      ]
    },
    {
      "cell_type": "markdown",
      "source": [
        "### Getting the length of a string using len\n",
        "\n",
        "`len` is a built-in function that returns the number of characters in a string:"
      ],
      "metadata": {
        "id": "PJC6W5qDnnB7"
      }
    },
    {
      "cell_type": "code",
      "source": [
        "fruit = 'banana'\n",
        "len(fruit)"
      ],
      "metadata": {
        "colab": {
          "base_uri": "https://localhost:8080/"
        },
        "id": "_c4DZgz1nrgz",
        "outputId": "5987234e-b123-4a71-dfb8-663a08071125"
      },
      "execution_count": 4,
      "outputs": [
        {
          "output_type": "execute_result",
          "data": {
            "text/plain": [
              "6"
            ]
          },
          "metadata": {},
          "execution_count": 4
        }
      ]
    },
    {
      "cell_type": "markdown",
      "source": [
        "The expression fruit[-1] yields the last letter, fruit[-2] yields the second to last, and so on."
      ],
      "metadata": {
        "id": "85SGTYi8oWNS"
      }
    },
    {
      "cell_type": "code",
      "source": [
        "print(fruit[-1]) #going backwards\n",
        "print(fruit[-2]) #also going backwards"
      ],
      "metadata": {
        "colab": {
          "base_uri": "https://localhost:8080/"
        },
        "id": "3cwnabEsn-Ds",
        "outputId": "6403b96d-5f3c-4b07-d581-760fae187894"
      },
      "execution_count": 6,
      "outputs": [
        {
          "output_type": "stream",
          "name": "stdout",
          "text": [
            "a\n",
            "n\n"
          ]
        }
      ]
    },
    {
      "cell_type": "markdown",
      "source": [
        "### Traversal through a string with a loop\n",
        "\n",
        "A lot of computations involve processing a string one character at a time. Often they start at the beginning, select each character in turn, do something to it, and continue until the end. This pattern of processing is called a *traversal*. One way to write a traversal is with a `while` loop:"
      ],
      "metadata": {
        "id": "fJ0UNOWmoeEx"
      }
    },
    {
      "cell_type": "code",
      "source": [
        "index = 0\n",
        "while index < len(fruit):\n",
        "    letter = fruit[index]\n",
        "    print(letter)\n",
        "    index = index + 1 #increment"
      ],
      "metadata": {
        "colab": {
          "base_uri": "https://localhost:8080/"
        },
        "id": "tkmnXL9GokHC",
        "outputId": "29b8de08-c3ee-4bfe-8f46-2ccd62ebbc83"
      },
      "execution_count": 8,
      "outputs": [
        {
          "output_type": "stream",
          "name": "stdout",
          "text": [
            "b\n",
            "a\n",
            "n\n",
            "a\n",
            "n\n",
            "a\n"
          ]
        }
      ]
    },
    {
      "cell_type": "markdown",
      "source": [
        "This loop traverses the string and displays each letter on a line by itself. The loop condition is `index < len(fruit)`, so when `index` is equal to the length of the string, the condition is false, and the body of the loop is not executed. The last character accessed is the one with the index `len(fruit)-1`, which is the last character in the string."
      ],
      "metadata": {
        "id": "24e4SlUspCYb"
      }
    },
    {
      "cell_type": "markdown",
      "source": [
        "### String slices\n",
        "A segment of a string is called a `slice`. Selecting a slice is similar to selecting a character:"
      ],
      "metadata": {
        "id": "ZLh9IwXZpIqz"
      }
    },
    {
      "cell_type": "code",
      "source": [
        "s = 'Monty Python'\n",
        "print(s[0:5])\n",
        "print(s[6:12])"
      ],
      "metadata": {
        "colab": {
          "base_uri": "https://localhost:8080/"
        },
        "id": "Ok91JZqLpkTz",
        "outputId": "8ab78f36-8b55-4531-895d-b78249aba4ef"
      },
      "execution_count": null,
      "outputs": [
        {
          "output_type": "stream",
          "name": "stdout",
          "text": [
            "Monty\n",
            "Python\n"
          ]
        }
      ]
    },
    {
      "cell_type": "markdown",
      "source": [
        "The operator [n:m] returns the part of the string from the “n-th” character to the “m-th” character, including the first but excluding the last.\n",
        "\n",
        "If you omit the first index (before the colon), the slice starts at the beginning of the string. If you omit the second index, the slice goes to the end of the string:"
      ],
      "metadata": {
        "id": "3QsP-_mypqLs"
      }
    },
    {
      "cell_type": "code",
      "source": [
        "fruit = 'banana'\n",
        "print(fruit[:3])\n",
        "print(fruit[3:])"
      ],
      "metadata": {
        "colab": {
          "base_uri": "https://localhost:8080/"
        },
        "id": "_nICFpRNpyZ7",
        "outputId": "bbff5bea-3859-4cb8-c11b-5d6d6ed07ed8"
      },
      "execution_count": null,
      "outputs": [
        {
          "output_type": "stream",
          "name": "stdout",
          "text": [
            "ban\n",
            "ana\n"
          ]
        }
      ]
    },
    {
      "cell_type": "markdown",
      "source": [
        "If the first index is greater than or equal to the second the result is an empty string, represented by two quotation marks:"
      ],
      "metadata": {
        "id": "VtXM7C2icS5d"
      }
    },
    {
      "cell_type": "code",
      "source": [
        "fruit = 'banana'\n",
        "fruit[3:3]\n"
      ],
      "metadata": {
        "colab": {
          "base_uri": "https://localhost:8080/",
          "height": 35
        },
        "id": "soPZwbzRcWYj",
        "outputId": "9b8e501c-8c7a-40d3-cb0b-fe2b0bb646ad"
      },
      "execution_count": null,
      "outputs": [
        {
          "output_type": "execute_result",
          "data": {
            "text/plain": [
              "''"
            ],
            "application/vnd.google.colaboratory.intrinsic+json": {
              "type": "string"
            }
          },
          "metadata": {},
          "execution_count": 5
        }
      ]
    },
    {
      "cell_type": "markdown",
      "source": [
        "### Strings are immutable\n",
        "\n",
        "It is tempting to use the operator on the left side of an assignment, with the intention of changing a character in a string. For example:"
      ],
      "metadata": {
        "id": "-H94G22ocvqR"
      }
    },
    {
      "cell_type": "code",
      "source": [
        "greeting = 'Hello, world!'\n",
        "greeting[0] = 'J'"
      ],
      "metadata": {
        "colab": {
          "base_uri": "https://localhost:8080/",
          "height": 159
        },
        "id": "u8K-3r_ycyCp",
        "outputId": "7a12512a-5c4a-48b1-fb2f-5670fdbb78a7"
      },
      "execution_count": null,
      "outputs": [
        {
          "output_type": "error",
          "ename": "TypeError",
          "evalue": "'str' object does not support item assignment",
          "traceback": [
            "\u001b[0;31m---------------------------------------------------------------------------\u001b[0m",
            "\u001b[0;31mTypeError\u001b[0m                                 Traceback (most recent call last)",
            "\u001b[0;32m<ipython-input-6-217c78420f62>\u001b[0m in \u001b[0;36m<cell line: 2>\u001b[0;34m()\u001b[0m\n\u001b[1;32m      1\u001b[0m \u001b[0mgreeting\u001b[0m \u001b[0;34m=\u001b[0m \u001b[0;34m'Hello, world!'\u001b[0m\u001b[0;34m\u001b[0m\u001b[0;34m\u001b[0m\u001b[0m\n\u001b[0;32m----> 2\u001b[0;31m \u001b[0mgreeting\u001b[0m\u001b[0;34m[\u001b[0m\u001b[0;36m0\u001b[0m\u001b[0;34m]\u001b[0m \u001b[0;34m=\u001b[0m \u001b[0;34m'J'\u001b[0m\u001b[0;34m\u001b[0m\u001b[0;34m\u001b[0m\u001b[0m\n\u001b[0m",
            "\u001b[0;31mTypeError\u001b[0m: 'str' object does not support item assignment"
          ]
        }
      ]
    },
    {
      "cell_type": "markdown",
      "source": [
        "The reason for the error is that strings are immutable, which means you can’t change an existing string. The best you can do is create a new string that is a variation on the original:"
      ],
      "metadata": {
        "id": "m1NF2p-sc_Xs"
      }
    },
    {
      "cell_type": "code",
      "source": [
        "greeting = 'Hello, world!'\n",
        "new_greeting = 'J' + greeting[1:]\n",
        "print(new_greeting)"
      ],
      "metadata": {
        "colab": {
          "base_uri": "https://localhost:8080/"
        },
        "id": "1BoYO7HOdAP9",
        "outputId": "4a6ed1ec-1c0a-4eb0-8a62-6639dd5728cc"
      },
      "execution_count": null,
      "outputs": [
        {
          "output_type": "stream",
          "name": "stdout",
          "text": [
            "Jello, world!\n"
          ]
        }
      ]
    },
    {
      "cell_type": "markdown",
      "source": [
        "This example concatenates a new first letter onto a slice of `greeting`. It has no effect on the original string."
      ],
      "metadata": {
        "id": "O_LeWEdPdIyF"
      }
    },
    {
      "cell_type": "markdown",
      "source": [
        "### Looping and counting\n",
        "\n",
        "The following program counts the number of times the letter “a” appears in a string:"
      ],
      "metadata": {
        "id": "dH56w_2KdJS8"
      }
    },
    {
      "cell_type": "code",
      "source": [
        "word = 'bananaaaaa'\n",
        "count = 0\n",
        "for letter in word:\n",
        "   # For each iteration:\n",
        "    # 1. The variable 'letter' takes the value of the next character in 'banana'\n",
        "    #    Example sequence: 'b' → 'a' → 'n' → 'a' → 'n' → 'a'\n",
        "    if letter == 'a':\n",
        "     # 2. Check if the current 'letter' is 'a'\n",
        "        # 3. If true, increment the counter by 1\n",
        "        count = count + 1\n",
        "print(count)"
      ],
      "metadata": {
        "colab": {
          "base_uri": "https://localhost:8080/"
        },
        "id": "vPTupVJ9dTnj",
        "outputId": "86dd0c3a-a84c-434b-9de1-efe61eb1da85"
      },
      "execution_count": 9,
      "outputs": [
        {
          "output_type": "stream",
          "name": "stdout",
          "text": [
            "7\n"
          ]
        }
      ]
    },
    {
      "cell_type": "markdown",
      "source": [
        "This program demonstrates another pattern of computation called a *counter*. The variable `count` is initialized to 0 and then incremented each time an “a” is found. When the loop exits, `count` contains the result: the total number of a’s"
      ],
      "metadata": {
        "id": "GOu3-9_ldf0T"
      }
    },
    {
      "cell_type": "code",
      "source": [
        "# Using a while Loop\n",
        "word = 'bananaaaaaaaa'\n",
        "count = 0\n",
        "index = 0  # Start at the first character\n",
        "\n",
        "# Loop through each character using a while loop\n",
        "while index < len(word):  # Continue until the end of the string\n",
        "    if word[index] == 'a':  # Check if the current character is 'a'\n",
        "        count += 1  # Increment the counter\n",
        "    index += 1  # Move to the next character\n",
        "\n",
        "print(count)  # Output: 3"
      ],
      "metadata": {
        "colab": {
          "base_uri": "https://localhost:8080/"
        },
        "id": "AhYrnyWlaTE4",
        "outputId": "975df3c8-830f-4ecc-bd43-6ba01b3fbc4b"
      },
      "execution_count": 10,
      "outputs": [
        {
          "output_type": "stream",
          "name": "stdout",
          "text": [
            "10\n"
          ]
        }
      ]
    },
    {
      "cell_type": "markdown",
      "source": [
        "you can use a `while` loop, but it’s less efficient and more verbose for this specific task.\n",
        "\n",
        "The `for` loop is the preferred approach for iterating over sequences like strings."
      ],
      "metadata": {
        "id": "tkaQNSBaaoSg"
      }
    },
    {
      "cell_type": "markdown",
      "source": [
        "### The `in` operator\n",
        "\n",
        "The word `in` is a boolean operator that takes two strings and returns `True` if the first appears as a substring in the second:"
      ],
      "metadata": {
        "id": "YflUucuFdkNz"
      }
    },
    {
      "cell_type": "code",
      "source": [
        "'a' in 'banana'\n"
      ],
      "metadata": {
        "colab": {
          "base_uri": "https://localhost:8080/"
        },
        "id": "E0Hl0D06dqza",
        "outputId": "82ac7afb-d2b9-4d9e-e839-86cfe74f8f0b"
      },
      "execution_count": 13,
      "outputs": [
        {
          "output_type": "execute_result",
          "data": {
            "text/plain": [
              "True"
            ]
          },
          "metadata": {},
          "execution_count": 13
        }
      ]
    },
    {
      "cell_type": "code",
      "source": [
        "'seed' in 'banana'"
      ],
      "metadata": {
        "colab": {
          "base_uri": "https://localhost:8080/"
        },
        "id": "mVmIUbAidwMD",
        "outputId": "7c347671-f28c-45b7-9624-e245d08e2d7c"
      },
      "execution_count": null,
      "outputs": [
        {
          "output_type": "execute_result",
          "data": {
            "text/plain": [
              "False"
            ]
          },
          "metadata": {},
          "execution_count": 10
        }
      ]
    },
    {
      "cell_type": "markdown",
      "source": [
        "### String comparison\n",
        "\n",
        "The comparison operators work on strings."
      ],
      "metadata": {
        "id": "-TYBE6xSd09b"
      }
    },
    {
      "cell_type": "code",
      "source": [
        "# Get user input\n",
        "word = input(\"Enter a word: \")\n",
        "\n",
        "# Compare the word to 'banana'\n",
        "if word == 'banana':\n",
        "    print('All right, bananas.')\n",
        "elif word < 'banana':\n",
        "    print(f'Your word, \"{word}\", comes before \"banana\".')\n",
        "else:\n",
        "    print(f'Your word, \"{word}\", comes after \"banana\".')\n"
      ],
      "metadata": {
        "colab": {
          "base_uri": "https://localhost:8080/"
        },
        "id": "pTU1nVKEeBLq",
        "outputId": "b849b855-d958-4a86-b2d2-407de1bc1723"
      },
      "execution_count": null,
      "outputs": [
        {
          "output_type": "stream",
          "name": "stdout",
          "text": [
            "Enter a word: Pineapple\n",
            "Your word, \"Pineapple\", comes before \"banana\".\n"
          ]
        }
      ]
    },
    {
      "cell_type": "code",
      "source": [
        "word = input(\"Enter a word: \")\n",
        "\n",
        "if word.lower() == 'banana':\n",
        "    print('All right, bananas.')\n",
        "elif word.lower() < 'banana':\n",
        "    print(f'Your word, \"{word}\", comes before \"banana\".')\n",
        "else:\n",
        "    print(f'Your word, \"{word}\", comes after \"banana\".')\n"
      ],
      "metadata": {
        "colab": {
          "base_uri": "https://localhost:8080/"
        },
        "id": "xT1tS2rMe1OC",
        "outputId": "25ea89b2-39fa-40d2-ba6d-7efb79367d4d"
      },
      "execution_count": null,
      "outputs": [
        {
          "output_type": "stream",
          "name": "stdout",
          "text": [
            "Enter a word: Pineapple\n",
            "Your word, \"Pineapple\", comes after \"banana\".\n"
          ]
        }
      ]
    },
    {
      "cell_type": "markdown",
      "source": [
        "Explanation of the Comparison\n",
        "- Lexicographical Comparison: In Python, strings are compared alphabetically based on Unicode values of their characters. If you have `word < 'banana'`, it checks whether word appears before `\"banana\"` in alphabetical order.\n",
        "- Case Sensitivity: This comparison is case-sensitive. For example, `\"apple\" < \"banana\"` is `True`, but `\"Apple\" < \"banana\"` is `True` because uppercase letters have lower Unicode values than lowercase letters. You can use` word.lower()` if you want to make the comparison case-insensitive."
      ],
      "metadata": {
        "id": "P0KlaKc_fP7r"
      }
    },
    {
      "cell_type": "markdown",
      "source": [
        "### String methods\n",
        "Strings are an example of Python *objects*. An object contains both data (the actual string itself) and methods, which are effectively functions that are built into the object and are available to any instance of the object.\n",
        "\n",
        "Python has a function called `dir` which lists the methods available for an object. The `type` function shows the type of an object and the `dir` function shows the available methods."
      ],
      "metadata": {
        "id": "ePRESM6FfdVK"
      }
    },
    {
      "cell_type": "code",
      "source": [
        "stuff = 'Hello world'\n",
        "type(stuff)"
      ],
      "metadata": {
        "colab": {
          "base_uri": "https://localhost:8080/"
        },
        "id": "XBucnLHsgCuD",
        "outputId": "a7fb441c-f3a4-46fa-be55-92f28be4c2f9"
      },
      "execution_count": null,
      "outputs": [
        {
          "output_type": "execute_result",
          "data": {
            "text/plain": [
              "str"
            ]
          },
          "metadata": {},
          "execution_count": 19
        }
      ]
    },
    {
      "cell_type": "code",
      "source": [
        "dir(stuff)"
      ],
      "metadata": {
        "colab": {
          "base_uri": "https://localhost:8080/"
        },
        "id": "OCKWOXY3gKPD",
        "outputId": "de91f34d-a40f-4c76-ec7b-00d48688d737"
      },
      "execution_count": null,
      "outputs": [
        {
          "output_type": "execute_result",
          "data": {
            "text/plain": [
              "['__add__',\n",
              " '__class__',\n",
              " '__contains__',\n",
              " '__delattr__',\n",
              " '__dir__',\n",
              " '__doc__',\n",
              " '__eq__',\n",
              " '__format__',\n",
              " '__ge__',\n",
              " '__getattribute__',\n",
              " '__getitem__',\n",
              " '__getnewargs__',\n",
              " '__gt__',\n",
              " '__hash__',\n",
              " '__init__',\n",
              " '__init_subclass__',\n",
              " '__iter__',\n",
              " '__le__',\n",
              " '__len__',\n",
              " '__lt__',\n",
              " '__mod__',\n",
              " '__mul__',\n",
              " '__ne__',\n",
              " '__new__',\n",
              " '__reduce__',\n",
              " '__reduce_ex__',\n",
              " '__repr__',\n",
              " '__rmod__',\n",
              " '__rmul__',\n",
              " '__setattr__',\n",
              " '__sizeof__',\n",
              " '__str__',\n",
              " '__subclasshook__',\n",
              " 'capitalize',\n",
              " 'casefold',\n",
              " 'center',\n",
              " 'count',\n",
              " 'encode',\n",
              " 'endswith',\n",
              " 'expandtabs',\n",
              " 'find',\n",
              " 'format',\n",
              " 'format_map',\n",
              " 'index',\n",
              " 'isalnum',\n",
              " 'isalpha',\n",
              " 'isascii',\n",
              " 'isdecimal',\n",
              " 'isdigit',\n",
              " 'isidentifier',\n",
              " 'islower',\n",
              " 'isnumeric',\n",
              " 'isprintable',\n",
              " 'isspace',\n",
              " 'istitle',\n",
              " 'isupper',\n",
              " 'join',\n",
              " 'ljust',\n",
              " 'lower',\n",
              " 'lstrip',\n",
              " 'maketrans',\n",
              " 'partition',\n",
              " 'removeprefix',\n",
              " 'removesuffix',\n",
              " 'replace',\n",
              " 'rfind',\n",
              " 'rindex',\n",
              " 'rjust',\n",
              " 'rpartition',\n",
              " 'rsplit',\n",
              " 'rstrip',\n",
              " 'split',\n",
              " 'splitlines',\n",
              " 'startswith',\n",
              " 'strip',\n",
              " 'swapcase',\n",
              " 'title',\n",
              " 'translate',\n",
              " 'upper',\n",
              " 'zfill']"
            ]
          },
          "metadata": {},
          "execution_count": 20
        }
      ]
    },
    {
      "cell_type": "code",
      "source": [
        "help(str.capitalize)"
      ],
      "metadata": {
        "colab": {
          "base_uri": "https://localhost:8080/"
        },
        "id": "V2YIhBtkgahD",
        "outputId": "1c2ce645-9a3f-4929-a9f5-0660707d7e0b"
      },
      "execution_count": null,
      "outputs": [
        {
          "output_type": "stream",
          "name": "stdout",
          "text": [
            "Help on method_descriptor:\n",
            "\n",
            "capitalize(self, /)\n",
            "    Return a capitalized version of the string.\n",
            "    \n",
            "    More specifically, make the first character have upper case and the rest lower\n",
            "    case.\n",
            "\n"
          ]
        }
      ]
    },
    {
      "cell_type": "code",
      "source": [
        "help(str.strip)"
      ],
      "metadata": {
        "colab": {
          "base_uri": "https://localhost:8080/"
        },
        "id": "ABP5no2NgwR7",
        "outputId": "6361b7e5-fca3-47bc-ce12-043de4be4426"
      },
      "execution_count": null,
      "outputs": [
        {
          "output_type": "stream",
          "name": "stdout",
          "text": [
            "Help on method_descriptor:\n",
            "\n",
            "strip(self, chars=None, /)\n",
            "    Return a copy of the string with leading and trailing whitespace removed.\n",
            "    \n",
            "    If chars is given and not None, remove characters in chars instead.\n",
            "\n"
          ]
        }
      ]
    },
    {
      "cell_type": "code",
      "source": [
        "help(str.translate)"
      ],
      "metadata": {
        "colab": {
          "base_uri": "https://localhost:8080/"
        },
        "id": "w69Rno5YgzvK",
        "outputId": "9d46702c-b727-4aef-bae8-65bdac88e837"
      },
      "execution_count": null,
      "outputs": [
        {
          "output_type": "stream",
          "name": "stdout",
          "text": [
            "Help on method_descriptor:\n",
            "\n",
            "translate(self, table, /)\n",
            "    Replace each character in the string using the given translation table.\n",
            "    \n",
            "      table\n",
            "        Translation table, which must be a mapping of Unicode ordinals to\n",
            "        Unicode ordinals, strings, or None.\n",
            "    \n",
            "    The table must implement lookup/indexing via __getitem__, for instance a\n",
            "    dictionary or list.  If this operation raises LookupError, the character is\n",
            "    left untouched.  Characters mapped to None are deleted.\n",
            "\n"
          ]
        }
      ]
    },
    {
      "cell_type": "markdown",
      "source": [
        "While the `dir` function lists the methods, and you can use `help` to get some simple documentation on a method, a better source of documentation for string methods would be\n",
        "\n",
        "https://docs.python.org/library/stdtypes.html#string-methods."
      ],
      "metadata": {
        "id": "PD2BEihNhJRy"
      }
    },
    {
      "cell_type": "markdown",
      "source": [
        "Calling a *method* is similar to calling a function (it takes arguments and returns a value) but the syntax is different. We call a method by appending the method name to the variable name using the period as a delimiter.\n",
        "\n",
        "For example, the method `upper` takes a string and returns a new string with all uppercase letters:\n",
        "\n",
        "\n",
        "Instead of the function syntax `upper(word)`, it uses the method syntax `word.upper()`."
      ],
      "metadata": {
        "id": "qSOaWbF4hMkT"
      }
    },
    {
      "cell_type": "code",
      "source": [
        "word = 'banana'\n",
        "new_word = word.upper()\n",
        "print(new_word)"
      ],
      "metadata": {
        "colab": {
          "base_uri": "https://localhost:8080/"
        },
        "id": "ahroxiIihURT",
        "outputId": "c0141915-3d59-444b-8632-4193e3ee3b19"
      },
      "execution_count": null,
      "outputs": [
        {
          "output_type": "stream",
          "name": "stdout",
          "text": [
            "BANANA\n"
          ]
        }
      ]
    },
    {
      "cell_type": "markdown",
      "source": [
        "This form of dot notation specifies the name of the method, `upper`, and the name of the string to apply the method to, `word.` The empty parentheses indicate that this method takes no argument.\n",
        "\n",
        "A method call is called an *invocation*; in this case, we would say that we are invoking `upper` on the `word`.\n",
        "\n",
        "For example, there is a string method named `find` that searches for the position of one string within another:"
      ],
      "metadata": {
        "id": "s2R4ycwGhsdR"
      }
    },
    {
      "cell_type": "code",
      "source": [
        "word = 'banana'\n",
        "index = word.find('a')\n",
        "print(index)"
      ],
      "metadata": {
        "colab": {
          "base_uri": "https://localhost:8080/"
        },
        "id": "xUcCQH1Xhzh7",
        "outputId": "8e0deaaa-c07c-41c0-f004-b8c37165992b"
      },
      "execution_count": null,
      "outputs": [
        {
          "output_type": "stream",
          "name": "stdout",
          "text": [
            "1\n"
          ]
        }
      ]
    },
    {
      "cell_type": "markdown",
      "source": [
        "Explaination:\n",
        "\n",
        "- This code assigns the string `'banana'` to the variable word.\n",
        "- The `find('a')` method searches for the first occurrence of the substring `'a'` in `word`.\n",
        "- In `'banana'`, the first `'a'` appears at index `1` (remember, indexing in Python starts at `0`).\n",
        "- The output is `1`."
      ],
      "metadata": {
        "id": "_k_muF6Jisr7"
      }
    },
    {
      "cell_type": "markdown",
      "source": [
        "In this example, we invoke `find` on `word` and pass the letter we are looking for as a parameter.\n",
        "\n",
        "The `find` method can find substrings as well as characters:"
      ],
      "metadata": {
        "id": "yqBKctMeh4xj"
      }
    },
    {
      "cell_type": "code",
      "source": [
        "word.find('na')"
      ],
      "metadata": {
        "colab": {
          "base_uri": "https://localhost:8080/"
        },
        "id": "avwCMHVSh8vx",
        "outputId": "9296f192-05bf-4415-a60f-6fe032c77628"
      },
      "execution_count": null,
      "outputs": [
        {
          "output_type": "execute_result",
          "data": {
            "text/plain": [
              "2"
            ]
          },
          "metadata": {},
          "execution_count": 26
        }
      ]
    },
    {
      "cell_type": "markdown",
      "source": [
        "Explaination:\n",
        "\n",
        "- `find('na')` looks for the substring `'na'` in `'banana'`.\n",
        "- The first occurrence of `'na'` in `'banana'` starts at index `2`.\n",
        "- So, the output of this would be `2`."
      ],
      "metadata": {
        "id": "rQAGFxt8jLvL"
      }
    },
    {
      "cell_type": "markdown",
      "source": [
        "It can take as a second argument the index where it should start:"
      ],
      "metadata": {
        "id": "WS6XdxxliHwq"
      }
    },
    {
      "cell_type": "code",
      "source": [
        "word.find('na', 3)"
      ],
      "metadata": {
        "colab": {
          "base_uri": "https://localhost:8080/"
        },
        "id": "CAhYOmKyiI7z",
        "outputId": "208bd928-993d-4f98-8582-a08517db2afe"
      },
      "execution_count": null,
      "outputs": [
        {
          "output_type": "execute_result",
          "data": {
            "text/plain": [
              "4"
            ]
          },
          "metadata": {},
          "execution_count": 27
        }
      ]
    },
    {
      "cell_type": "markdown",
      "source": [
        "Explaination:\n",
        "\n",
        "- This is a more advanced use of `find()`. Here, `word.find('na', 3)` is searching for the substring `'na'` starting from index `3` onwards.\n",
        "- Starting the search from index `3` means that it will skip the initial `'na'` at index `2` and search for any occurrences from index `3` to the end of the string.\n",
        "- In `'banana'`, the second `'na'` starts at index `4`.\n",
        "- So, the output would be `4`."
      ],
      "metadata": {
        "id": "-pZMznS1jguV"
      }
    },
    {
      "cell_type": "markdown",
      "source": [
        "One common task is to remove white space (spaces, tabs, or newlines) from the beginning and end of a string using the `strip` method:"
      ],
      "metadata": {
        "id": "w4AVy6LpjwMb"
      }
    },
    {
      "cell_type": "code",
      "source": [
        "line = '  Here we go  '\n",
        "line.strip()"
      ],
      "metadata": {
        "colab": {
          "base_uri": "https://localhost:8080/",
          "height": 35
        },
        "id": "hup3dqY_j1rb",
        "outputId": "8a4b7a67-9d57-4ce7-b4cf-42fcd207fefb"
      },
      "execution_count": null,
      "outputs": [
        {
          "output_type": "execute_result",
          "data": {
            "text/plain": [
              "'Here we go'"
            ],
            "application/vnd.google.colaboratory.intrinsic+json": {
              "type": "string"
            }
          },
          "metadata": {},
          "execution_count": 28
        }
      ]
    },
    {
      "cell_type": "markdown",
      "source": [
        "Some methods such as startswith return boolean values."
      ],
      "metadata": {
        "id": "Y6ap2-Mej8Hk"
      }
    },
    {
      "cell_type": "code",
      "source": [
        "line = 'Have a nice day'\n",
        "line.startswith('Have')"
      ],
      "metadata": {
        "colab": {
          "base_uri": "https://localhost:8080/"
        },
        "id": "4O0kxXGqj8m0",
        "outputId": "c6c88b5f-b600-4808-8a99-18e272b6e684"
      },
      "execution_count": null,
      "outputs": [
        {
          "output_type": "execute_result",
          "data": {
            "text/plain": [
              "True"
            ]
          },
          "metadata": {},
          "execution_count": 29
        }
      ]
    },
    {
      "cell_type": "code",
      "source": [
        "line.startswith('h')"
      ],
      "metadata": {
        "colab": {
          "base_uri": "https://localhost:8080/",
          "height": 141
        },
        "id": "aSVgAhDHkCoT",
        "outputId": "646d3870-3909-4c8d-e289-f4be812cc065"
      },
      "execution_count": 15,
      "outputs": [
        {
          "output_type": "error",
          "ename": "NameError",
          "evalue": "name 'line' is not defined",
          "traceback": [
            "\u001b[0;31m---------------------------------------------------------------------------\u001b[0m",
            "\u001b[0;31mNameError\u001b[0m                                 Traceback (most recent call last)",
            "\u001b[0;32m<ipython-input-15-02398975603e>\u001b[0m in \u001b[0;36m<cell line: 0>\u001b[0;34m()\u001b[0m\n\u001b[0;32m----> 1\u001b[0;31m \u001b[0mline\u001b[0m\u001b[0;34m.\u001b[0m\u001b[0mstartswith\u001b[0m\u001b[0;34m(\u001b[0m\u001b[0;34m'h'\u001b[0m\u001b[0;34m)\u001b[0m\u001b[0;34m\u001b[0m\u001b[0;34m\u001b[0m\u001b[0m\n\u001b[0m",
            "\u001b[0;31mNameError\u001b[0m: name 'line' is not defined"
          ]
        }
      ]
    },
    {
      "cell_type": "markdown",
      "source": [
        "You will note that `startswith` requires case to match, so sometimes we take a line and map it all to lowercase before we do any checking using the `lower` method."
      ],
      "metadata": {
        "id": "jxOdZFyskExz"
      }
    },
    {
      "cell_type": "code",
      "source": [
        "line = 'Have a nice day'\n",
        "line.startswith('h')"
      ],
      "metadata": {
        "colab": {
          "base_uri": "https://localhost:8080/"
        },
        "id": "WOaowSnrkIKz",
        "outputId": "bb2f889e-e4d9-49dd-b032-4869f9b36bac"
      },
      "execution_count": null,
      "outputs": [
        {
          "output_type": "execute_result",
          "data": {
            "text/plain": [
              "False"
            ]
          },
          "metadata": {},
          "execution_count": 31
        }
      ]
    },
    {
      "cell_type": "code",
      "source": [
        "line.lower()\n",
        "print(line.lower())\n",
        "line.lower().startswith('h')"
      ],
      "metadata": {
        "colab": {
          "base_uri": "https://localhost:8080/"
        },
        "id": "2PINoRNBkKmj",
        "outputId": "0fc470b6-0177-4eae-d29f-04a83e2bad17"
      },
      "execution_count": null,
      "outputs": [
        {
          "output_type": "stream",
          "name": "stdout",
          "text": [
            "have a nice day\n"
          ]
        },
        {
          "output_type": "execute_result",
          "data": {
            "text/plain": [
              "True"
            ]
          },
          "metadata": {},
          "execution_count": 32
        }
      ]
    },
    {
      "cell_type": "markdown",
      "source": [
        "### Parsing strings\n",
        "Often, we want to look into a string and find a substring. For example if we were presented a series of lines formatted as follows:\n",
        "\n",
        "`From stephen.marquard@ augusta.edu Sat Jan  5 09:14:16 2024`\n",
        "\n",
        "and we wanted to pull out only the second half of the address (i.e., `augusta.edu`) from each line, we can do this by using the `find` method and string slicing.\n",
        "\n",
        "First, we will find the position of the at-sign in the string. Then we will find the position of the first space *after* the at-sign. And then we will use string slicing to extract the portion of the string which we are looking for."
      ],
      "metadata": {
        "id": "lHp1c9sckX8j"
      }
    },
    {
      "cell_type": "code",
      "source": [
        "# Step 1: Find the Position of the @ Symbol\n",
        "data = 'From stephen.marquard@augusta.edu Sat Jan  5 09:14:16 2024'\n",
        "atpos = data.find('@')\n",
        "print(atpos)"
      ],
      "metadata": {
        "colab": {
          "base_uri": "https://localhost:8080/"
        },
        "id": "Vf2byD6BkvND",
        "outputId": "dd43f09a-9bf7-4c6c-943c-857a4c9e0097"
      },
      "execution_count": null,
      "outputs": [
        {
          "output_type": "stream",
          "name": "stdout",
          "text": [
            "21\n"
          ]
        }
      ]
    },
    {
      "cell_type": "code",
      "source": [
        "# Step 2: Find the Position of the First Space After the @ Symbol\n",
        "sppos = data.find(' ',atpos)\n",
        "print(sppos)"
      ],
      "metadata": {
        "colab": {
          "base_uri": "https://localhost:8080/"
        },
        "id": "aKuaIdJFlJtN",
        "outputId": "7a56d392-211a-4999-e2dd-d6fb5cc0b567"
      },
      "execution_count": null,
      "outputs": [
        {
          "output_type": "stream",
          "name": "stdout",
          "text": [
            "33\n"
          ]
        }
      ]
    },
    {
      "cell_type": "code",
      "source": [
        "# Step 3: Use String Slicing to Extract the Domain\n",
        "host = data[atpos+1:sppos]\n",
        "print(host)"
      ],
      "metadata": {
        "colab": {
          "base_uri": "https://localhost:8080/"
        },
        "id": "7LMHw8SulOCD",
        "outputId": "a9ed7557-3b42-4935-f35e-3387df297822"
      },
      "execution_count": null,
      "outputs": [
        {
          "output_type": "stream",
          "name": "stdout",
          "text": [
            "augusta.edu\n"
          ]
        }
      ]
    },
    {
      "cell_type": "markdown",
      "source": [
        "Explaination:\n",
        "\n",
        "- `data[atpos+1 : sppos]` uses string slicing to extract the characters starting from one position after `@` (i.e., `atpos + 1`) up to, but not including, the position of the first space after `@` (i.e., `sppos`).\n",
        "- This slice effectively captures the substring between `@` and the next space.\n",
        "- In this case, the slice `data[22:33]` extracts the substring 'augusta.edu', which is the domain part of the email address.\n",
        "- The variable `host` is assigned this value."
      ],
      "metadata": {
        "id": "ArcKHysqmU7q"
      }
    },
    {
      "cell_type": "markdown",
      "source": [
        "We use a version of the `find` method which allows us to specify a position in the string where we want `find` to start looking. When we slice, we extract the characters from “one beyond the at-sign through up to but not including the space character”.\n",
        "\n",
        "The documentation for the `find` method is available at\n",
        "\n",
        "https://docs.python.org/library/stdtypes.html#string-methods."
      ],
      "metadata": {
        "id": "SIesmH8HlRpr"
      }
    },
    {
      "cell_type": "markdown",
      "source": [
        "### Formatted String Literals\n",
        "A formatted string literal (often referred to simply as an f-string) allows Python expressions to be used within string literals. This is accomplished by prepending an `f` to the string literal and enclosing expressions in curly braces `{}`.\n",
        "\n",
        "For example, wrapping a variable name in curly braces inside an f-string will cause it to be replaced by its value:"
      ],
      "metadata": {
        "id": "-jyE2XFOlWJ0"
      }
    },
    {
      "cell_type": "code",
      "source": [
        "camels = 42\n",
        "f'I have spotted {camels} camels.'"
      ],
      "metadata": {
        "colab": {
          "base_uri": "https://localhost:8080/",
          "height": 35
        },
        "id": "3Q2OyWgZnQVz",
        "outputId": "62bc7434-a8f0-4504-bb1b-282463434c1f"
      },
      "execution_count": null,
      "outputs": [
        {
          "output_type": "execute_result",
          "data": {
            "text/plain": [
              "'I have spotted 42 camels.'"
            ],
            "application/vnd.google.colaboratory.intrinsic+json": {
              "type": "string"
            }
          },
          "metadata": {},
          "execution_count": 42
        }
      ]
    },
    {
      "cell_type": "markdown",
      "source": [
        "Several expressions can be included within a single string literal in order to create more complex strings."
      ],
      "metadata": {
        "id": "A72X3H4XnTNc"
      }
    },
    {
      "cell_type": "code",
      "source": [
        "years = 3\n",
        "count = .1\n",
        "species = 'camels'\n",
        "f'In {years} years I have spotted {count} {species}.'"
      ],
      "metadata": {
        "colab": {
          "base_uri": "https://localhost:8080/",
          "height": 35
        },
        "id": "ZBtsFKRgnTzb",
        "outputId": "9ddca6ac-6589-4d9e-bece-f72f79ced395"
      },
      "execution_count": null,
      "outputs": [
        {
          "output_type": "execute_result",
          "data": {
            "text/plain": [
              "'In 3 years I have spotted 0.1 camels.'"
            ],
            "application/vnd.google.colaboratory.intrinsic+json": {
              "type": "string"
            }
          },
          "metadata": {},
          "execution_count": 43
        }
      ]
    },
    {
      "cell_type": "markdown",
      "source": [
        "Formatted string literals are powerful, and they can do even more than is covered here. You can read more about them at\n",
        "\n",
        "https://docs.python.org/3/tutorial/inputoutput.html#formatted-string-literals."
      ],
      "metadata": {
        "id": "ywmpEALinZYT"
      }
    },
    {
      "cell_type": "markdown",
      "source": [],
      "metadata": {
        "id": "0TfsxFXinaID"
      }
    }
  ]
}